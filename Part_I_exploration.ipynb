{
 "cells": [
  {
   "cell_type": "markdown",
   "id": "b2f94fe7",
   "metadata": {
    "papermill": {
     "duration": 0.015814,
     "end_time": "2024-08-04T16:46:07.259291",
     "exception": false,
     "start_time": "2024-08-04T16:46:07.243477",
     "status": "completed"
    },
    "tags": []
   },
   "source": [
    "# Part I - Exploring the Prosper Loan Dataset\n",
    "## By Sondos Aabed\n",
    "\n",
    "> My Github: [@sondosaabed](https://github.com/sondosaabed) \n",
    "\n",
    "> My LinkedIn: [@sondosaabed](https://www.linkedin.com/in/sondosaabed/)\n",
    "\n",
    "<hr/>"
   ]
  },
  {
   "cell_type": "markdown",
   "id": "0ecc612a",
   "metadata": {
    "papermill": {
     "duration": 0.014645,
     "end_time": "2024-08-04T16:46:07.291518",
     "exception": false,
     "start_time": "2024-08-04T16:46:07.276873",
     "status": "completed"
    },
    "tags": []
   },
   "source": [
    "## Abstract\n"
   ]
  },
  {
   "cell_type": "markdown",
   "id": "10f71cf8",
   "metadata": {
    "papermill": {
     "duration": 0.019124,
     "end_time": "2024-08-04T16:46:07.327120",
     "exception": false,
     "start_time": "2024-08-04T16:46:07.307996",
     "status": "completed"
    },
    "tags": []
   },
   "source": [
    "<hr/>"
   ]
  },
  {
   "cell_type": "markdown",
   "id": "058d6a01",
   "metadata": {
    "papermill": {
     "duration": 0.017235,
     "end_time": "2024-08-04T16:46:07.361806",
     "exception": false,
     "start_time": "2024-08-04T16:46:07.344571",
     "status": "completed"
    },
    "tags": []
   },
   "source": [
    "## Table of Contents\n",
    "- Introduction\n",
    "    - Data Dictionary\n",
    "- Objectives\n",
    "- Premirely Wrangling\n",
    "- Univariate extrapolation\n",
    "- Bivariate extrapolation\n",
    "- Multivariate extrapolation\n",
    "- Conclusions"
   ]
  },
  {
   "cell_type": "markdown",
   "id": "d531732d",
   "metadata": {
    "papermill": {
     "duration": 0.013794,
     "end_time": "2024-08-04T16:46:07.391417",
     "exception": false,
     "start_time": "2024-08-04T16:46:07.377623",
     "status": "completed"
    },
    "tags": []
   },
   "source": [
    "<hr/>"
   ]
  },
  {
   "cell_type": "markdown",
   "id": "e9074c6c",
   "metadata": {
    "papermill": {
     "duration": 0.014959,
     "end_time": "2024-08-04T16:46:07.421508",
     "exception": false,
     "start_time": "2024-08-04T16:46:07.406549",
     "status": "completed"
    },
    "tags": []
   },
   "source": [
    "## Introduction"
   ]
  },
  {
   "cell_type": "markdown",
   "id": "cefa4e1a",
   "metadata": {
    "papermill": {
     "duration": 0.014732,
     "end_time": "2024-08-04T16:46:07.453756",
     "exception": false,
     "start_time": "2024-08-04T16:46:07.439024",
     "status": "completed"
    },
    "tags": []
   },
   "source": [
    "> Introduce the dataset"
   ]
  },
  {
   "cell_type": "markdown",
   "id": "cb4aa633",
   "metadata": {
    "papermill": {
     "duration": 0.01556,
     "end_time": "2024-08-04T16:46:07.484735",
     "exception": false,
     "start_time": "2024-08-04T16:46:07.469175",
     "status": "completed"
    },
    "tags": []
   },
   "source": [
    "### Data Dictionary\n",
    "The following data dictionary shows each variable of the dataset and the corresponding description:"
   ]
  },
  {
   "cell_type": "markdown",
   "id": "bae61795",
   "metadata": {
    "papermill": {
     "duration": 0.014996,
     "end_time": "2024-08-04T16:46:07.513096",
     "exception": false,
     "start_time": "2024-08-04T16:46:07.498100",
     "status": "completed"
    },
    "tags": []
   },
   "source": [
    "| Variable                                | Description                                                                                                                                                                   |\n",
    "|-----------------------------------------|-------------------------------------------------------------------------------------------------------------------------------------------------------------------------------|\n",
    "| ListingKey                              | Unique key for each listing, same value as the 'key' used in the listing object in the API.                                                                                   |\n",
    "| ListingNumber                           | The number that uniquely identifies the listing to the public as displayed on the website.                                                                                    |\n",
    "| ListingCreationDate                     | The date the listing was created.                                                                                                                                             |\n",
    "| CreditGrade                             | The Credit rating that was assigned at the time the listing went live. Applicable for listings pre-2009 period and will only be populated for those listings.                 |\n",
    "| Term                                    | The length of the loan expressed in months.                                                                                                                                   |\n",
    "| LoanStatus                              | The current status of the loan: Cancelled, Chargedoff, Completed, Current, Defaulted, FinalPaymentInProgress, PastDue. The PastDue status will be accompanied by a delinquency bucket. |\n",
    "| ClosedDate                              | Closed date is applicable for Cancelled, Completed, Chargedoff and Defaulted loan statuses.                                                                                   |\n",
    "| BorrowerAPR                             | The Borrower's Annual Percentage Rate (APR) for the loan.                                                                                                                     |\n",
    "| BorrowerRate                            | The Borrower's interest rate for this loan.                                                                                                                                   |\n",
    "| LenderYield                             | The Lender yield on the loan. Lender yield is equal to the interest rate on the loan less the servicing fee.                                                                  |\n",
    "| EstimatedEffectiveYield                 | Effective yield is equal to the borrower interest rate (i) minus the servicing fee rate, (ii) minus estimated uncollected interest on charge-offs, (iii) plus estimated collected late fees.  Applicable for loans originated after July 2009. |\n",
    "| EstimatedLoss                           | Estimated loss is the estimated principal loss on charge-offs. Applicable for loans originated after July 2009.                                                                |\n",
    "| EstimatedReturn                         | The estimated return assigned to the listing at the time it was created. Estimated return is the difference between the Estimated Effective Yield and the Estimated Loss Rate. Applicable for loans originated after July 2009. |\n",
    "| ProsperRating (numeric)                 | The Prosper Rating assigned at the time the listing was created: 0 - N/A, 1 - HR, 2 - E, 3 - D, 4 - C, 5 - B, 6 - A, 7 - AA.  Applicable for loans originated after July 2009.  |\n",
    "| ProsperRating (Alpha)                   | The Prosper Rating assigned at the time the listing was created between AA - HR.  Applicable for loans originated after July 2009.                                            |\n",
    "| ProsperScore                            | A custom risk score built using historical Prosper data. The score ranges from 1-10, with 10 being the best, or lowest risk score.  Applicable for loans originated after July 2009. |\n",
    "| ListingCategory                         | The category of the listing that the borrower selected when posting their listing: 0 - Not Available, 1 - Debt Consolidation, 2 - Home Improvement, 3 - Business, 4 - Personal Loan, 5 - Student Use, 6 - Auto, 7 - Other, 8 - Baby&Adoption, 9 - Boat, 10 - Cosmetic Procedure, 11 - Engagement Ring, 12 - Green Loans, 13 - Household Expenses, 14 - Large Purchases, 15 - Medical/Dental, 16 - Motorcycle, 17 - RV, 18 - Taxes, 19 - Vacation, 20 - Wedding Loans |\n",
    "| BorrowerState                           | The two letter abbreviation of the state of the address of the borrower at the time the Listing was created.                                                                   |\n",
    "| Occupation                              | The Occupation selected by the Borrower at the time they created the listing.                                                                                                 |\n",
    "| EmploymentStatus                        | The employment status of the borrower at the time they posted the listing.                                                                                                    |\n",
    "| EmploymentStatusDuration                | The length in months of the employment status at the time the listing was created.                                                                                            |\n",
    "| IsBorrowerHomeowner                     | A Borrower will be classified as a homeowner if they have a mortgage on their credit profile or provide documentation confirming they are a homeowner.                        |\n",
    "| CurrentlyInGroup                        | Specifies whether or not the Borrower was in a group at the time the listing was created.                                                                                     |\n",
    "| GroupKey                                | The Key of the group in which the Borrower is a member of. Value will be null if the borrower does not have a group affiliation.                                              |\n",
    "| DateCreditPulled                        | The date the credit profile was pulled.                                                                                                                                       |\n",
    "| CreditScoreRangeLower                   | The lower value representing the range of the borrower's credit score as provided by a consumer credit rating agency.                                                         |\n",
    "| CreditScoreRangeUpper                   | The upper value representing the range of the borrower's credit score as provided by a consumer credit rating agency.                                                         |\n",
    "| FirstRecordedCreditLine                 | The date the first credit line was opened.                                                                                                                                    |\n",
    "| CurrentCreditLines                      | Number of current credit lines at the time the credit profile was pulled.                                                                                                     |\n",
    "| OpenCreditLines                         | Number of open credit lines at the time the credit profile was pulled.                                                                                                        |\n",
    "| TotalCreditLinespast7years              | Number of credit lines in the past seven years at the time the credit profile was pulled.                                                                                     |\n",
    "| OpenRevolvingAccounts                   | Number of open revolving accounts at the time the credit profile was pulled.                                                                                                  |\n",
    "| OpenRevolvingMonthlyPayment             | Monthly payment on revolving accounts at the time the credit profile was pulled.                                                                                              |\n",
    "| InquiriesLast6Months                    | Number of inquiries in the past six months at the time the credit profile was pulled.                                                                                         |\n",
    "| TotalInquiries                          | Total number of inquiries at the time the credit profile was pulled.                                                                                                          |\n",
    "| CurrentDelinquencies                    | Number of accounts delinquent at the time the credit profile was pulled.                                                                                                      |\n",
    "| AmountDelinquent                        | Dollars delinquent at the time the credit profile was pulled.                                                                                                                 |\n",
    "| DelinquenciesLast7Years                 | Number of delinquencies in the past 7 years at the time the credit profile was pulled.                                                                                        |\n",
    "| PublicRecordsLast10Years                | Number of public records in the past 10 years at the time the credit profile was pulled.                                                                                      |\n",
    "| PublicRecordsLast12Months               | Number of public records in the past 12 months at the time the credit profile was pulled.                                                                                     |\n",
    "| RevolvingCreditBalance                  | Dollars of revolving credit at the time the credit profile was pulled.                                                                                                        |\n",
    "| BankcardUtilization                     | The percentage of available revolving credit that is utilized at the time the credit profile was pulled.                                                                      |\n",
    "| AvailableBankcardCredit                 | The total available credit via bank card at the time the credit profile was pulled.                                                                                           |\n",
    "| TotalTrades                             | Number of trade lines ever opened at the time the credit profile was pulled.                                                                                                  |\n",
    "| TradesNeverDelinquent                   | Number of trades that have never been delinquent at the time the credit profile was pulled.                                                                                   |\n",
    "| TradesOpenedLast6Months                 | Number of trades opened in the last 6 months at the time the credit profile was pulled.                                                                                       |\n",
    "| DebtToIncomeRatio                       | The debt to income ratio of the borrower at the time the credit profile was pulled. This value is Null if the debt to income ratio is not available. This value is capped at 10.01 (any debt to income ratio larger than 1000% will be returned as 1001%). |\n",
    "| IncomeRange                             | The income range of the borrower at the time the listing was created.                                                                                                         |\n",
    "| IncomeVerifiable                        | The borrower indicated they have the required documentation to support their income.                                                                                          |\n",
    "| StatedMonthlyIncome                     | The monthly income the borrower stated at the time the listing was created.                                                                                                   |\n",
    "| LoanKey                                 | Unique key for each loan. This is the same key that is used in the API.                                                                                                       |\n",
    "| TotalProsperLoans                       | Number of Prosper loans the borrower at the time they created this listing. This value will be null if the borrower had no prior loans.                                       |\n",
    "| TotalProsperPaymentsBilled              | Number of on time payments the borrower made on Prosper loans at the time they created this listing. This value will be null if the borrower had no prior loans.             |\n",
    "| OnTimeProsperPayments                   | Number of on time payments the borrower had made on Prosper loans at the time they created this listing. This value will be null if the borrower has no prior loans.         |\n",
    "| ProsperPaymentsLessThanOneMonthLate     | Number of payments the borrower made on Prosper loans that were less than one month late at the time they created this listing. This value will be null if the borrower had no prior loans. |\n",
    "| ProsperPaymentsOneMonthPlusLate         | Number of payments the borrower made on Prosper loans that were greater than one month late at the time they created this listing. This value will be null if the borrower had no prior loans. |\n",
    "| ProsperPrincipalBorrowed                | Total principal borrowed on Prosper loans at the time the listing was created. This value will be null if the borrower had no prior loans.                                     |\n",
    "| ProsperPrincipalOutstanding             | Principal outstanding on Prosper loans at the time the listing was created. This value will be null if the borrower had no prior loans.                                        |\n",
    "| ScorexChangeAtTimeOfListing             | Borrower's credit score change at the time the credit profile was pulled. This will be the change relative to the borrower's last Prosper loan. This value will be null if the borrower had no prior loans. |\n",
    "| LoanCurrentDaysDelinquent               | The number of days delinquent.                                                                                                                                               |\n",
    "| LoanFirstDefaultedCycleNumber           | The cycle the loan was charged off. If the loan has not charged off the value will be null.                                                                                   |\n",
    "| LoanMonthsSinceOrigination              | Months since the loan originated.                                                                                                                                            |\n",
    "| LoanNumber                              | The number that uniquely identifies the loan to the public as displayed on the website.                                                                                      |\n",
    "| LoanOriginalAmount                      | The original amount of the loan.                                                                                                                                             |\n",
    "| LoanOriginationDate                     | The date the loan originated.                                                                                                                                                |\n",
    "| LoanOriginationQuarter                  | The quarter in which the loan originated.                                                                                                                                    |\n",
    "| MemberKey                               | Unique key for each member. This is the same key that is used in the API.                                                                                                     |\n",
    "| MonthlyLoanPayment                      | The monthly payment (principal and interest) the borrower is required to make for this loan.                                                                                 |\n",
    "| LP_CustomerPayments                     | The total payments (principal + interest) that have been made on the loan by the borrower.                                                                                   |\n",
    "| LP_CustomerPrincipalPayments            | The total principal payments that have been made on the loan by the borrower.                                                                                                |\n",
    "| LP_InterestandFees                      | Interest and fees paid by the borrower.                                                                                                                                      |\n",
    "| LP_ServiceFees                          | The servicing fees paid by the borrower.                                                                                                                                    |\n",
    "| LP_CollectionFees                       | The collection fees paid by the borrower.                                                                                                                                   |\n",
    "| LP_GrossPrincipalLoss                   | Gross principal loss on the loan.                                                                                                                                           |\n",
    "| LP_NetPrincipalLoss                     | Net principal loss on the loan.                                                                                                                                             |\n",
    "| LP_NonPrincipalRecoverypayments         | Non-principal recovery payments on the loan.                                                                                                                                |\n",
    "| PercentFunded                           | The percentage of the loan that was funded.                                                                                                                                 |\n",
    "| Recommendations                         | Number of recommendations the borrower had at the time they created the listing.                                                                                            |\n",
    "| InvestmentFromFriendsCount              | Number of investments that were made by friends at the time the listing was created.                                                                                        |\n",
    "| InvestmentFromFriendsAmount             | The dollar amount of investments that were made by friends at the time the listing was created.                                                                              |\n",
    "| Investors                               | The number of investors that funded the loan.                                                                                                                               |\n"
   ]
  },
  {
   "cell_type": "markdown",
   "id": "98db9d44",
   "metadata": {
    "papermill": {
     "duration": 0.012439,
     "end_time": "2024-08-04T16:46:07.540758",
     "exception": false,
     "start_time": "2024-08-04T16:46:07.528319",
     "status": "completed"
    },
    "tags": []
   },
   "source": [
    "<hr/>"
   ]
  },
  {
   "cell_type": "markdown",
   "id": "7939b613",
   "metadata": {
    "papermill": {
     "duration": 0.013367,
     "end_time": "2024-08-04T16:46:07.568557",
     "exception": false,
     "start_time": "2024-08-04T16:46:07.555190",
     "status": "completed"
    },
    "tags": []
   },
   "source": [
    "## Objectives\n",
    "\n",
    "**1.  Loan Performance Analysis**\n",
    "\n",
    "**2.  Credit Score and Borrower Analysis**\n",
    "\n",
    "**3.  Geographic and Demographic Analysis**"
   ]
  },
  {
   "cell_type": "markdown",
   "id": "5232c026",
   "metadata": {
    "papermill": {
     "duration": 0.015781,
     "end_time": "2024-08-04T16:46:07.599413",
     "exception": false,
     "start_time": "2024-08-04T16:46:07.583632",
     "status": "completed"
    },
    "tags": []
   },
   "source": [
    "<hr/>"
   ]
  },
  {
   "cell_type": "markdown",
   "id": "8630288e",
   "metadata": {
    "papermill": {
     "duration": 0.015629,
     "end_time": "2024-08-04T16:46:07.631939",
     "exception": false,
     "start_time": "2024-08-04T16:46:07.616310",
     "status": "completed"
    },
    "tags": []
   },
   "source": [
    "## Preliminary Wrangling"
   ]
  },
  {
   "cell_type": "markdown",
   "id": "9175e557",
   "metadata": {
    "papermill": {
     "duration": 0.014163,
     "end_time": "2024-08-04T16:46:07.660657",
     "exception": false,
     "start_time": "2024-08-04T16:46:07.646494",
     "status": "completed"
    },
    "tags": []
   },
   "source": [
    "- In this section, a preliminary data wrangling is done on the dataset. Here is what this include:\n",
    "- "
   ]
  },
  {
   "cell_type": "code",
   "execution_count": 1,
   "id": "ce0b6824",
   "metadata": {
    "execution": {
     "iopub.execute_input": "2024-08-04T16:46:07.695988Z",
     "iopub.status.busy": "2024-08-04T16:46:07.695440Z",
     "iopub.status.idle": "2024-08-04T16:46:11.014245Z",
     "shell.execute_reply": "2024-08-04T16:46:11.012591Z"
    },
    "papermill": {
     "duration": 3.33712,
     "end_time": "2024-08-04T16:46:11.017529",
     "exception": false,
     "start_time": "2024-08-04T16:46:07.680409",
     "status": "completed"
    },
    "tags": []
   },
   "outputs": [],
   "source": [
    "## import all packages\n",
    "import numpy as np\n",
    "import pandas as pd\n",
    "import matplotlib.pyplot as plt\n",
    "import seaborn as sns"
   ]
  },
  {
   "cell_type": "markdown",
   "id": "8d75e979",
   "metadata": {
    "papermill": {
     "duration": 0.01467,
     "end_time": "2024-08-04T16:46:11.046720",
     "exception": false,
     "start_time": "2024-08-04T16:46:11.032050",
     "status": "completed"
    },
    "tags": []
   },
   "source": [
    "### Loading the dataset"
   ]
  },
  {
   "cell_type": "markdown",
   "id": "f9195441",
   "metadata": {
    "papermill": {
     "duration": 0.012575,
     "end_time": "2024-08-04T16:46:11.072721",
     "exception": false,
     "start_time": "2024-08-04T16:46:11.060146",
     "status": "completed"
    },
    "tags": []
   },
   "source": [
    "> Let's Load in the dataset into a pandas dataframe:"
   ]
  },
  {
   "cell_type": "code",
   "execution_count": 2,
   "id": "0c184fda",
   "metadata": {
    "execution": {
     "iopub.execute_input": "2024-08-04T16:46:11.102298Z",
     "iopub.status.busy": "2024-08-04T16:46:11.101735Z",
     "iopub.status.idle": "2024-08-04T16:46:14.380478Z",
     "shell.execute_reply": "2024-08-04T16:46:14.378900Z"
    },
    "papermill": {
     "duration": 3.298265,
     "end_time": "2024-08-04T16:46:14.383803",
     "exception": false,
     "start_time": "2024-08-04T16:46:11.085538",
     "status": "completed"
    },
    "tags": []
   },
   "outputs": [
    {
     "data": {
      "text/html": [
       "<div>\n",
       "<style scoped>\n",
       "    .dataframe tbody tr th:only-of-type {\n",
       "        vertical-align: middle;\n",
       "    }\n",
       "\n",
       "    .dataframe tbody tr th {\n",
       "        vertical-align: top;\n",
       "    }\n",
       "\n",
       "    .dataframe thead th {\n",
       "        text-align: right;\n",
       "    }\n",
       "</style>\n",
       "<table border=\"1\" class=\"dataframe\">\n",
       "  <thead>\n",
       "    <tr style=\"text-align: right;\">\n",
       "      <th></th>\n",
       "      <th>ListingKey</th>\n",
       "      <th>ListingNumber</th>\n",
       "      <th>ListingCreationDate</th>\n",
       "      <th>CreditGrade</th>\n",
       "      <th>Term</th>\n",
       "      <th>LoanStatus</th>\n",
       "      <th>ClosedDate</th>\n",
       "      <th>BorrowerAPR</th>\n",
       "      <th>BorrowerRate</th>\n",
       "      <th>LenderYield</th>\n",
       "      <th>...</th>\n",
       "      <th>LP_ServiceFees</th>\n",
       "      <th>LP_CollectionFees</th>\n",
       "      <th>LP_GrossPrincipalLoss</th>\n",
       "      <th>LP_NetPrincipalLoss</th>\n",
       "      <th>LP_NonPrincipalRecoverypayments</th>\n",
       "      <th>PercentFunded</th>\n",
       "      <th>Recommendations</th>\n",
       "      <th>InvestmentFromFriendsCount</th>\n",
       "      <th>InvestmentFromFriendsAmount</th>\n",
       "      <th>Investors</th>\n",
       "    </tr>\n",
       "  </thead>\n",
       "  <tbody>\n",
       "    <tr>\n",
       "      <th>95406</th>\n",
       "      <td>237C3422869241381227945</td>\n",
       "      <td>351542</td>\n",
       "      <td>2008-06-16 17:06:33.757000000</td>\n",
       "      <td>A</td>\n",
       "      <td>36</td>\n",
       "      <td>Completed</td>\n",
       "      <td>2009-04-30 00:00:00</td>\n",
       "      <td>0.24406</td>\n",
       "      <td>0.2290</td>\n",
       "      <td>0.2190</td>\n",
       "      <td>...</td>\n",
       "      <td>-186.24</td>\n",
       "      <td>0.00</td>\n",
       "      <td>0.00</td>\n",
       "      <td>0.00</td>\n",
       "      <td>0.0</td>\n",
       "      <td>1.0</td>\n",
       "      <td>0</td>\n",
       "      <td>0</td>\n",
       "      <td>0.0</td>\n",
       "      <td>315</td>\n",
       "    </tr>\n",
       "    <tr>\n",
       "      <th>107396</th>\n",
       "      <td>DB283596294276350D2EDA1</td>\n",
       "      <td>1067252</td>\n",
       "      <td>2013-12-10 15:55:41.950000000</td>\n",
       "      <td>NaN</td>\n",
       "      <td>60</td>\n",
       "      <td>Current</td>\n",
       "      <td>NaN</td>\n",
       "      <td>0.24856</td>\n",
       "      <td>0.2235</td>\n",
       "      <td>0.2135</td>\n",
       "      <td>...</td>\n",
       "      <td>-16.91</td>\n",
       "      <td>0.00</td>\n",
       "      <td>0.00</td>\n",
       "      <td>0.00</td>\n",
       "      <td>0.0</td>\n",
       "      <td>1.0</td>\n",
       "      <td>0</td>\n",
       "      <td>0</td>\n",
       "      <td>0.0</td>\n",
       "      <td>1</td>\n",
       "    </tr>\n",
       "    <tr>\n",
       "      <th>56912</th>\n",
       "      <td>21863588530079383F2A17B</td>\n",
       "      <td>914501</td>\n",
       "      <td>2013-09-15 20:59:06.263000000</td>\n",
       "      <td>NaN</td>\n",
       "      <td>60</td>\n",
       "      <td>Current</td>\n",
       "      <td>NaN</td>\n",
       "      <td>0.18555</td>\n",
       "      <td>0.1620</td>\n",
       "      <td>0.1520</td>\n",
       "      <td>...</td>\n",
       "      <td>-61.48</td>\n",
       "      <td>0.00</td>\n",
       "      <td>0.00</td>\n",
       "      <td>0.00</td>\n",
       "      <td>0.0</td>\n",
       "      <td>1.0</td>\n",
       "      <td>0</td>\n",
       "      <td>0</td>\n",
       "      <td>0.0</td>\n",
       "      <td>88</td>\n",
       "    </tr>\n",
       "    <tr>\n",
       "      <th>55111</th>\n",
       "      <td>1EDC3535241726238D9092B</td>\n",
       "      <td>548107</td>\n",
       "      <td>2012-01-02 11:47:51.060000000</td>\n",
       "      <td>NaN</td>\n",
       "      <td>36</td>\n",
       "      <td>Current</td>\n",
       "      <td>NaN</td>\n",
       "      <td>0.28974</td>\n",
       "      <td>0.2511</td>\n",
       "      <td>0.2411</td>\n",
       "      <td>...</td>\n",
       "      <td>-30.57</td>\n",
       "      <td>0.00</td>\n",
       "      <td>0.00</td>\n",
       "      <td>0.00</td>\n",
       "      <td>0.0</td>\n",
       "      <td>1.0</td>\n",
       "      <td>0</td>\n",
       "      <td>0</td>\n",
       "      <td>0.0</td>\n",
       "      <td>30</td>\n",
       "    </tr>\n",
       "    <tr>\n",
       "      <th>113731</th>\n",
       "      <td>FE123552708319307EEDD9B</td>\n",
       "      <td>609121</td>\n",
       "      <td>2012-07-08 16:50:59.770000000</td>\n",
       "      <td>NaN</td>\n",
       "      <td>36</td>\n",
       "      <td>Current</td>\n",
       "      <td>NaN</td>\n",
       "      <td>0.07821</td>\n",
       "      <td>0.0649</td>\n",
       "      <td>0.0549</td>\n",
       "      <td>...</td>\n",
       "      <td>-100.52</td>\n",
       "      <td>0.00</td>\n",
       "      <td>0.00</td>\n",
       "      <td>0.00</td>\n",
       "      <td>0.0</td>\n",
       "      <td>1.0</td>\n",
       "      <td>0</td>\n",
       "      <td>2</td>\n",
       "      <td>150.0</td>\n",
       "      <td>197</td>\n",
       "    </tr>\n",
       "    <tr>\n",
       "      <th>40763</th>\n",
       "      <td>4E813464996816436C46230</td>\n",
       "      <td>429215</td>\n",
       "      <td>2009-10-18 13:54:52.383000000</td>\n",
       "      <td>NaN</td>\n",
       "      <td>36</td>\n",
       "      <td>Chargedoff</td>\n",
       "      <td>2012-08-27 00:00:00</td>\n",
       "      <td>0.33342</td>\n",
       "      <td>0.3095</td>\n",
       "      <td>0.2995</td>\n",
       "      <td>...</td>\n",
       "      <td>-59.09</td>\n",
       "      <td>-92.05</td>\n",
       "      <td>1497.21</td>\n",
       "      <td>1519.11</td>\n",
       "      <td>0.0</td>\n",
       "      <td>1.0</td>\n",
       "      <td>0</td>\n",
       "      <td>0</td>\n",
       "      <td>0.0</td>\n",
       "      <td>69</td>\n",
       "    </tr>\n",
       "    <tr>\n",
       "      <th>15488</th>\n",
       "      <td>9D6C3604295719764384DAF</td>\n",
       "      <td>1177096</td>\n",
       "      <td>2014-02-22 22:46:33.437000000</td>\n",
       "      <td>NaN</td>\n",
       "      <td>60</td>\n",
       "      <td>Current</td>\n",
       "      <td>NaN</td>\n",
       "      <td>0.17710</td>\n",
       "      <td>0.1535</td>\n",
       "      <td>0.1435</td>\n",
       "      <td>...</td>\n",
       "      <td>0.00</td>\n",
       "      <td>0.00</td>\n",
       "      <td>0.00</td>\n",
       "      <td>0.00</td>\n",
       "      <td>0.0</td>\n",
       "      <td>1.0</td>\n",
       "      <td>0</td>\n",
       "      <td>0</td>\n",
       "      <td>0.0</td>\n",
       "      <td>1</td>\n",
       "    </tr>\n",
       "    <tr>\n",
       "      <th>43197</th>\n",
       "      <td>44DE3478123797356CD2765</td>\n",
       "      <td>448276</td>\n",
       "      <td>2010-02-26 16:53:04.083000000</td>\n",
       "      <td>NaN</td>\n",
       "      <td>36</td>\n",
       "      <td>Completed</td>\n",
       "      <td>2011-06-01 00:00:00</td>\n",
       "      <td>0.11296</td>\n",
       "      <td>0.0920</td>\n",
       "      <td>0.0820</td>\n",
       "      <td>...</td>\n",
       "      <td>-35.57</td>\n",
       "      <td>0.00</td>\n",
       "      <td>0.00</td>\n",
       "      <td>0.00</td>\n",
       "      <td>0.0</td>\n",
       "      <td>1.0</td>\n",
       "      <td>0</td>\n",
       "      <td>0</td>\n",
       "      <td>0.0</td>\n",
       "      <td>105</td>\n",
       "    </tr>\n",
       "    <tr>\n",
       "      <th>39716</th>\n",
       "      <td>49E933676626124782F7746</td>\n",
       "      <td>36871</td>\n",
       "      <td>2006-09-05 13:35:59.107000000</td>\n",
       "      <td>AA</td>\n",
       "      <td>36</td>\n",
       "      <td>Completed</td>\n",
       "      <td>2009-09-20 00:00:00</td>\n",
       "      <td>0.10280</td>\n",
       "      <td>0.0959</td>\n",
       "      <td>0.0884</td>\n",
       "      <td>...</td>\n",
       "      <td>-80.67</td>\n",
       "      <td>0.00</td>\n",
       "      <td>0.00</td>\n",
       "      <td>0.00</td>\n",
       "      <td>0.0</td>\n",
       "      <td>1.0</td>\n",
       "      <td>0</td>\n",
       "      <td>0</td>\n",
       "      <td>0.0</td>\n",
       "      <td>139</td>\n",
       "    </tr>\n",
       "    <tr>\n",
       "      <th>28395</th>\n",
       "      <td>F3163595196822224F48394</td>\n",
       "      <td>1055706</td>\n",
       "      <td>2013-11-26 16:10:05.620000000</td>\n",
       "      <td>NaN</td>\n",
       "      <td>60</td>\n",
       "      <td>Current</td>\n",
       "      <td>NaN</td>\n",
       "      <td>0.17327</td>\n",
       "      <td>0.1500</td>\n",
       "      <td>0.1400</td>\n",
       "      <td>...</td>\n",
       "      <td>-48.79</td>\n",
       "      <td>0.00</td>\n",
       "      <td>0.00</td>\n",
       "      <td>0.00</td>\n",
       "      <td>0.0</td>\n",
       "      <td>1.0</td>\n",
       "      <td>0</td>\n",
       "      <td>0</td>\n",
       "      <td>0.0</td>\n",
       "      <td>1</td>\n",
       "    </tr>\n",
       "  </tbody>\n",
       "</table>\n",
       "<p>10 rows × 81 columns</p>\n",
       "</div>"
      ],
      "text/plain": [
       "                     ListingKey  ListingNumber            ListingCreationDate  \\\n",
       "95406   237C3422869241381227945         351542  2008-06-16 17:06:33.757000000   \n",
       "107396  DB283596294276350D2EDA1        1067252  2013-12-10 15:55:41.950000000   \n",
       "56912   21863588530079383F2A17B         914501  2013-09-15 20:59:06.263000000   \n",
       "55111   1EDC3535241726238D9092B         548107  2012-01-02 11:47:51.060000000   \n",
       "113731  FE123552708319307EEDD9B         609121  2012-07-08 16:50:59.770000000   \n",
       "40763   4E813464996816436C46230         429215  2009-10-18 13:54:52.383000000   \n",
       "15488   9D6C3604295719764384DAF        1177096  2014-02-22 22:46:33.437000000   \n",
       "43197   44DE3478123797356CD2765         448276  2010-02-26 16:53:04.083000000   \n",
       "39716   49E933676626124782F7746          36871  2006-09-05 13:35:59.107000000   \n",
       "28395   F3163595196822224F48394        1055706  2013-11-26 16:10:05.620000000   \n",
       "\n",
       "       CreditGrade  Term  LoanStatus           ClosedDate  BorrowerAPR  \\\n",
       "95406            A    36   Completed  2009-04-30 00:00:00      0.24406   \n",
       "107396         NaN    60     Current                  NaN      0.24856   \n",
       "56912          NaN    60     Current                  NaN      0.18555   \n",
       "55111          NaN    36     Current                  NaN      0.28974   \n",
       "113731         NaN    36     Current                  NaN      0.07821   \n",
       "40763          NaN    36  Chargedoff  2012-08-27 00:00:00      0.33342   \n",
       "15488          NaN    60     Current                  NaN      0.17710   \n",
       "43197          NaN    36   Completed  2011-06-01 00:00:00      0.11296   \n",
       "39716           AA    36   Completed  2009-09-20 00:00:00      0.10280   \n",
       "28395          NaN    60     Current                  NaN      0.17327   \n",
       "\n",
       "        BorrowerRate  LenderYield  ...  LP_ServiceFees  LP_CollectionFees  \\\n",
       "95406         0.2290       0.2190  ...         -186.24               0.00   \n",
       "107396        0.2235       0.2135  ...          -16.91               0.00   \n",
       "56912         0.1620       0.1520  ...          -61.48               0.00   \n",
       "55111         0.2511       0.2411  ...          -30.57               0.00   \n",
       "113731        0.0649       0.0549  ...         -100.52               0.00   \n",
       "40763         0.3095       0.2995  ...          -59.09             -92.05   \n",
       "15488         0.1535       0.1435  ...            0.00               0.00   \n",
       "43197         0.0920       0.0820  ...          -35.57               0.00   \n",
       "39716         0.0959       0.0884  ...          -80.67               0.00   \n",
       "28395         0.1500       0.1400  ...          -48.79               0.00   \n",
       "\n",
       "        LP_GrossPrincipalLoss  LP_NetPrincipalLoss  \\\n",
       "95406                    0.00                 0.00   \n",
       "107396                   0.00                 0.00   \n",
       "56912                    0.00                 0.00   \n",
       "55111                    0.00                 0.00   \n",
       "113731                   0.00                 0.00   \n",
       "40763                 1497.21              1519.11   \n",
       "15488                    0.00                 0.00   \n",
       "43197                    0.00                 0.00   \n",
       "39716                    0.00                 0.00   \n",
       "28395                    0.00                 0.00   \n",
       "\n",
       "       LP_NonPrincipalRecoverypayments  PercentFunded  Recommendations  \\\n",
       "95406                              0.0            1.0                0   \n",
       "107396                             0.0            1.0                0   \n",
       "56912                              0.0            1.0                0   \n",
       "55111                              0.0            1.0                0   \n",
       "113731                             0.0            1.0                0   \n",
       "40763                              0.0            1.0                0   \n",
       "15488                              0.0            1.0                0   \n",
       "43197                              0.0            1.0                0   \n",
       "39716                              0.0            1.0                0   \n",
       "28395                              0.0            1.0                0   \n",
       "\n",
       "       InvestmentFromFriendsCount InvestmentFromFriendsAmount Investors  \n",
       "95406                           0                         0.0       315  \n",
       "107396                          0                         0.0         1  \n",
       "56912                           0                         0.0        88  \n",
       "55111                           0                         0.0        30  \n",
       "113731                          2                       150.0       197  \n",
       "40763                           0                         0.0        69  \n",
       "15488                           0                         0.0         1  \n",
       "43197                           0                         0.0       105  \n",
       "39716                           0                         0.0       139  \n",
       "28395                           0                         0.0         1  \n",
       "\n",
       "[10 rows x 81 columns]"
      ]
     },
     "execution_count": 2,
     "metadata": {},
     "output_type": "execute_result"
    }
   ],
   "source": [
    "df = pd.read_csv(\"/kaggle/input/prosper-loan/prosperLoanData.csv\") ## Load the csv into pandas dataframe\n",
    "df.sample(10) ## Looking at a random sample of 10 rows."
   ]
  },
  {
   "cell_type": "markdown",
   "id": "376080f1",
   "metadata": {
    "papermill": {
     "duration": 0.01356,
     "end_time": "2024-08-04T16:46:14.411288",
     "exception": false,
     "start_time": "2024-08-04T16:46:14.397728",
     "status": "completed"
    },
    "tags": []
   },
   "source": [
    "### Dataset Structure"
   ]
  },
  {
   "cell_type": "code",
   "execution_count": 3,
   "id": "b8bfc70d",
   "metadata": {
    "execution": {
     "iopub.execute_input": "2024-08-04T16:46:14.440617Z",
     "iopub.status.busy": "2024-08-04T16:46:14.439912Z",
     "iopub.status.idle": "2024-08-04T16:46:14.446921Z",
     "shell.execute_reply": "2024-08-04T16:46:14.445816Z"
    },
    "papermill": {
     "duration": 0.025184,
     "end_time": "2024-08-04T16:46:14.449350",
     "exception": false,
     "start_time": "2024-08-04T16:46:14.424166",
     "status": "completed"
    },
    "tags": []
   },
   "outputs": [
    {
     "data": {
      "text/plain": [
       "(113937, 81)"
      ]
     },
     "execution_count": 3,
     "metadata": {},
     "output_type": "execute_result"
    }
   ],
   "source": [
    "df.shape ## showing the shape of the dataset"
   ]
  },
  {
   "cell_type": "markdown",
   "id": "e7ad4972",
   "metadata": {
    "papermill": {
     "duration": 0.013405,
     "end_time": "2024-08-04T16:46:14.479382",
     "exception": false,
     "start_time": "2024-08-04T16:46:14.465977",
     "status": "completed"
    },
    "tags": []
   },
   "source": [
    "> This dataset has 113,937 rows and 81 columns. Which is a relatively big dataset."
   ]
  },
  {
   "cell_type": "markdown",
   "id": "3608b2f3",
   "metadata": {
    "papermill": {
     "duration": 0.013113,
     "end_time": "2024-08-04T16:46:14.507211",
     "exception": false,
     "start_time": "2024-08-04T16:46:14.494098",
     "status": "completed"
    },
    "tags": []
   },
   "source": [
    "### Dataset Assessment and Cleaning"
   ]
  },
  {
   "cell_type": "markdown",
   "id": "32a72274",
   "metadata": {
    "papermill": {
     "duration": 0.015102,
     "end_time": "2024-08-04T16:46:14.605660",
     "exception": false,
     "start_time": "2024-08-04T16:46:14.590558",
     "status": "completed"
    },
    "tags": []
   },
   "source": [
    "#### Data types Validity"
   ]
  },
  {
   "cell_type": "markdown",
   "id": "ccb61a04",
   "metadata": {
    "papermill": {
     "duration": 0.020616,
     "end_time": "2024-08-04T16:46:14.642023",
     "exception": false,
     "start_time": "2024-08-04T16:46:14.621407",
     "status": "completed"
    },
    "tags": []
   },
   "source": [
    "- Assessment: Let's look at the data types of these variables and assess them using `.info`:"
   ]
  },
  {
   "cell_type": "code",
   "execution_count": 4,
   "id": "41377142",
   "metadata": {
    "execution": {
     "iopub.execute_input": "2024-08-04T16:46:14.676358Z",
     "iopub.status.busy": "2024-08-04T16:46:14.675624Z",
     "iopub.status.idle": "2024-08-04T16:46:14.814197Z",
     "shell.execute_reply": "2024-08-04T16:46:14.812799Z"
    },
    "papermill": {
     "duration": 0.158958,
     "end_time": "2024-08-04T16:46:14.818138",
     "exception": false,
     "start_time": "2024-08-04T16:46:14.659180",
     "status": "completed"
    },
    "tags": []
   },
   "outputs": [
    {
     "name": "stdout",
     "output_type": "stream",
     "text": [
      "<class 'pandas.core.frame.DataFrame'>\n",
      "RangeIndex: 113937 entries, 0 to 113936\n",
      "Data columns (total 81 columns):\n",
      " #   Column                               Non-Null Count   Dtype  \n",
      "---  ------                               --------------   -----  \n",
      " 0   ListingKey                           113937 non-null  object \n",
      " 1   ListingNumber                        113937 non-null  int64  \n",
      " 2   ListingCreationDate                  113937 non-null  object \n",
      " 3   CreditGrade                          28953 non-null   object \n",
      " 4   Term                                 113937 non-null  int64  \n",
      " 5   LoanStatus                           113937 non-null  object \n",
      " 6   ClosedDate                           55089 non-null   object \n",
      " 7   BorrowerAPR                          113912 non-null  float64\n",
      " 8   BorrowerRate                         113937 non-null  float64\n",
      " 9   LenderYield                          113937 non-null  float64\n",
      " 10  EstimatedEffectiveYield              84853 non-null   float64\n",
      " 11  EstimatedLoss                        84853 non-null   float64\n",
      " 12  EstimatedReturn                      84853 non-null   float64\n",
      " 13  ProsperRating (numeric)              84853 non-null   float64\n",
      " 14  ProsperRating (Alpha)                84853 non-null   object \n",
      " 15  ProsperScore                         84853 non-null   float64\n",
      " 16  ListingCategory (numeric)            113937 non-null  int64  \n",
      " 17  BorrowerState                        108422 non-null  object \n",
      " 18  Occupation                           110349 non-null  object \n",
      " 19  EmploymentStatus                     111682 non-null  object \n",
      " 20  EmploymentStatusDuration             106312 non-null  float64\n",
      " 21  IsBorrowerHomeowner                  113937 non-null  bool   \n",
      " 22  CurrentlyInGroup                     113937 non-null  bool   \n",
      " 23  GroupKey                             13341 non-null   object \n",
      " 24  DateCreditPulled                     113937 non-null  object \n",
      " 25  CreditScoreRangeLower                113346 non-null  float64\n",
      " 26  CreditScoreRangeUpper                113346 non-null  float64\n",
      " 27  FirstRecordedCreditLine              113240 non-null  object \n",
      " 28  CurrentCreditLines                   106333 non-null  float64\n",
      " 29  OpenCreditLines                      106333 non-null  float64\n",
      " 30  TotalCreditLinespast7years           113240 non-null  float64\n",
      " 31  OpenRevolvingAccounts                113937 non-null  int64  \n",
      " 32  OpenRevolvingMonthlyPayment          113937 non-null  float64\n",
      " 33  InquiriesLast6Months                 113240 non-null  float64\n",
      " 34  TotalInquiries                       112778 non-null  float64\n",
      " 35  CurrentDelinquencies                 113240 non-null  float64\n",
      " 36  AmountDelinquent                     106315 non-null  float64\n",
      " 37  DelinquenciesLast7Years              112947 non-null  float64\n",
      " 38  PublicRecordsLast10Years             113240 non-null  float64\n",
      " 39  PublicRecordsLast12Months            106333 non-null  float64\n",
      " 40  RevolvingCreditBalance               106333 non-null  float64\n",
      " 41  BankcardUtilization                  106333 non-null  float64\n",
      " 42  AvailableBankcardCredit              106393 non-null  float64\n",
      " 43  TotalTrades                          106393 non-null  float64\n",
      " 44  TradesNeverDelinquent (percentage)   106393 non-null  float64\n",
      " 45  TradesOpenedLast6Months              106393 non-null  float64\n",
      " 46  DebtToIncomeRatio                    105383 non-null  float64\n",
      " 47  IncomeRange                          113937 non-null  object \n",
      " 48  IncomeVerifiable                     113937 non-null  bool   \n",
      " 49  StatedMonthlyIncome                  113937 non-null  float64\n",
      " 50  LoanKey                              113937 non-null  object \n",
      " 51  TotalProsperLoans                    22085 non-null   float64\n",
      " 52  TotalProsperPaymentsBilled           22085 non-null   float64\n",
      " 53  OnTimeProsperPayments                22085 non-null   float64\n",
      " 54  ProsperPaymentsLessThanOneMonthLate  22085 non-null   float64\n",
      " 55  ProsperPaymentsOneMonthPlusLate      22085 non-null   float64\n",
      " 56  ProsperPrincipalBorrowed             22085 non-null   float64\n",
      " 57  ProsperPrincipalOutstanding          22085 non-null   float64\n",
      " 58  ScorexChangeAtTimeOfListing          18928 non-null   float64\n",
      " 59  LoanCurrentDaysDelinquent            113937 non-null  int64  \n",
      " 60  LoanFirstDefaultedCycleNumber        16952 non-null   float64\n",
      " 61  LoanMonthsSinceOrigination           113937 non-null  int64  \n",
      " 62  LoanNumber                           113937 non-null  int64  \n",
      " 63  LoanOriginalAmount                   113937 non-null  int64  \n",
      " 64  LoanOriginationDate                  113937 non-null  object \n",
      " 65  LoanOriginationQuarter               113937 non-null  object \n",
      " 66  MemberKey                            113937 non-null  object \n",
      " 67  MonthlyLoanPayment                   113937 non-null  float64\n",
      " 68  LP_CustomerPayments                  113937 non-null  float64\n",
      " 69  LP_CustomerPrincipalPayments         113937 non-null  float64\n",
      " 70  LP_InterestandFees                   113937 non-null  float64\n",
      " 71  LP_ServiceFees                       113937 non-null  float64\n",
      " 72  LP_CollectionFees                    113937 non-null  float64\n",
      " 73  LP_GrossPrincipalLoss                113937 non-null  float64\n",
      " 74  LP_NetPrincipalLoss                  113937 non-null  float64\n",
      " 75  LP_NonPrincipalRecoverypayments      113937 non-null  float64\n",
      " 76  PercentFunded                        113937 non-null  float64\n",
      " 77  Recommendations                      113937 non-null  int64  \n",
      " 78  InvestmentFromFriendsCount           113937 non-null  int64  \n",
      " 79  InvestmentFromFriendsAmount          113937 non-null  float64\n",
      " 80  Investors                            113937 non-null  int64  \n",
      "dtypes: bool(3), float64(50), int64(11), object(17)\n",
      "memory usage: 68.1+ MB\n"
     ]
    }
   ],
   "source": [
    "df.info()"
   ]
  },
  {
   "cell_type": "markdown",
   "id": "95c8e28c",
   "metadata": {
    "papermill": {
     "duration": 0.014105,
     "end_time": "2024-08-04T16:46:14.846725",
     "exception": false,
     "start_time": "2024-08-04T16:46:14.832620",
     "status": "completed"
    },
    "tags": []
   },
   "source": [
    "> We have the columns of `ClosedDate`, `LoanOriginationDate`, `DateCreditPulled`, and the `ListingCreationDate` has an object type and it has to be a datetime type."
   ]
  },
  {
   "cell_type": "code",
   "execution_count": 5,
   "id": "a8a324dc",
   "metadata": {
    "execution": {
     "iopub.execute_input": "2024-08-04T16:46:14.878599Z",
     "iopub.status.busy": "2024-08-04T16:46:14.878208Z",
     "iopub.status.idle": "2024-08-04T16:46:15.176804Z",
     "shell.execute_reply": "2024-08-04T16:46:15.174532Z"
    },
    "papermill": {
     "duration": 0.317663,
     "end_time": "2024-08-04T16:46:15.179504",
     "exception": false,
     "start_time": "2024-08-04T16:46:14.861841",
     "status": "completed"
    },
    "tags": []
   },
   "outputs": [
    {
     "name": "stdout",
     "output_type": "stream",
     "text": [
      "<class 'pandas.core.frame.DataFrame'>\n",
      "RangeIndex: 113937 entries, 0 to 113936\n",
      "Data columns (total 81 columns):\n",
      " #   Column                               Non-Null Count   Dtype         \n",
      "---  ------                               --------------   -----         \n",
      " 0   ListingKey                           113937 non-null  object        \n",
      " 1   ListingNumber                        113937 non-null  int64         \n",
      " 2   ListingCreationDate                  113937 non-null  datetime64[ns]\n",
      " 3   CreditGrade                          28953 non-null   object        \n",
      " 4   Term                                 113937 non-null  int64         \n",
      " 5   LoanStatus                           113937 non-null  object        \n",
      " 6   ClosedDate                           55089 non-null   datetime64[ns]\n",
      " 7   BorrowerAPR                          113912 non-null  float64       \n",
      " 8   BorrowerRate                         113937 non-null  float64       \n",
      " 9   LenderYield                          113937 non-null  float64       \n",
      " 10  EstimatedEffectiveYield              84853 non-null   float64       \n",
      " 11  EstimatedLoss                        84853 non-null   float64       \n",
      " 12  EstimatedReturn                      84853 non-null   float64       \n",
      " 13  ProsperRating (numeric)              84853 non-null   float64       \n",
      " 14  ProsperRating (Alpha)                84853 non-null   object        \n",
      " 15  ProsperScore                         84853 non-null   float64       \n",
      " 16  ListingCategory (numeric)            113937 non-null  int64         \n",
      " 17  BorrowerState                        108422 non-null  object        \n",
      " 18  Occupation                           110349 non-null  object        \n",
      " 19  EmploymentStatus                     111682 non-null  object        \n",
      " 20  EmploymentStatusDuration             106312 non-null  float64       \n",
      " 21  IsBorrowerHomeowner                  113937 non-null  bool          \n",
      " 22  CurrentlyInGroup                     113937 non-null  bool          \n",
      " 23  GroupKey                             13341 non-null   object        \n",
      " 24  DateCreditPulled                     113937 non-null  datetime64[ns]\n",
      " 25  CreditScoreRangeLower                113346 non-null  float64       \n",
      " 26  CreditScoreRangeUpper                113346 non-null  float64       \n",
      " 27  FirstRecordedCreditLine              113240 non-null  object        \n",
      " 28  CurrentCreditLines                   106333 non-null  float64       \n",
      " 29  OpenCreditLines                      106333 non-null  float64       \n",
      " 30  TotalCreditLinespast7years           113240 non-null  float64       \n",
      " 31  OpenRevolvingAccounts                113937 non-null  int64         \n",
      " 32  OpenRevolvingMonthlyPayment          113937 non-null  float64       \n",
      " 33  InquiriesLast6Months                 113240 non-null  float64       \n",
      " 34  TotalInquiries                       112778 non-null  float64       \n",
      " 35  CurrentDelinquencies                 113240 non-null  float64       \n",
      " 36  AmountDelinquent                     106315 non-null  float64       \n",
      " 37  DelinquenciesLast7Years              112947 non-null  float64       \n",
      " 38  PublicRecordsLast10Years             113240 non-null  float64       \n",
      " 39  PublicRecordsLast12Months            106333 non-null  float64       \n",
      " 40  RevolvingCreditBalance               106333 non-null  float64       \n",
      " 41  BankcardUtilization                  106333 non-null  float64       \n",
      " 42  AvailableBankcardCredit              106393 non-null  float64       \n",
      " 43  TotalTrades                          106393 non-null  float64       \n",
      " 44  TradesNeverDelinquent (percentage)   106393 non-null  float64       \n",
      " 45  TradesOpenedLast6Months              106393 non-null  float64       \n",
      " 46  DebtToIncomeRatio                    105383 non-null  float64       \n",
      " 47  IncomeRange                          113937 non-null  object        \n",
      " 48  IncomeVerifiable                     113937 non-null  bool          \n",
      " 49  StatedMonthlyIncome                  113937 non-null  float64       \n",
      " 50  LoanKey                              113937 non-null  object        \n",
      " 51  TotalProsperLoans                    22085 non-null   float64       \n",
      " 52  TotalProsperPaymentsBilled           22085 non-null   float64       \n",
      " 53  OnTimeProsperPayments                22085 non-null   float64       \n",
      " 54  ProsperPaymentsLessThanOneMonthLate  22085 non-null   float64       \n",
      " 55  ProsperPaymentsOneMonthPlusLate      22085 non-null   float64       \n",
      " 56  ProsperPrincipalBorrowed             22085 non-null   float64       \n",
      " 57  ProsperPrincipalOutstanding          22085 non-null   float64       \n",
      " 58  ScorexChangeAtTimeOfListing          18928 non-null   float64       \n",
      " 59  LoanCurrentDaysDelinquent            113937 non-null  int64         \n",
      " 60  LoanFirstDefaultedCycleNumber        16952 non-null   float64       \n",
      " 61  LoanMonthsSinceOrigination           113937 non-null  int64         \n",
      " 62  LoanNumber                           113937 non-null  int64         \n",
      " 63  LoanOriginalAmount                   113937 non-null  int64         \n",
      " 64  LoanOriginationDate                  113937 non-null  datetime64[ns]\n",
      " 65  LoanOriginationQuarter               113937 non-null  object        \n",
      " 66  MemberKey                            113937 non-null  object        \n",
      " 67  MonthlyLoanPayment                   113937 non-null  float64       \n",
      " 68  LP_CustomerPayments                  113937 non-null  float64       \n",
      " 69  LP_CustomerPrincipalPayments         113937 non-null  float64       \n",
      " 70  LP_InterestandFees                   113937 non-null  float64       \n",
      " 71  LP_ServiceFees                       113937 non-null  float64       \n",
      " 72  LP_CollectionFees                    113937 non-null  float64       \n",
      " 73  LP_GrossPrincipalLoss                113937 non-null  float64       \n",
      " 74  LP_NetPrincipalLoss                  113937 non-null  float64       \n",
      " 75  LP_NonPrincipalRecoverypayments      113937 non-null  float64       \n",
      " 76  PercentFunded                        113937 non-null  float64       \n",
      " 77  Recommendations                      113937 non-null  int64         \n",
      " 78  InvestmentFromFriendsCount           113937 non-null  int64         \n",
      " 79  InvestmentFromFriendsAmount          113937 non-null  float64       \n",
      " 80  Investors                            113937 non-null  int64         \n",
      "dtypes: bool(3), datetime64[ns](4), float64(50), int64(11), object(13)\n",
      "memory usage: 68.1+ MB\n"
     ]
    }
   ],
   "source": [
    "## list the date columns\n",
    "date_columns = ['ClosedDate', 'LoanOriginationDate', 'DateCreditPulled', 'ListingCreationDate'] \n",
    "\n",
    "### Loopong through the list and coverting to datetime data type\n",
    "for col in date_columns:\n",
    "    df[col] = pd.to_datetime(df[col], format='mixed') ## using the format as mixed to infer the format for each element individually\n",
    "\n",
    "df.info() ### check if that is successful"
   ]
  },
  {
   "cell_type": "markdown",
   "id": "e25f6b1a",
   "metadata": {
    "papermill": {
     "duration": 0.014042,
     "end_time": "2024-08-04T16:46:15.208592",
     "exception": false,
     "start_time": "2024-08-04T16:46:15.194550",
     "status": "completed"
    },
    "tags": []
   },
   "source": [
    "> Now the rest of the data types of the variables are valid."
   ]
  },
  {
   "cell_type": "markdown",
   "id": "1014ded4",
   "metadata": {
    "papermill": {
     "duration": 0.015756,
     "end_time": "2024-08-04T16:46:15.239067",
     "exception": false,
     "start_time": "2024-08-04T16:46:15.223311",
     "status": "completed"
    },
    "tags": []
   },
   "source": [
    "#### Data Completness"
   ]
  },
  {
   "cell_type": "code",
   "execution_count": 6,
   "id": "64f07c02",
   "metadata": {
    "execution": {
     "iopub.execute_input": "2024-08-04T16:46:15.272428Z",
     "iopub.status.busy": "2024-08-04T16:46:15.272042Z",
     "iopub.status.idle": "2024-08-04T16:46:15.280140Z",
     "shell.execute_reply": "2024-08-04T16:46:15.278902Z"
    },
    "papermill": {
     "duration": 0.027425,
     "end_time": "2024-08-04T16:46:15.282947",
     "exception": false,
     "start_time": "2024-08-04T16:46:15.255522",
     "status": "completed"
    },
    "tags": []
   },
   "outputs": [],
   "source": [
    "def get_percent_null(df):\n",
    "    \"\"\"\n",
    "    Args:\n",
    "        - df (pd.Dataframe)\n",
    "    Returns:\n",
    "        - The percentages of missing values\n",
    "    \"\"\"\n",
    "    null_counts = df.isnull().sum()\n",
    "    null_counts = null_counts[null_counts > 0].sort_values()\n",
    "    return (null_counts/df.shape[0])*100"
   ]
  },
  {
   "cell_type": "code",
   "execution_count": 7,
   "id": "64eb04aa",
   "metadata": {
    "execution": {
     "iopub.execute_input": "2024-08-04T16:46:15.316396Z",
     "iopub.status.busy": "2024-08-04T16:46:15.316034Z",
     "iopub.status.idle": "2024-08-04T16:46:15.415850Z",
     "shell.execute_reply": "2024-08-04T16:46:15.414471Z"
    },
    "papermill": {
     "duration": 0.120351,
     "end_time": "2024-08-04T16:46:15.418564",
     "exception": false,
     "start_time": "2024-08-04T16:46:15.298213",
     "status": "completed"
    },
    "tags": []
   },
   "outputs": [
    {
     "data": {
      "text/plain": [
       "BorrowerAPR                             0.021942\n",
       "CreditScoreRangeUpper                   0.518708\n",
       "CreditScoreRangeLower                   0.518708\n",
       "PublicRecordsLast10Years                0.611742\n",
       "CurrentDelinquencies                    0.611742\n",
       "InquiriesLast6Months                    0.611742\n",
       "TotalCreditLinespast7years              0.611742\n",
       "FirstRecordedCreditLine                 0.611742\n",
       "DelinquenciesLast7Years                 0.868901\n",
       "TotalInquiries                          1.017229\n",
       "EmploymentStatus                        1.979164\n",
       "Occupation                              3.149109\n",
       "BorrowerState                           4.840394\n",
       "AvailableBankcardCredit                 6.621203\n",
       "TradesOpenedLast6Months                 6.621203\n",
       "TradesNeverDelinquent (percentage)      6.621203\n",
       "TotalTrades                             6.621203\n",
       "CurrentCreditLines                      6.673864\n",
       "OpenCreditLines                         6.673864\n",
       "PublicRecordsLast12Months               6.673864\n",
       "RevolvingCreditBalance                  6.673864\n",
       "BankcardUtilization                     6.673864\n",
       "AmountDelinquent                        6.689662\n",
       "EmploymentStatusDuration                6.692295\n",
       "DebtToIncomeRatio                       7.507658\n",
       "ProsperRating (Alpha)                  25.526387\n",
       "ProsperRating (numeric)                25.526387\n",
       "ProsperScore                           25.526387\n",
       "EstimatedLoss                          25.526387\n",
       "EstimatedEffectiveYield                25.526387\n",
       "EstimatedReturn                        25.526387\n",
       "ClosedDate                             51.649596\n",
       "CreditGrade                            74.588588\n",
       "TotalProsperLoans                      80.616481\n",
       "TotalProsperPaymentsBilled             80.616481\n",
       "OnTimeProsperPayments                  80.616481\n",
       "ProsperPaymentsLessThanOneMonthLate    80.616481\n",
       "ProsperPaymentsOneMonthPlusLate        80.616481\n",
       "ProsperPrincipalBorrowed               80.616481\n",
       "ProsperPrincipalOutstanding            80.616481\n",
       "ScorexChangeAtTimeOfListing            83.387311\n",
       "LoanFirstDefaultedCycleNumber          85.121602\n",
       "GroupKey                               88.290898\n",
       "dtype: float64"
      ]
     },
     "execution_count": 7,
     "metadata": {},
     "output_type": "execute_result"
    }
   ],
   "source": [
    "get_percent_null(df)"
   ]
  },
  {
   "cell_type": "markdown",
   "id": "88c09c32",
   "metadata": {
    "papermill": {
     "duration": 0.016768,
     "end_time": "2024-08-04T16:46:15.450952",
     "exception": false,
     "start_time": "2024-08-04T16:46:15.434184",
     "status": "completed"
    },
    "tags": []
   },
   "source": [
    "> There are many columns that has null values, some of which have a very high count of null values. The following columns were the highest percentage of null such as higher than 50%. These columns are droppped."
   ]
  },
  {
   "cell_type": "code",
   "execution_count": 8,
   "id": "911fe586",
   "metadata": {
    "execution": {
     "iopub.execute_input": "2024-08-04T16:46:15.483178Z",
     "iopub.status.busy": "2024-08-04T16:46:15.482796Z",
     "iopub.status.idle": "2024-08-04T16:46:15.488753Z",
     "shell.execute_reply": "2024-08-04T16:46:15.487185Z"
    },
    "papermill": {
     "duration": 0.024632,
     "end_time": "2024-08-04T16:46:15.492029",
     "exception": false,
     "start_time": "2024-08-04T16:46:15.467397",
     "status": "completed"
    },
    "tags": []
   },
   "outputs": [],
   "source": [
    "high_missing_percent = ['CreditGrade', 'ScorexChangeAtTimeOfListing', 'LoanFirstDefaultedCycleNumber', 'ClosedDate', 'TotalProsperLoans',\n",
    " 'TotalProsperPaymentsBilled', 'OnTimeProsperPayments', 'ProsperPaymentsLessThanOneMonthLate', 'ProsperPaymentsOneMonthPlusLate', \n",
    " 'ProsperPrincipalBorrowed', 'ProsperPrincipalOutstanding']"
   ]
  },
  {
   "cell_type": "code",
   "execution_count": 9,
   "id": "6dd2474d",
   "metadata": {
    "execution": {
     "iopub.execute_input": "2024-08-04T16:46:15.524228Z",
     "iopub.status.busy": "2024-08-04T16:46:15.523760Z",
     "iopub.status.idle": "2024-08-04T16:46:15.582190Z",
     "shell.execute_reply": "2024-08-04T16:46:15.580282Z"
    },
    "papermill": {
     "duration": 0.0786,
     "end_time": "2024-08-04T16:46:15.585219",
     "exception": false,
     "start_time": "2024-08-04T16:46:15.506619",
     "status": "completed"
    },
    "tags": []
   },
   "outputs": [],
   "source": [
    "df.drop(columns=high_missing_percent, inplace=True)"
   ]
  },
  {
   "cell_type": "code",
   "execution_count": 10,
   "id": "d091f06d",
   "metadata": {
    "execution": {
     "iopub.execute_input": "2024-08-04T16:46:15.616556Z",
     "iopub.status.busy": "2024-08-04T16:46:15.616011Z",
     "iopub.status.idle": "2024-08-04T16:46:15.624196Z",
     "shell.execute_reply": "2024-08-04T16:46:15.622893Z"
    },
    "papermill": {
     "duration": 0.027395,
     "end_time": "2024-08-04T16:46:15.627064",
     "exception": false,
     "start_time": "2024-08-04T16:46:15.599669",
     "status": "completed"
    },
    "tags": []
   },
   "outputs": [
    {
     "data": {
      "text/plain": [
       "(113937, 70)"
      ]
     },
     "execution_count": 10,
     "metadata": {},
     "output_type": "execute_result"
    }
   ],
   "source": [
    "df.shape"
   ]
  },
  {
   "cell_type": "markdown",
   "id": "80dc908a",
   "metadata": {
    "papermill": {
     "duration": 0.014918,
     "end_time": "2024-08-04T16:46:15.658086",
     "exception": false,
     "start_time": "2024-08-04T16:46:15.643168",
     "status": "completed"
    },
    "tags": []
   },
   "source": [
    "> The drop is checked now that the variables went from 81 to 70."
   ]
  },
  {
   "cell_type": "markdown",
   "id": "5866b36b",
   "metadata": {
    "papermill": {
     "duration": 0.015865,
     "end_time": "2024-08-04T16:46:15.690278",
     "exception": false,
     "start_time": "2024-08-04T16:46:15.674413",
     "status": "completed"
    },
    "tags": []
   },
   "source": [
    "Handling the other null values by dropping NA values and rows:"
   ]
  },
  {
   "cell_type": "code",
   "execution_count": 11,
   "id": "ea1b6c0e",
   "metadata": {
    "execution": {
     "iopub.execute_input": "2024-08-04T16:46:15.723027Z",
     "iopub.status.busy": "2024-08-04T16:46:15.722624Z",
     "iopub.status.idle": "2024-08-04T16:46:15.807571Z",
     "shell.execute_reply": "2024-08-04T16:46:15.806356Z"
    },
    "papermill": {
     "duration": 0.105253,
     "end_time": "2024-08-04T16:46:15.810191",
     "exception": false,
     "start_time": "2024-08-04T16:46:15.704938",
     "status": "completed"
    },
    "tags": []
   },
   "outputs": [
    {
     "data": {
      "text/plain": [
       "BorrowerAPR                            0.021942\n",
       "CreditScoreRangeUpper                  0.518708\n",
       "CreditScoreRangeLower                  0.518708\n",
       "TotalCreditLinespast7years             0.611742\n",
       "CurrentDelinquencies                   0.611742\n",
       "FirstRecordedCreditLine                0.611742\n",
       "PublicRecordsLast10Years               0.611742\n",
       "InquiriesLast6Months                   0.611742\n",
       "DelinquenciesLast7Years                0.868901\n",
       "TotalInquiries                         1.017229\n",
       "EmploymentStatus                       1.979164\n",
       "Occupation                             3.149109\n",
       "BorrowerState                          4.840394\n",
       "AvailableBankcardCredit                6.621203\n",
       "TradesOpenedLast6Months                6.621203\n",
       "TotalTrades                            6.621203\n",
       "TradesNeverDelinquent (percentage)     6.621203\n",
       "PublicRecordsLast12Months              6.673864\n",
       "RevolvingCreditBalance                 6.673864\n",
       "BankcardUtilization                    6.673864\n",
       "CurrentCreditLines                     6.673864\n",
       "OpenCreditLines                        6.673864\n",
       "AmountDelinquent                       6.689662\n",
       "EmploymentStatusDuration               6.692295\n",
       "DebtToIncomeRatio                      7.507658\n",
       "ProsperScore                          25.526387\n",
       "ProsperRating (Alpha)                 25.526387\n",
       "ProsperRating (numeric)               25.526387\n",
       "EstimatedReturn                       25.526387\n",
       "EstimatedLoss                         25.526387\n",
       "EstimatedEffectiveYield               25.526387\n",
       "GroupKey                              88.290898\n",
       "dtype: float64"
      ]
     },
     "execution_count": 11,
     "metadata": {},
     "output_type": "execute_result"
    }
   ],
   "source": [
    "get_percent_null(df)"
   ]
  },
  {
   "cell_type": "markdown",
   "id": "955b1696",
   "metadata": {
    "papermill": {
     "duration": 0.015991,
     "end_time": "2024-08-04T16:46:15.842216",
     "exception": false,
     "start_time": "2024-08-04T16:46:15.826225",
     "status": "completed"
    },
    "tags": []
   },
   "source": [
    "> These columns are identifiers, mostly unique between each loan.They are irrelevant for the task and therefore they should be dropped too."
   ]
  },
  {
   "cell_type": "code",
   "execution_count": 12,
   "id": "f6887eb4",
   "metadata": {
    "execution": {
     "iopub.execute_input": "2024-08-04T16:46:15.872218Z",
     "iopub.status.busy": "2024-08-04T16:46:15.871862Z",
     "iopub.status.idle": "2024-08-04T16:46:15.911908Z",
     "shell.execute_reply": "2024-08-04T16:46:15.910350Z"
    },
    "papermill": {
     "duration": 0.058475,
     "end_time": "2024-08-04T16:46:15.914829",
     "exception": false,
     "start_time": "2024-08-04T16:46:15.856354",
     "status": "completed"
    },
    "tags": []
   },
   "outputs": [],
   "source": [
    "df.drop(columns=[\"ListingKey\", \"ListingNumber\", \"GroupKey\", \"LoanKey\", \"LoanNumber\", \"MemberKey\", \"DateCreditPulled\"], inplace= True )"
   ]
  },
  {
   "cell_type": "code",
   "execution_count": 13,
   "id": "bfe5ca8f",
   "metadata": {
    "execution": {
     "iopub.execute_input": "2024-08-04T16:46:15.947210Z",
     "iopub.status.busy": "2024-08-04T16:46:15.946817Z",
     "iopub.status.idle": "2024-08-04T16:46:15.954366Z",
     "shell.execute_reply": "2024-08-04T16:46:15.953078Z"
    },
    "papermill": {
     "duration": 0.028185,
     "end_time": "2024-08-04T16:46:15.957194",
     "exception": false,
     "start_time": "2024-08-04T16:46:15.929009",
     "status": "completed"
    },
    "tags": []
   },
   "outputs": [
    {
     "data": {
      "text/plain": [
       "(113937, 63)"
      ]
     },
     "execution_count": 13,
     "metadata": {},
     "output_type": "execute_result"
    }
   ],
   "source": [
    "df.shape"
   ]
  },
  {
   "cell_type": "markdown",
   "id": "0308cd2a",
   "metadata": {
    "papermill": {
     "duration": 0.01696,
     "end_time": "2024-08-04T16:46:15.989417",
     "exception": false,
     "start_time": "2024-08-04T16:46:15.972457",
     "status": "completed"
    },
    "tags": []
   },
   "source": [
    "> The drop is done, since the features count went down to 63."
   ]
  },
  {
   "cell_type": "code",
   "execution_count": 14,
   "id": "b4c33250",
   "metadata": {
    "execution": {
     "iopub.execute_input": "2024-08-04T16:46:16.026414Z",
     "iopub.status.busy": "2024-08-04T16:46:16.026038Z",
     "iopub.status.idle": "2024-08-04T16:46:16.092300Z",
     "shell.execute_reply": "2024-08-04T16:46:16.090920Z"
    },
    "papermill": {
     "duration": 0.08916,
     "end_time": "2024-08-04T16:46:16.095023",
     "exception": false,
     "start_time": "2024-08-04T16:46:16.005863",
     "status": "completed"
    },
    "tags": []
   },
   "outputs": [
    {
     "data": {
      "text/plain": [
       "BorrowerAPR                            0.021942\n",
       "CreditScoreRangeUpper                  0.518708\n",
       "CreditScoreRangeLower                  0.518708\n",
       "InquiriesLast6Months                   0.611742\n",
       "TotalCreditLinespast7years             0.611742\n",
       "FirstRecordedCreditLine                0.611742\n",
       "PublicRecordsLast10Years               0.611742\n",
       "CurrentDelinquencies                   0.611742\n",
       "DelinquenciesLast7Years                0.868901\n",
       "TotalInquiries                         1.017229\n",
       "EmploymentStatus                       1.979164\n",
       "Occupation                             3.149109\n",
       "BorrowerState                          4.840394\n",
       "AvailableBankcardCredit                6.621203\n",
       "TradesOpenedLast6Months                6.621203\n",
       "TotalTrades                            6.621203\n",
       "TradesNeverDelinquent (percentage)     6.621203\n",
       "PublicRecordsLast12Months              6.673864\n",
       "RevolvingCreditBalance                 6.673864\n",
       "BankcardUtilization                    6.673864\n",
       "OpenCreditLines                        6.673864\n",
       "CurrentCreditLines                     6.673864\n",
       "AmountDelinquent                       6.689662\n",
       "EmploymentStatusDuration               6.692295\n",
       "DebtToIncomeRatio                      7.507658\n",
       "ProsperScore                          25.526387\n",
       "ProsperRating (Alpha)                 25.526387\n",
       "ProsperRating (numeric)               25.526387\n",
       "EstimatedReturn                       25.526387\n",
       "EstimatedLoss                         25.526387\n",
       "EstimatedEffectiveYield               25.526387\n",
       "dtype: float64"
      ]
     },
     "execution_count": 14,
     "metadata": {},
     "output_type": "execute_result"
    }
   ],
   "source": [
    "get_percent_null(df)"
   ]
  },
  {
   "cell_type": "markdown",
   "id": "b228cd19",
   "metadata": {
    "papermill": {
     "duration": 0.014804,
     "end_time": "2024-08-04T16:46:16.126089",
     "exception": false,
     "start_time": "2024-08-04T16:46:16.111285",
     "status": "completed"
    },
    "tags": []
   },
   "source": [
    "> Let's handle the lower percentages by only dropping the NA values instead of the whole columns."
   ]
  },
  {
   "cell_type": "code",
   "execution_count": 15,
   "id": "c50b2ccc",
   "metadata": {
    "execution": {
     "iopub.execute_input": "2024-08-04T16:46:16.160651Z",
     "iopub.status.busy": "2024-08-04T16:46:16.160274Z",
     "iopub.status.idle": "2024-08-04T16:46:16.255663Z",
     "shell.execute_reply": "2024-08-04T16:46:16.254062Z"
    },
    "papermill": {
     "duration": 0.11733,
     "end_time": "2024-08-04T16:46:16.258816",
     "exception": false,
     "start_time": "2024-08-04T16:46:16.141486",
     "status": "completed"
    },
    "tags": []
   },
   "outputs": [],
   "source": [
    "df.dropna(inplace=True)"
   ]
  },
  {
   "cell_type": "code",
   "execution_count": 16,
   "id": "a8d24db7",
   "metadata": {
    "execution": {
     "iopub.execute_input": "2024-08-04T16:46:16.290751Z",
     "iopub.status.busy": "2024-08-04T16:46:16.290343Z",
     "iopub.status.idle": "2024-08-04T16:46:16.337607Z",
     "shell.execute_reply": "2024-08-04T16:46:16.336041Z"
    },
    "papermill": {
     "duration": 0.067767,
     "end_time": "2024-08-04T16:46:16.341596",
     "exception": false,
     "start_time": "2024-08-04T16:46:16.273829",
     "status": "completed"
    },
    "tags": []
   },
   "outputs": [
    {
     "data": {
      "text/plain": [
       "Series([], dtype: float64)"
      ]
     },
     "execution_count": 16,
     "metadata": {},
     "output_type": "execute_result"
    }
   ],
   "source": [
    "get_percent_null(df)"
   ]
  },
  {
   "cell_type": "markdown",
   "id": "6eb6e904",
   "metadata": {
    "papermill": {
     "duration": 0.017364,
     "end_time": "2024-08-04T16:46:16.377487",
     "exception": false,
     "start_time": "2024-08-04T16:46:16.360123",
     "status": "completed"
    },
    "tags": []
   },
   "source": [
    "> No missing NA values left."
   ]
  },
  {
   "cell_type": "code",
   "execution_count": 17,
   "id": "00a654b6",
   "metadata": {
    "execution": {
     "iopub.execute_input": "2024-08-04T16:46:16.412465Z",
     "iopub.status.busy": "2024-08-04T16:46:16.411723Z",
     "iopub.status.idle": "2024-08-04T16:46:16.422363Z",
     "shell.execute_reply": "2024-08-04T16:46:16.420258Z"
    },
    "papermill": {
     "duration": 0.030644,
     "end_time": "2024-08-04T16:46:16.425453",
     "exception": false,
     "start_time": "2024-08-04T16:46:16.394809",
     "status": "completed"
    },
    "tags": []
   },
   "outputs": [
    {
     "data": {
      "text/plain": [
       "(76216, 63)"
      ]
     },
     "execution_count": 17,
     "metadata": {},
     "output_type": "execute_result"
    }
   ],
   "source": [
    "df.shape"
   ]
  },
  {
   "cell_type": "markdown",
   "id": "21f95198",
   "metadata": {
    "papermill": {
     "duration": 0.01552,
     "end_time": "2024-08-04T16:46:16.456590",
     "exception": false,
     "start_time": "2024-08-04T16:46:16.441070",
     "status": "completed"
    },
    "tags": []
   },
   "source": [
    "> After handling missing values and dropping unneccary columns the shape of the data is 76,216 rows and 63 columns"
   ]
  },
  {
   "cell_type": "markdown",
   "id": "ff903997",
   "metadata": {
    "papermill": {
     "duration": 0.015129,
     "end_time": "2024-08-04T16:46:16.488695",
     "exception": false,
     "start_time": "2024-08-04T16:46:16.473566",
     "status": "completed"
    },
    "tags": []
   },
   "source": [
    "### Main Features of interest\n",
    "- All the left columns are the features of intrest they will be devided based on the objective into three subsets."
   ]
  },
  {
   "cell_type": "markdown",
   "id": "349c25b0",
   "metadata": {
    "papermill": {
     "duration": 0.016581,
     "end_time": "2024-08-04T16:46:16.521068",
     "exception": false,
     "start_time": "2024-08-04T16:46:16.504487",
     "status": "completed"
    },
    "tags": []
   },
   "source": [
    "- Objective 1: Loan Performance"
   ]
  },
  {
   "cell_type": "code",
   "execution_count": 18,
   "id": "b0ac03d1",
   "metadata": {
    "execution": {
     "iopub.execute_input": "2024-08-04T16:46:16.554424Z",
     "iopub.status.busy": "2024-08-04T16:46:16.553982Z",
     "iopub.status.idle": "2024-08-04T16:46:16.565536Z",
     "shell.execute_reply": "2024-08-04T16:46:16.563404Z"
    },
    "papermill": {
     "duration": 0.030971,
     "end_time": "2024-08-04T16:46:16.568804",
     "exception": false,
     "start_time": "2024-08-04T16:46:16.537833",
     "status": "completed"
    },
    "tags": []
   },
   "outputs": [],
   "source": [
    "loan_performance_columns = [ 'LoanStatus', 'LoanCurrentDaysDelinquent','LoanMonthsSinceOrigination',\n",
    "    'LoanOriginalAmount', 'BorrowerAPR', 'DebtToIncomeRatio', 'CreditScoreRangeLower','CreditScoreRangeUpper',\n",
    "    'ProsperScore', 'EmploymentStatus','IsBorrowerHomeowner']\n",
    "\n",
    "loan_performance_df = df[loan_performance_columns]"
   ]
  },
  {
   "cell_type": "markdown",
   "id": "1136e53f",
   "metadata": {
    "papermill": {
     "duration": 0.015419,
     "end_time": "2024-08-04T16:46:16.599354",
     "exception": false,
     "start_time": "2024-08-04T16:46:16.583935",
     "status": "completed"
    },
    "tags": []
   },
   "source": [
    "- Objective 2: Credit Score and Borrower Analysis"
   ]
  },
  {
   "cell_type": "code",
   "execution_count": 19,
   "id": "3fa348fd",
   "metadata": {
    "execution": {
     "iopub.execute_input": "2024-08-04T16:46:16.632828Z",
     "iopub.status.busy": "2024-08-04T16:46:16.632430Z",
     "iopub.status.idle": "2024-08-04T16:46:16.643142Z",
     "shell.execute_reply": "2024-08-04T16:46:16.641757Z"
    },
    "papermill": {
     "duration": 0.031588,
     "end_time": "2024-08-04T16:46:16.645734",
     "exception": false,
     "start_time": "2024-08-04T16:46:16.614146",
     "status": "completed"
    },
    "tags": []
   },
   "outputs": [],
   "source": [
    "credit_borrower_columns = [ 'CreditScoreRangeLower', 'CreditScoreRangeUpper', 'ProsperRating (numeric)',\n",
    "    'ProsperRating (Alpha)','ProsperScore','IncomeRange','EmploymentStatus','IsBorrowerHomeowner',\n",
    "    'BorrowerAPR', 'LoanOriginalAmount']\n",
    "\n",
    "credit_borrower_df = df[credit_borrower_columns]"
   ]
  },
  {
   "cell_type": "markdown",
   "id": "05a20f17",
   "metadata": {
    "papermill": {
     "duration": 0.016937,
     "end_time": "2024-08-04T16:46:16.681356",
     "exception": false,
     "start_time": "2024-08-04T16:46:16.664419",
     "status": "completed"
    },
    "tags": []
   },
   "source": [
    "- Objective 3: Geographic and Demographic Analysis"
   ]
  },
  {
   "cell_type": "code",
   "execution_count": 20,
   "id": "875336b8",
   "metadata": {
    "execution": {
     "iopub.execute_input": "2024-08-04T16:46:16.715925Z",
     "iopub.status.busy": "2024-08-04T16:46:16.715532Z",
     "iopub.status.idle": "2024-08-04T16:46:16.726172Z",
     "shell.execute_reply": "2024-08-04T16:46:16.724737Z"
    },
    "papermill": {
     "duration": 0.031419,
     "end_time": "2024-08-04T16:46:16.729311",
     "exception": false,
     "start_time": "2024-08-04T16:46:16.697892",
     "status": "completed"
    },
    "tags": []
   },
   "outputs": [],
   "source": [
    "geo_demo_columns = [ 'BorrowerState', 'Occupation', 'EmploymentStatus', 'IncomeRange',\n",
    "    'IsBorrowerHomeowner', 'LoanOriginalAmount', 'ProsperRating (Alpha)', 'CreditScoreRangeLower',\n",
    "    'CreditScoreRangeUpper']\n",
    "\n",
    "geo_demo_df = df[geo_demo_columns]"
   ]
  },
  {
   "cell_type": "markdown",
   "id": "bf91d50e",
   "metadata": {
    "papermill": {
     "duration": 0.014321,
     "end_time": "2024-08-04T16:46:16.758651",
     "exception": false,
     "start_time": "2024-08-04T16:46:16.744330",
     "status": "completed"
    },
    "tags": []
   },
   "source": [
    "### Features for investigation "
   ]
  },
  {
   "cell_type": "markdown",
   "id": "25806995",
   "metadata": {
    "papermill": {
     "duration": 0.015631,
     "end_time": "2024-08-04T16:46:16.791662",
     "exception": false,
     "start_time": "2024-08-04T16:46:16.776031",
     "status": "completed"
    },
    "tags": []
   },
   "source": [
    "> The following features"
   ]
  },
  {
   "cell_type": "markdown",
   "id": "a2e2fdd5",
   "metadata": {
    "papermill": {
     "duration": 0.015141,
     "end_time": "2024-08-04T16:46:16.822589",
     "exception": false,
     "start_time": "2024-08-04T16:46:16.807448",
     "status": "completed"
    },
    "tags": []
   },
   "source": [
    "## Univariate Exploration\n",
    "\n",
    "> In this section, investigate distributions of individual variables. If you see unusual points or outliers, take a deeper look to clean things up and prepare yourself to look at relationships between variables.\n",
    "\n",
    ">**Rubric Tip**: Use the \"Question-Visualization-Observations\" framework  throughout the exploration. This framework involves **asking a question from the data, creating a visualization to find answers, and then recording observations after each visualisation.** \n",
    "\n",
    "> **Rubric Tip**: This part (Univariate Exploration) should include at least one histogram, and either a bar chart of count plot.\n",
    "\n",
    ">**Rubric Tip**: Visualizations should depict the data appropriately so that the plots are easily interpretable. You should choose an appropriate plot type, data encodings, and formatting as needed. The formatting may include setting/adding the title, labels, legend, and comments. Also, do not overplot or incorrectly plot ordinal data."
   ]
  },
  {
   "cell_type": "code",
   "execution_count": null,
   "id": "99de2671",
   "metadata": {
    "papermill": {
     "duration": 0.015895,
     "end_time": "2024-08-04T16:46:16.854122",
     "exception": false,
     "start_time": "2024-08-04T16:46:16.838227",
     "status": "completed"
    },
    "tags": []
   },
   "outputs": [],
   "source": []
  },
  {
   "cell_type": "markdown",
   "id": "12cce30f",
   "metadata": {
    "papermill": {
     "duration": 0.015868,
     "end_time": "2024-08-04T16:46:16.886593",
     "exception": false,
     "start_time": "2024-08-04T16:46:16.870725",
     "status": "completed"
    },
    "tags": []
   },
   "source": [
    "### Discuss the distribution(s) of your variable(s) of interest. Were there any unusual points? Did you need to perform any transformations?\n",
    "\n",
    "> Your answer here!\n",
    "\n",
    "### Of the features you investigated, were there any unusual distributions? Did you perform any operations on the data to tidy, adjust, or change the form of the data? If so, why did you do this?\n",
    "\n",
    "> Your answer here!"
   ]
  },
  {
   "cell_type": "markdown",
   "id": "06fa6907",
   "metadata": {
    "papermill": {
     "duration": 0.015723,
     "end_time": "2024-08-04T16:46:16.917826",
     "exception": false,
     "start_time": "2024-08-04T16:46:16.902103",
     "status": "completed"
    },
    "tags": []
   },
   "source": [
    "## Bivariate Exploration\n",
    "\n",
    "> In this section, investigate relationships between pairs of variables in your data. Make sure the variables that you cover here have been introduced in some fashion in the previous section (univariate exploration).\n",
    "\n",
    "> **Rubric Tip**: This part (Bivariate Exploration) should include at least one scatter plot, one box plot, and at least one clustered bar chart or heat map."
   ]
  },
  {
   "cell_type": "code",
   "execution_count": null,
   "id": "f61b4292",
   "metadata": {
    "papermill": {
     "duration": 0.015585,
     "end_time": "2024-08-04T16:46:16.950482",
     "exception": false,
     "start_time": "2024-08-04T16:46:16.934897",
     "status": "completed"
    },
    "tags": []
   },
   "outputs": [],
   "source": []
  },
  {
   "cell_type": "markdown",
   "id": "ff13cb74",
   "metadata": {
    "papermill": {
     "duration": 0.014133,
     "end_time": "2024-08-04T16:46:16.979972",
     "exception": false,
     "start_time": "2024-08-04T16:46:16.965839",
     "status": "completed"
    },
    "tags": []
   },
   "source": [
    "### Talk about some of the relationships you observed in this part of the investigation. How did the feature(s) of interest vary with other features in the dataset?\n",
    "\n",
    "> Your answer here!\n",
    "\n",
    "### Did you observe any interesting relationships between the other features (not the main feature(s) of interest)?\n",
    "\n",
    "> Your answer here!"
   ]
  },
  {
   "cell_type": "markdown",
   "id": "2ad09028",
   "metadata": {
    "papermill": {
     "duration": 0.015807,
     "end_time": "2024-08-04T16:46:17.011266",
     "exception": false,
     "start_time": "2024-08-04T16:46:16.995459",
     "status": "completed"
    },
    "tags": []
   },
   "source": [
    "## Multivariate Exploration\n",
    "\n",
    "> Create plots of three or more variables to investigate your data even\n",
    "further. Make sure that your investigations are justified, and follow from\n",
    "your work in the previous sections.\n",
    "\n",
    "> **Rubric Tip**: This part (Multivariate Exploration) should include at least one Facet Plot, and one Plot Matrix or Scatterplot with multiple encodings.\n",
    "\n",
    ">**Rubric Tip**: Think carefully about how you encode variables. Choose appropriate color schemes, markers, or even how Facets are chosen. Also, do not overplot or incorrectly plot ordinal data."
   ]
  },
  {
   "cell_type": "code",
   "execution_count": null,
   "id": "5a6a5af8",
   "metadata": {
    "papermill": {
     "duration": 0.014036,
     "end_time": "2024-08-04T16:46:17.040435",
     "exception": false,
     "start_time": "2024-08-04T16:46:17.026399",
     "status": "completed"
    },
    "tags": []
   },
   "outputs": [],
   "source": []
  },
  {
   "cell_type": "markdown",
   "id": "0030525f",
   "metadata": {
    "papermill": {
     "duration": 0.014223,
     "end_time": "2024-08-04T16:46:17.070682",
     "exception": false,
     "start_time": "2024-08-04T16:46:17.056459",
     "status": "completed"
    },
    "tags": []
   },
   "source": [
    "### Talk about some of the relationships you observed in this part of the investigation. Were there features that strengthened each other in terms of looking at your feature(s) of interest?\n",
    "\n",
    "> Your answer here!\n",
    "\n",
    "### Were there any interesting or surprising interactions between features?\n",
    "\n",
    "> Your answer here!"
   ]
  },
  {
   "cell_type": "markdown",
   "id": "dee8b205",
   "metadata": {
    "papermill": {
     "duration": 0.015397,
     "end_time": "2024-08-04T16:46:17.101233",
     "exception": false,
     "start_time": "2024-08-04T16:46:17.085836",
     "status": "completed"
    },
    "tags": []
   },
   "source": [
    "## Conclusions\n",
    ">You can write a summary of the main findings and reflect on the steps taken during the data exploration.\n",
    "\n",
    "> **Rubric Tip**: Create a list of summary findings to make it easy to review."
   ]
  },
  {
   "cell_type": "markdown",
   "id": "f755c7c5",
   "metadata": {
    "papermill": {
     "duration": 0.014208,
     "end_time": "2024-08-04T16:46:17.131724",
     "exception": false,
     "start_time": "2024-08-04T16:46:17.117516",
     "status": "completed"
    },
    "tags": []
   },
   "source": [
    "> Remove all Tips mentioned above, before you convert this notebook to PDF/HTML.\n",
    "\n",
    "\n",
    "> At the end of your report, make sure that you export the notebook as an html file from the `File > Download as... > HTML or PDF` menu. Make sure you keep track of where the exported file goes, so you can put it in the same folder as this notebook for project submission. Also, make sure you remove all of the quote-formatted guide notes like this one before you finish your report!\n",
    "\n"
   ]
  },
  {
   "cell_type": "code",
   "execution_count": null,
   "id": "0d981bc8",
   "metadata": {
    "papermill": {
     "duration": 0.016151,
     "end_time": "2024-08-04T16:46:17.167206",
     "exception": false,
     "start_time": "2024-08-04T16:46:17.151055",
     "status": "completed"
    },
    "tags": []
   },
   "outputs": [],
   "source": []
  },
  {
   "cell_type": "code",
   "execution_count": null,
   "id": "2c5ed356",
   "metadata": {
    "papermill": {
     "duration": 0.014498,
     "end_time": "2024-08-04T16:46:17.199460",
     "exception": false,
     "start_time": "2024-08-04T16:46:17.184962",
     "status": "completed"
    },
    "tags": []
   },
   "outputs": [],
   "source": []
  }
 ],
 "metadata": {
  "kaggle": {
   "accelerator": "none",
   "dataSources": [
    {
     "datasetId": 109271,
     "sourceId": 261041,
     "sourceType": "datasetVersion"
    }
   ],
   "dockerImageVersionId": 30746,
   "isGpuEnabled": false,
   "isInternetEnabled": true,
   "language": "python",
   "sourceType": "notebook"
  },
  "kernelspec": {
   "display_name": "Python 3",
   "language": "python",
   "name": "python3"
  },
  "language_info": {
   "codemirror_mode": {
    "name": "ipython",
    "version": 3
   },
   "file_extension": ".py",
   "mimetype": "text/x-python",
   "name": "python",
   "nbconvert_exporter": "python",
   "pygments_lexer": "ipython3",
   "version": "3.10.13"
  },
  "papermill": {
   "default_parameters": {},
   "duration": 14.212312,
   "end_time": "2024-08-04T16:46:17.838895",
   "environment_variables": {},
   "exception": null,
   "input_path": "__notebook__.ipynb",
   "output_path": "__notebook__.ipynb",
   "parameters": {},
   "start_time": "2024-08-04T16:46:03.626583",
   "version": "2.5.0"
  }
 },
 "nbformat": 4,
 "nbformat_minor": 5
}
