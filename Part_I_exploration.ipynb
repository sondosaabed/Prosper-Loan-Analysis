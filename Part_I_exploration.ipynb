{
 "cells": [
  {
   "cell_type": "markdown",
   "id": "b36e37b2",
   "metadata": {
    "papermill": {
     "duration": 0.019626,
     "end_time": "2024-08-04T16:53:02.727902",
     "exception": false,
     "start_time": "2024-08-04T16:53:02.708276",
     "status": "completed"
    },
    "tags": []
   },
   "source": [
    "# Part I - Exploring the Prosper Loan Dataset\n",
    "## By Sondos Aabed\n",
    "\n",
    "> My Github: [@sondosaabed](https://github.com/sondosaabed) \n",
    "\n",
    "> My LinkedIn: [@sondosaabed](https://www.linkedin.com/in/sondosaabed/)\n",
    "\n",
    "<hr/>"
   ]
  },
  {
   "cell_type": "markdown",
   "id": "51109b0c",
   "metadata": {
    "papermill": {
     "duration": 0.017395,
     "end_time": "2024-08-04T16:53:02.763772",
     "exception": false,
     "start_time": "2024-08-04T16:53:02.746377",
     "status": "completed"
    },
    "tags": []
   },
   "source": [
    "## Abstract\n"
   ]
  },
  {
   "cell_type": "markdown",
   "id": "8f1a69d2",
   "metadata": {
    "papermill": {
     "duration": 0.018362,
     "end_time": "2024-08-04T16:53:02.800992",
     "exception": false,
     "start_time": "2024-08-04T16:53:02.782630",
     "status": "completed"
    },
    "tags": []
   },
   "source": [
    "<hr/>"
   ]
  },
  {
   "cell_type": "markdown",
   "id": "a7a9ef0d",
   "metadata": {
    "papermill": {
     "duration": 0.018268,
     "end_time": "2024-08-04T16:53:02.837835",
     "exception": false,
     "start_time": "2024-08-04T16:53:02.819567",
     "status": "completed"
    },
    "tags": []
   },
   "source": [
    "## Table of Contents\n",
    "- Introduction\n",
    "    - Data Dictionary\n",
    "- Objectives\n",
    "- Premirely Wrangling\n",
    "- Univariate extrapolation\n",
    "- Bivariate extrapolation\n",
    "- Multivariate extrapolation\n",
    "- Conclusions"
   ]
  },
  {
   "cell_type": "markdown",
   "id": "f741a4af",
   "metadata": {
    "papermill": {
     "duration": 0.01735,
     "end_time": "2024-08-04T16:53:02.873841",
     "exception": false,
     "start_time": "2024-08-04T16:53:02.856491",
     "status": "completed"
    },
    "tags": []
   },
   "source": [
    "<hr/>"
   ]
  },
  {
   "cell_type": "markdown",
   "id": "a764dba6",
   "metadata": {
    "papermill": {
     "duration": 0.01738,
     "end_time": "2024-08-04T16:53:02.909024",
     "exception": false,
     "start_time": "2024-08-04T16:53:02.891644",
     "status": "completed"
    },
    "tags": []
   },
   "source": [
    "## Introduction"
   ]
  },
  {
   "cell_type": "markdown",
   "id": "64d2d797",
   "metadata": {
    "papermill": {
     "duration": 0.01752,
     "end_time": "2024-08-04T16:53:02.944701",
     "exception": false,
     "start_time": "2024-08-04T16:53:02.927181",
     "status": "completed"
    },
    "tags": []
   },
   "source": [
    "> In this notebook, the analysis is done on the Prosper Datatset which is collected from a Loan company. The dataset includes customers who have paid off their loans, who have been past due and put into collection without paying back their loan and interests, and who have paid off only after they were put in collection. The original dataset contains 113937 rows and 81 columns out of which 12 features of intrest were selected."
   ]
  },
  {
   "cell_type": "markdown",
   "id": "0b571e85",
   "metadata": {
    "papermill": {
     "duration": 0.017542,
     "end_time": "2024-08-04T16:53:02.979875",
     "exception": false,
     "start_time": "2024-08-04T16:53:02.962333",
     "status": "completed"
    },
    "tags": []
   },
   "source": [
    "### Data Dictionary\n",
    "The following data dictionary shows each variable of the dataset and the corresponding description:"
   ]
  },
  {
   "cell_type": "markdown",
   "id": "2abfd789",
   "metadata": {
    "papermill": {
     "duration": 0.019168,
     "end_time": "2024-08-04T16:53:03.017011",
     "exception": false,
     "start_time": "2024-08-04T16:53:02.997843",
     "status": "completed"
    },
    "tags": []
   },
   "source": [
    "| Variable                                | Description                                                                                                                                                                   |\n",
    "|-----------------------------------------|-------------------------------------------------------------------------------------------------------------------------------------------------------------------------------|\n",
    "| ListingKey                              | Unique key for each listing, same value as the 'key' used in the listing object in the API.                                                                                   |\n",
    "| ListingNumber                           | The number that uniquely identifies the listing to the public as displayed on the website.                                                                                    |\n",
    "| ListingCreationDate                     | The date the listing was created.                                                                                                                                             |\n",
    "| CreditGrade                             | The Credit rating that was assigned at the time the listing went live. Applicable for listings pre-2009 period and will only be populated for those listings.                 |\n",
    "| Term                                    | The length of the loan expressed in months.                                                                                                                                   |\n",
    "| LoanStatus                              | The current status of the loan: Cancelled, Chargedoff, Completed, Current, Defaulted, FinalPaymentInProgress, PastDue. The PastDue status will be accompanied by a delinquency bucket. |\n",
    "| ClosedDate                              | Closed date is applicable for Cancelled, Completed, Chargedoff and Defaulted loan statuses.                                                                                   |\n",
    "| BorrowerAPR                             | The Borrower's Annual Percentage Rate (APR) for the loan.                                                                                                                     |\n",
    "| BorrowerRate                            | The Borrower's interest rate for this loan.                                                                                                                                   |\n",
    "| LenderYield                             | The Lender yield on the loan. Lender yield is equal to the interest rate on the loan less the servicing fee.                                                                  |\n",
    "| EstimatedEffectiveYield                 | Effective yield is equal to the borrower interest rate (i) minus the servicing fee rate, (ii) minus estimated uncollected interest on charge-offs, (iii) plus estimated collected late fees.  Applicable for loans originated after July 2009. |\n",
    "| EstimatedLoss                           | Estimated loss is the estimated principal loss on charge-offs. Applicable for loans originated after July 2009.                                                                |\n",
    "| EstimatedReturn                         | The estimated return assigned to the listing at the time it was created. Estimated return is the difference between the Estimated Effective Yield and the Estimated Loss Rate. Applicable for loans originated after July 2009. |\n",
    "| ProsperRating (numeric)                 | The Prosper Rating assigned at the time the listing was created: 0 - N/A, 1 - HR, 2 - E, 3 - D, 4 - C, 5 - B, 6 - A, 7 - AA.  Applicable for loans originated after July 2009.  |\n",
    "| ProsperRating (Alpha)                   | The Prosper Rating assigned at the time the listing was created between AA - HR.  Applicable for loans originated after July 2009.                                            |\n",
    "| ProsperScore                            | A custom risk score built using historical Prosper data. The score ranges from 1-10, with 10 being the best, or lowest risk score.  Applicable for loans originated after July 2009. |\n",
    "| ListingCategory                         | The category of the listing that the borrower selected when posting their listing: 0 - Not Available, 1 - Debt Consolidation, 2 - Home Improvement, 3 - Business, 4 - Personal Loan, 5 - Student Use, 6 - Auto, 7 - Other, 8 - Baby&Adoption, 9 - Boat, 10 - Cosmetic Procedure, 11 - Engagement Ring, 12 - Green Loans, 13 - Household Expenses, 14 - Large Purchases, 15 - Medical/Dental, 16 - Motorcycle, 17 - RV, 18 - Taxes, 19 - Vacation, 20 - Wedding Loans |\n",
    "| BorrowerState                           | The two letter abbreviation of the state of the address of the borrower at the time the Listing was created.                                                                   |\n",
    "| Occupation                              | The Occupation selected by the Borrower at the time they created the listing.                                                                                                 |\n",
    "| EmploymentStatus                        | The employment status of the borrower at the time they posted the listing.                                                                                                    |\n",
    "| EmploymentStatusDuration                | The length in months of the employment status at the time the listing was created.                                                                                            |\n",
    "| IsBorrowerHomeowner                     | A Borrower will be classified as a homeowner if they have a mortgage on their credit profile or provide documentation confirming they are a homeowner.                        |\n",
    "| CurrentlyInGroup                        | Specifies whether or not the Borrower was in a group at the time the listing was created.                                                                                     |\n",
    "| GroupKey                                | The Key of the group in which the Borrower is a member of. Value will be null if the borrower does not have a group affiliation.                                              |\n",
    "| DateCreditPulled                        | The date the credit profile was pulled.                                                                                                                                       |\n",
    "| CreditScoreRangeLower                   | The lower value representing the range of the borrower's credit score as provided by a consumer credit rating agency.                                                         |\n",
    "| CreditScoreRangeUpper                   | The upper value representing the range of the borrower's credit score as provided by a consumer credit rating agency.                                                         |\n",
    "| FirstRecordedCreditLine                 | The date the first credit line was opened.                                                                                                                                    |\n",
    "| CurrentCreditLines                      | Number of current credit lines at the time the credit profile was pulled.                                                                                                     |\n",
    "| OpenCreditLines                         | Number of open credit lines at the time the credit profile was pulled.                                                                                                        |\n",
    "| TotalCreditLinespast7years              | Number of credit lines in the past seven years at the time the credit profile was pulled.                                                                                     |\n",
    "| OpenRevolvingAccounts                   | Number of open revolving accounts at the time the credit profile was pulled.                                                                                                  |\n",
    "| OpenRevolvingMonthlyPayment             | Monthly payment on revolving accounts at the time the credit profile was pulled.                                                                                              |\n",
    "| InquiriesLast6Months                    | Number of inquiries in the past six months at the time the credit profile was pulled.                                                                                         |\n",
    "| TotalInquiries                          | Total number of inquiries at the time the credit profile was pulled.                                                                                                          |\n",
    "| CurrentDelinquencies                    | Number of accounts delinquent at the time the credit profile was pulled.                                                                                                      |\n",
    "| AmountDelinquent                        | Dollars delinquent at the time the credit profile was pulled.                                                                                                                 |\n",
    "| DelinquenciesLast7Years                 | Number of delinquencies in the past 7 years at the time the credit profile was pulled.                                                                                        |\n",
    "| PublicRecordsLast10Years                | Number of public records in the past 10 years at the time the credit profile was pulled.                                                                                      |\n",
    "| PublicRecordsLast12Months               | Number of public records in the past 12 months at the time the credit profile was pulled.                                                                                     |\n",
    "| RevolvingCreditBalance                  | Dollars of revolving credit at the time the credit profile was pulled.                                                                                                        |\n",
    "| BankcardUtilization                     | The percentage of available revolving credit that is utilized at the time the credit profile was pulled.                                                                      |\n",
    "| AvailableBankcardCredit                 | The total available credit via bank card at the time the credit profile was pulled.                                                                                           |\n",
    "| TotalTrades                             | Number of trade lines ever opened at the time the credit profile was pulled.                                                                                                  |\n",
    "| TradesNeverDelinquent                   | Number of trades that have never been delinquent at the time the credit profile was pulled.                                                                                   |\n",
    "| TradesOpenedLast6Months                 | Number of trades opened in the last 6 months at the time the credit profile was pulled.                                                                                       |\n",
    "| DebtToIncomeRatio                       | The debt to income ratio of the borrower at the time the credit profile was pulled. This value is Null if the debt to income ratio is not available. This value is capped at 10.01 (any debt to income ratio larger than 1000% will be returned as 1001%). |\n",
    "| IncomeRange                             | The income range of the borrower at the time the listing was created.                                                                                                         |\n",
    "| IncomeVerifiable                        | The borrower indicated they have the required documentation to support their income.                                                                                          |\n",
    "| StatedMonthlyIncome                     | The monthly income the borrower stated at the time the listing was created.                                                                                                   |\n",
    "| LoanKey                                 | Unique key for each loan. This is the same key that is used in the API.                                                                                                       |\n",
    "| TotalProsperLoans                       | Number of Prosper loans the borrower at the time they created this listing. This value will be null if the borrower had no prior loans.                                       |\n",
    "| TotalProsperPaymentsBilled              | Number of on time payments the borrower made on Prosper loans at the time they created this listing. This value will be null if the borrower had no prior loans.             |\n",
    "| OnTimeProsperPayments                   | Number of on time payments the borrower had made on Prosper loans at the time they created this listing. This value will be null if the borrower has no prior loans.         |\n",
    "| ProsperPaymentsLessThanOneMonthLate     | Number of payments the borrower made on Prosper loans that were less than one month late at the time they created this listing. This value will be null if the borrower had no prior loans. |\n",
    "| ProsperPaymentsOneMonthPlusLate         | Number of payments the borrower made on Prosper loans that were greater than one month late at the time they created this listing. This value will be null if the borrower had no prior loans. |\n",
    "| ProsperPrincipalBorrowed                | Total principal borrowed on Prosper loans at the time the listing was created. This value will be null if the borrower had no prior loans.                                     |\n",
    "| ProsperPrincipalOutstanding             | Principal outstanding on Prosper loans at the time the listing was created. This value will be null if the borrower had no prior loans.                                        |\n",
    "| ScorexChangeAtTimeOfListing             | Borrower's credit score change at the time the credit profile was pulled. This will be the change relative to the borrower's last Prosper loan. This value will be null if the borrower had no prior loans. |\n",
    "| LoanCurrentDaysDelinquent               | The number of days delinquent.                                                                                                                                               |\n",
    "| LoanFirstDefaultedCycleNumber           | The cycle the loan was charged off. If the loan has not charged off the value will be null.                                                                                   |\n",
    "| LoanMonthsSinceOrigination              | Months since the loan originated.                                                                                                                                            |\n",
    "| LoanNumber                              | The number that uniquely identifies the loan to the public as displayed on the website.                                                                                      |\n",
    "| LoanOriginalAmount                      | The original amount of the loan.                                                                                                                                             |\n",
    "| LoanOriginationDate                     | The date the loan originated.                                                                                                                                                |\n",
    "| LoanOriginationQuarter                  | The quarter in which the loan originated.                                                                                                                                    |\n",
    "| MemberKey                               | Unique key for each member. This is the same key that is used in the API.                                                                                                     |\n",
    "| MonthlyLoanPayment                      | The monthly payment (principal and interest) the borrower is required to make for this loan.                                                                                 |\n",
    "| LP_CustomerPayments                     | The total payments (principal + interest) that have been made on the loan by the borrower.                                                                                   |\n",
    "| LP_CustomerPrincipalPayments            | The total principal payments that have been made on the loan by the borrower.                                                                                                |\n",
    "| LP_InterestandFees                      | Interest and fees paid by the borrower.                                                                                                                                      |\n",
    "| LP_ServiceFees                          | The servicing fees paid by the borrower.                                                                                                                                    |\n",
    "| LP_CollectionFees                       | The collection fees paid by the borrower.                                                                                                                                   |\n",
    "| LP_GrossPrincipalLoss                   | Gross principal loss on the loan.                                                                                                                                           |\n",
    "| LP_NetPrincipalLoss                     | Net principal loss on the loan.                                                                                                                                             |\n",
    "| LP_NonPrincipalRecoverypayments         | Non-principal recovery payments on the loan.                                                                                                                                |\n",
    "| PercentFunded                           | The percentage of the loan that was funded.                                                                                                                                 |\n",
    "| Recommendations                         | Number of recommendations the borrower had at the time they created the listing.                                                                                            |\n",
    "| InvestmentFromFriendsCount              | Number of investments that were made by friends at the time the listing was created.                                                                                        |\n",
    "| InvestmentFromFriendsAmount             | The dollar amount of investments that were made by friends at the time the listing was created.                                                                              |\n",
    "| Investors                               | The number of investors that funded the loan.                                                                                                                               |\n"
   ]
  },
  {
   "cell_type": "markdown",
   "id": "51964c72",
   "metadata": {
    "papermill": {
     "duration": 0.018638,
     "end_time": "2024-08-04T16:53:03.053345",
     "exception": false,
     "start_time": "2024-08-04T16:53:03.034707",
     "status": "completed"
    },
    "tags": []
   },
   "source": [
    "<hr/>"
   ]
  },
  {
   "cell_type": "markdown",
   "id": "9ea7242c",
   "metadata": {
    "papermill": {
     "duration": 0.017887,
     "end_time": "2024-08-04T16:53:03.089867",
     "exception": false,
     "start_time": "2024-08-04T16:53:03.071980",
     "status": "completed"
    },
    "tags": []
   },
   "source": [
    "## Objectives\n",
    "\n",
    "**1.  Loan Performance Analysis**\n",
    "\n",
    "**2.  Credit Score and Borrower Analysis**\n",
    "\n",
    "**3.  Geographic and Demographic Analysis**"
   ]
  },
  {
   "cell_type": "markdown",
   "id": "6dbf2508",
   "metadata": {
    "papermill": {
     "duration": 0.019814,
     "end_time": "2024-08-04T16:53:03.128100",
     "exception": false,
     "start_time": "2024-08-04T16:53:03.108286",
     "status": "completed"
    },
    "tags": []
   },
   "source": [
    "<hr/>"
   ]
  },
  {
   "cell_type": "markdown",
   "id": "20171cd0",
   "metadata": {
    "papermill": {
     "duration": 0.019462,
     "end_time": "2024-08-04T16:53:03.166748",
     "exception": false,
     "start_time": "2024-08-04T16:53:03.147286",
     "status": "completed"
    },
    "tags": []
   },
   "source": [
    "## Preliminary Wrangling"
   ]
  },
  {
   "cell_type": "markdown",
   "id": "4a0529a2",
   "metadata": {
    "papermill": {
     "duration": 0.017475,
     "end_time": "2024-08-04T16:53:03.202025",
     "exception": false,
     "start_time": "2024-08-04T16:53:03.184550",
     "status": "completed"
    },
    "tags": []
   },
   "source": [
    "- In this section, a preliminary data wrangling is done on the dataset. "
   ]
  },
  {
   "cell_type": "code",
   "execution_count": 1,
   "id": "ae8f2569",
   "metadata": {
    "execution": {
     "iopub.execute_input": "2024-08-04T16:53:03.240671Z",
     "iopub.status.busy": "2024-08-04T16:53:03.240244Z",
     "iopub.status.idle": "2024-08-04T16:53:06.015667Z",
     "shell.execute_reply": "2024-08-04T16:53:06.014397Z"
    },
    "papermill": {
     "duration": 2.798279,
     "end_time": "2024-08-04T16:53:06.018545",
     "exception": false,
     "start_time": "2024-08-04T16:53:03.220266",
     "status": "completed"
    },
    "tags": []
   },
   "outputs": [
    {
     "name": "stderr",
     "output_type": "stream",
     "text": [
      "c:\\Users\\SS\\AppData\\Local\\Programs\\Python\\Python311\\Lib\\site-packages\\scipy\\__init__.py:169: UserWarning: A NumPy version >=1.18.5 and <1.26.0 is required for this version of SciPy (detected version 1.26.4\n",
      "  warnings.warn(f\"A NumPy version >={np_minversion} and <{np_maxversion}\"\n"
     ]
    }
   ],
   "source": [
    "## import all packages\n",
    "import numpy as np\n",
    "import pandas as pd\n",
    "import matplotlib.pyplot as plt\n",
    "import seaborn as sns"
   ]
  },
  {
   "cell_type": "markdown",
   "id": "388c4999",
   "metadata": {
    "papermill": {
     "duration": 0.01957,
     "end_time": "2024-08-04T16:53:06.056715",
     "exception": false,
     "start_time": "2024-08-04T16:53:06.037145",
     "status": "completed"
    },
    "tags": []
   },
   "source": [
    "### Loading the dataset"
   ]
  },
  {
   "cell_type": "markdown",
   "id": "b8c700c9",
   "metadata": {
    "papermill": {
     "duration": 0.017697,
     "end_time": "2024-08-04T16:53:06.092265",
     "exception": false,
     "start_time": "2024-08-04T16:53:06.074568",
     "status": "completed"
    },
    "tags": []
   },
   "source": [
    "> Let's Load in the dataset into a pandas dataframe:"
   ]
  },
  {
   "cell_type": "code",
   "execution_count": 2,
   "id": "b4b2debe",
   "metadata": {
    "execution": {
     "iopub.execute_input": "2024-08-04T16:53:06.130529Z",
     "iopub.status.busy": "2024-08-04T16:53:06.129888Z",
     "iopub.status.idle": "2024-08-04T16:53:09.367406Z",
     "shell.execute_reply": "2024-08-04T16:53:09.365834Z"
    },
    "papermill": {
     "duration": 3.260655,
     "end_time": "2024-08-04T16:53:09.370691",
     "exception": false,
     "start_time": "2024-08-04T16:53:06.110036",
     "status": "completed"
    },
    "tags": []
   },
   "outputs": [
    {
     "data": {
      "text/html": [
       "<div>\n",
       "<style scoped>\n",
       "    .dataframe tbody tr th:only-of-type {\n",
       "        vertical-align: middle;\n",
       "    }\n",
       "\n",
       "    .dataframe tbody tr th {\n",
       "        vertical-align: top;\n",
       "    }\n",
       "\n",
       "    .dataframe thead th {\n",
       "        text-align: right;\n",
       "    }\n",
       "</style>\n",
       "<table border=\"1\" class=\"dataframe\">\n",
       "  <thead>\n",
       "    <tr style=\"text-align: right;\">\n",
       "      <th></th>\n",
       "      <th>ListingKey</th>\n",
       "      <th>ListingNumber</th>\n",
       "      <th>ListingCreationDate</th>\n",
       "      <th>CreditGrade</th>\n",
       "      <th>Term</th>\n",
       "      <th>LoanStatus</th>\n",
       "      <th>ClosedDate</th>\n",
       "      <th>BorrowerAPR</th>\n",
       "      <th>BorrowerRate</th>\n",
       "      <th>LenderYield</th>\n",
       "      <th>...</th>\n",
       "      <th>LP_ServiceFees</th>\n",
       "      <th>LP_CollectionFees</th>\n",
       "      <th>LP_GrossPrincipalLoss</th>\n",
       "      <th>LP_NetPrincipalLoss</th>\n",
       "      <th>LP_NonPrincipalRecoverypayments</th>\n",
       "      <th>PercentFunded</th>\n",
       "      <th>Recommendations</th>\n",
       "      <th>InvestmentFromFriendsCount</th>\n",
       "      <th>InvestmentFromFriendsAmount</th>\n",
       "      <th>Investors</th>\n",
       "    </tr>\n",
       "  </thead>\n",
       "  <tbody>\n",
       "    <tr>\n",
       "      <th>9411</th>\n",
       "      <td>7B6435369492901287F1C12</td>\n",
       "      <td>550907</td>\n",
       "      <td>2012-01-12 06:32:56.637000000</td>\n",
       "      <td>NaN</td>\n",
       "      <td>60</td>\n",
       "      <td>Completed</td>\n",
       "      <td>2014-01-24 00:00:00</td>\n",
       "      <td>0.14766</td>\n",
       "      <td>0.1296</td>\n",
       "      <td>0.1196</td>\n",
       "      <td>...</td>\n",
       "      <td>-259.27</td>\n",
       "      <td>0.00</td>\n",
       "      <td>0.00</td>\n",
       "      <td>0.00</td>\n",
       "      <td>0.0</td>\n",
       "      <td>1.0</td>\n",
       "      <td>0</td>\n",
       "      <td>0</td>\n",
       "      <td>0.0</td>\n",
       "      <td>204</td>\n",
       "    </tr>\n",
       "    <tr>\n",
       "      <th>7487</th>\n",
       "      <td>2D383603494242171742DE6</td>\n",
       "      <td>1212527</td>\n",
       "      <td>2014-02-27 13:13:26.180000000</td>\n",
       "      <td>NaN</td>\n",
       "      <td>36</td>\n",
       "      <td>Current</td>\n",
       "      <td>NaN</td>\n",
       "      <td>0.31196</td>\n",
       "      <td>0.2724</td>\n",
       "      <td>0.2624</td>\n",
       "      <td>...</td>\n",
       "      <td>0.00</td>\n",
       "      <td>0.00</td>\n",
       "      <td>0.00</td>\n",
       "      <td>0.00</td>\n",
       "      <td>0.0</td>\n",
       "      <td>1.0</td>\n",
       "      <td>0</td>\n",
       "      <td>0</td>\n",
       "      <td>0.0</td>\n",
       "      <td>30</td>\n",
       "    </tr>\n",
       "    <tr>\n",
       "      <th>29595</th>\n",
       "      <td>BE963501181925634AE8B5D</td>\n",
       "      <td>487308</td>\n",
       "      <td>2010-12-09 23:35:33.197000000</td>\n",
       "      <td>NaN</td>\n",
       "      <td>36</td>\n",
       "      <td>Chargedoff</td>\n",
       "      <td>2013-02-02 00:00:00</td>\n",
       "      <td>0.35858</td>\n",
       "      <td>0.3220</td>\n",
       "      <td>0.3120</td>\n",
       "      <td>...</td>\n",
       "      <td>-64.85</td>\n",
       "      <td>0.00</td>\n",
       "      <td>2696.51</td>\n",
       "      <td>2696.51</td>\n",
       "      <td>0.0</td>\n",
       "      <td>1.0</td>\n",
       "      <td>0</td>\n",
       "      <td>0</td>\n",
       "      <td>0.0</td>\n",
       "      <td>77</td>\n",
       "    </tr>\n",
       "    <tr>\n",
       "      <th>19330</th>\n",
       "      <td>13453599562822763F1C1FE</td>\n",
       "      <td>1144487</td>\n",
       "      <td>2014-01-17 16:29:47.080000000</td>\n",
       "      <td>NaN</td>\n",
       "      <td>60</td>\n",
       "      <td>Current</td>\n",
       "      <td>NaN</td>\n",
       "      <td>0.18068</td>\n",
       "      <td>0.1570</td>\n",
       "      <td>0.1470</td>\n",
       "      <td>...</td>\n",
       "      <td>0.00</td>\n",
       "      <td>0.00</td>\n",
       "      <td>0.00</td>\n",
       "      <td>0.00</td>\n",
       "      <td>0.0</td>\n",
       "      <td>1.0</td>\n",
       "      <td>0</td>\n",
       "      <td>0</td>\n",
       "      <td>0.0</td>\n",
       "      <td>1</td>\n",
       "    </tr>\n",
       "    <tr>\n",
       "      <th>8812</th>\n",
       "      <td>52A035522047895791CEC82</td>\n",
       "      <td>616051</td>\n",
       "      <td>2012-07-24 08:54:43.947000000</td>\n",
       "      <td>NaN</td>\n",
       "      <td>60</td>\n",
       "      <td>Current</td>\n",
       "      <td>NaN</td>\n",
       "      <td>0.30697</td>\n",
       "      <td>0.2804</td>\n",
       "      <td>0.2704</td>\n",
       "      <td>...</td>\n",
       "      <td>-219.37</td>\n",
       "      <td>0.00</td>\n",
       "      <td>0.00</td>\n",
       "      <td>0.00</td>\n",
       "      <td>0.0</td>\n",
       "      <td>1.0</td>\n",
       "      <td>0</td>\n",
       "      <td>0</td>\n",
       "      <td>0.0</td>\n",
       "      <td>19</td>\n",
       "    </tr>\n",
       "    <tr>\n",
       "      <th>33445</th>\n",
       "      <td>C74935524824367158DBA7E</td>\n",
       "      <td>611570</td>\n",
       "      <td>2012-07-13 12:24:26.937000000</td>\n",
       "      <td>NaN</td>\n",
       "      <td>60</td>\n",
       "      <td>Chargedoff</td>\n",
       "      <td>2013-03-21 00:00:00</td>\n",
       "      <td>0.35838</td>\n",
       "      <td>0.3304</td>\n",
       "      <td>0.3204</td>\n",
       "      <td>...</td>\n",
       "      <td>-10.03</td>\n",
       "      <td>0.00</td>\n",
       "      <td>3920.12</td>\n",
       "      <td>3920.12</td>\n",
       "      <td>0.0</td>\n",
       "      <td>1.0</td>\n",
       "      <td>0</td>\n",
       "      <td>0</td>\n",
       "      <td>0.0</td>\n",
       "      <td>24</td>\n",
       "    </tr>\n",
       "    <tr>\n",
       "      <th>6330</th>\n",
       "      <td>9D9B3547652480752D8FDE0</td>\n",
       "      <td>595303</td>\n",
       "      <td>2012-06-01 18:16:11.130000000</td>\n",
       "      <td>NaN</td>\n",
       "      <td>60</td>\n",
       "      <td>Current</td>\n",
       "      <td>NaN</td>\n",
       "      <td>0.31375</td>\n",
       "      <td>0.2870</td>\n",
       "      <td>0.2770</td>\n",
       "      <td>...</td>\n",
       "      <td>-56.50</td>\n",
       "      <td>0.00</td>\n",
       "      <td>0.00</td>\n",
       "      <td>0.00</td>\n",
       "      <td>0.0</td>\n",
       "      <td>1.0</td>\n",
       "      <td>0</td>\n",
       "      <td>0</td>\n",
       "      <td>0.0</td>\n",
       "      <td>75</td>\n",
       "    </tr>\n",
       "    <tr>\n",
       "      <th>74656</th>\n",
       "      <td>F2503525834862668B39E57</td>\n",
       "      <td>528906</td>\n",
       "      <td>2011-09-22 17:29:03.063000000</td>\n",
       "      <td>NaN</td>\n",
       "      <td>36</td>\n",
       "      <td>Current</td>\n",
       "      <td>NaN</td>\n",
       "      <td>0.20200</td>\n",
       "      <td>0.1799</td>\n",
       "      <td>0.1699</td>\n",
       "      <td>...</td>\n",
       "      <td>-208.06</td>\n",
       "      <td>0.00</td>\n",
       "      <td>0.00</td>\n",
       "      <td>0.00</td>\n",
       "      <td>0.0</td>\n",
       "      <td>1.0</td>\n",
       "      <td>0</td>\n",
       "      <td>0</td>\n",
       "      <td>0.0</td>\n",
       "      <td>34</td>\n",
       "    </tr>\n",
       "    <tr>\n",
       "      <th>67049</th>\n",
       "      <td>7DE43403654069581F37395</td>\n",
       "      <td>225396</td>\n",
       "      <td>2007-11-03 11:15:19.570000000</td>\n",
       "      <td>C</td>\n",
       "      <td>36</td>\n",
       "      <td>Chargedoff</td>\n",
       "      <td>2011-01-13 00:00:00</td>\n",
       "      <td>0.18726</td>\n",
       "      <td>0.1800</td>\n",
       "      <td>0.1700</td>\n",
       "      <td>...</td>\n",
       "      <td>-63.03</td>\n",
       "      <td>0.00</td>\n",
       "      <td>400.74</td>\n",
       "      <td>400.75</td>\n",
       "      <td>0.0</td>\n",
       "      <td>1.0</td>\n",
       "      <td>0</td>\n",
       "      <td>0</td>\n",
       "      <td>0.0</td>\n",
       "      <td>41</td>\n",
       "    </tr>\n",
       "    <tr>\n",
       "      <th>71842</th>\n",
       "      <td>7EA83479372126569B22C3B</td>\n",
       "      <td>450995</td>\n",
       "      <td>2010-03-18 13:01:12.087000000</td>\n",
       "      <td>NaN</td>\n",
       "      <td>36</td>\n",
       "      <td>Chargedoff</td>\n",
       "      <td>2011-09-02 00:00:00</td>\n",
       "      <td>0.34052</td>\n",
       "      <td>0.3165</td>\n",
       "      <td>0.3065</td>\n",
       "      <td>...</td>\n",
       "      <td>-12.73</td>\n",
       "      <td>-190.29</td>\n",
       "      <td>1720.41</td>\n",
       "      <td>1720.41</td>\n",
       "      <td>650.0</td>\n",
       "      <td>1.0</td>\n",
       "      <td>0</td>\n",
       "      <td>2</td>\n",
       "      <td>150.0</td>\n",
       "      <td>63</td>\n",
       "    </tr>\n",
       "  </tbody>\n",
       "</table>\n",
       "<p>10 rows × 81 columns</p>\n",
       "</div>"
      ],
      "text/plain": [
       "                    ListingKey  ListingNumber            ListingCreationDate  \\\n",
       "9411   7B6435369492901287F1C12         550907  2012-01-12 06:32:56.637000000   \n",
       "7487   2D383603494242171742DE6        1212527  2014-02-27 13:13:26.180000000   \n",
       "29595  BE963501181925634AE8B5D         487308  2010-12-09 23:35:33.197000000   \n",
       "19330  13453599562822763F1C1FE        1144487  2014-01-17 16:29:47.080000000   \n",
       "8812   52A035522047895791CEC82         616051  2012-07-24 08:54:43.947000000   \n",
       "33445  C74935524824367158DBA7E         611570  2012-07-13 12:24:26.937000000   \n",
       "6330   9D9B3547652480752D8FDE0         595303  2012-06-01 18:16:11.130000000   \n",
       "74656  F2503525834862668B39E57         528906  2011-09-22 17:29:03.063000000   \n",
       "67049  7DE43403654069581F37395         225396  2007-11-03 11:15:19.570000000   \n",
       "71842  7EA83479372126569B22C3B         450995  2010-03-18 13:01:12.087000000   \n",
       "\n",
       "      CreditGrade  Term  LoanStatus           ClosedDate  BorrowerAPR  \\\n",
       "9411          NaN    60   Completed  2014-01-24 00:00:00      0.14766   \n",
       "7487          NaN    36     Current                  NaN      0.31196   \n",
       "29595         NaN    36  Chargedoff  2013-02-02 00:00:00      0.35858   \n",
       "19330         NaN    60     Current                  NaN      0.18068   \n",
       "8812          NaN    60     Current                  NaN      0.30697   \n",
       "33445         NaN    60  Chargedoff  2013-03-21 00:00:00      0.35838   \n",
       "6330          NaN    60     Current                  NaN      0.31375   \n",
       "74656         NaN    36     Current                  NaN      0.20200   \n",
       "67049           C    36  Chargedoff  2011-01-13 00:00:00      0.18726   \n",
       "71842         NaN    36  Chargedoff  2011-09-02 00:00:00      0.34052   \n",
       "\n",
       "       BorrowerRate  LenderYield  ...  LP_ServiceFees  LP_CollectionFees  \\\n",
       "9411         0.1296       0.1196  ...         -259.27               0.00   \n",
       "7487         0.2724       0.2624  ...            0.00               0.00   \n",
       "29595        0.3220       0.3120  ...          -64.85               0.00   \n",
       "19330        0.1570       0.1470  ...            0.00               0.00   \n",
       "8812         0.2804       0.2704  ...         -219.37               0.00   \n",
       "33445        0.3304       0.3204  ...          -10.03               0.00   \n",
       "6330         0.2870       0.2770  ...          -56.50               0.00   \n",
       "74656        0.1799       0.1699  ...         -208.06               0.00   \n",
       "67049        0.1800       0.1700  ...          -63.03               0.00   \n",
       "71842        0.3165       0.3065  ...          -12.73            -190.29   \n",
       "\n",
       "       LP_GrossPrincipalLoss  LP_NetPrincipalLoss  \\\n",
       "9411                    0.00                 0.00   \n",
       "7487                    0.00                 0.00   \n",
       "29595                2696.51              2696.51   \n",
       "19330                   0.00                 0.00   \n",
       "8812                    0.00                 0.00   \n",
       "33445                3920.12              3920.12   \n",
       "6330                    0.00                 0.00   \n",
       "74656                   0.00                 0.00   \n",
       "67049                 400.74               400.75   \n",
       "71842                1720.41              1720.41   \n",
       "\n",
       "      LP_NonPrincipalRecoverypayments  PercentFunded  Recommendations  \\\n",
       "9411                              0.0            1.0                0   \n",
       "7487                              0.0            1.0                0   \n",
       "29595                             0.0            1.0                0   \n",
       "19330                             0.0            1.0                0   \n",
       "8812                              0.0            1.0                0   \n",
       "33445                             0.0            1.0                0   \n",
       "6330                              0.0            1.0                0   \n",
       "74656                             0.0            1.0                0   \n",
       "67049                             0.0            1.0                0   \n",
       "71842                           650.0            1.0                0   \n",
       "\n",
       "      InvestmentFromFriendsCount InvestmentFromFriendsAmount Investors  \n",
       "9411                           0                         0.0       204  \n",
       "7487                           0                         0.0        30  \n",
       "29595                          0                         0.0        77  \n",
       "19330                          0                         0.0         1  \n",
       "8812                           0                         0.0        19  \n",
       "33445                          0                         0.0        24  \n",
       "6330                           0                         0.0        75  \n",
       "74656                          0                         0.0        34  \n",
       "67049                          0                         0.0        41  \n",
       "71842                          2                       150.0        63  \n",
       "\n",
       "[10 rows x 81 columns]"
      ]
     },
     "execution_count": 2,
     "metadata": {},
     "output_type": "execute_result"
    }
   ],
   "source": [
    "df = pd.read_csv(\"./data/prosperLoanData.csv\") ## Load the csv into pandas dataframe\n",
    "df.sample(10) ## Looking at a random sample of 10 rows."
   ]
  },
  {
   "cell_type": "markdown",
   "id": "60893a01",
   "metadata": {
    "papermill": {
     "duration": 0.018941,
     "end_time": "2024-08-04T16:53:09.408632",
     "exception": false,
     "start_time": "2024-08-04T16:53:09.389691",
     "status": "completed"
    },
    "tags": []
   },
   "source": [
    "### Dataset Structure"
   ]
  },
  {
   "cell_type": "code",
   "execution_count": 3,
   "id": "6b09d6d8",
   "metadata": {
    "execution": {
     "iopub.execute_input": "2024-08-04T16:53:09.449610Z",
     "iopub.status.busy": "2024-08-04T16:53:09.449145Z",
     "iopub.status.idle": "2024-08-04T16:53:09.457096Z",
     "shell.execute_reply": "2024-08-04T16:53:09.455810Z"
    },
    "papermill": {
     "duration": 0.031314,
     "end_time": "2024-08-04T16:53:09.459971",
     "exception": false,
     "start_time": "2024-08-04T16:53:09.428657",
     "status": "completed"
    },
    "tags": []
   },
   "outputs": [
    {
     "data": {
      "text/plain": [
       "(113937, 81)"
      ]
     },
     "execution_count": 3,
     "metadata": {},
     "output_type": "execute_result"
    }
   ],
   "source": [
    "df.shape ## showing the shape of the dataset"
   ]
  },
  {
   "cell_type": "markdown",
   "id": "6ba71d8c",
   "metadata": {
    "papermill": {
     "duration": 0.018926,
     "end_time": "2024-08-04T16:53:09.498261",
     "exception": false,
     "start_time": "2024-08-04T16:53:09.479335",
     "status": "completed"
    },
    "tags": []
   },
   "source": [
    "> This dataset has 113,937 rows and 81 columns. Which is a relatively big dataset."
   ]
  },
  {
   "cell_type": "markdown",
   "id": "3b577cac",
   "metadata": {
    "papermill": {
     "duration": 0.018991,
     "end_time": "2024-08-04T16:53:09.537048",
     "exception": false,
     "start_time": "2024-08-04T16:53:09.518057",
     "status": "completed"
    },
    "tags": []
   },
   "source": [
    "### Dataset Assessment and Cleaning"
   ]
  },
  {
   "cell_type": "markdown",
   "id": "a1db80cb",
   "metadata": {},
   "source": [
    "#### Duplicated Records"
   ]
  },
  {
   "cell_type": "code",
   "execution_count": 4,
   "id": "a1954b35",
   "metadata": {},
   "outputs": [
    {
     "data": {
      "text/plain": [
       "871"
      ]
     },
     "execution_count": 4,
     "metadata": {},
     "output_type": "execute_result"
    }
   ],
   "source": [
    "df.duplicated(subset='LoanKey').sum()"
   ]
  },
  {
   "cell_type": "markdown",
   "id": "79266d84",
   "metadata": {},
   "source": [
    "> Let's identify the duplicated records based on the LoanKey and see if wwe should handle this"
   ]
  },
  {
   "cell_type": "code",
   "execution_count": 5,
   "id": "8d54810e",
   "metadata": {},
   "outputs": [
    {
     "data": {
      "text/html": [
       "<div>\n",
       "<style scoped>\n",
       "    .dataframe tbody tr th:only-of-type {\n",
       "        vertical-align: middle;\n",
       "    }\n",
       "\n",
       "    .dataframe tbody tr th {\n",
       "        vertical-align: top;\n",
       "    }\n",
       "\n",
       "    .dataframe thead th {\n",
       "        text-align: right;\n",
       "    }\n",
       "</style>\n",
       "<table border=\"1\" class=\"dataframe\">\n",
       "  <thead>\n",
       "    <tr style=\"text-align: right;\">\n",
       "      <th></th>\n",
       "      <th>ListingKey</th>\n",
       "      <th>ListingNumber</th>\n",
       "      <th>ListingCreationDate</th>\n",
       "      <th>CreditGrade</th>\n",
       "      <th>Term</th>\n",
       "      <th>LoanStatus</th>\n",
       "      <th>ClosedDate</th>\n",
       "      <th>BorrowerAPR</th>\n",
       "      <th>BorrowerRate</th>\n",
       "      <th>LenderYield</th>\n",
       "      <th>...</th>\n",
       "      <th>LP_ServiceFees</th>\n",
       "      <th>LP_CollectionFees</th>\n",
       "      <th>LP_GrossPrincipalLoss</th>\n",
       "      <th>LP_NetPrincipalLoss</th>\n",
       "      <th>LP_NonPrincipalRecoverypayments</th>\n",
       "      <th>PercentFunded</th>\n",
       "      <th>Recommendations</th>\n",
       "      <th>InvestmentFromFriendsCount</th>\n",
       "      <th>InvestmentFromFriendsAmount</th>\n",
       "      <th>Investors</th>\n",
       "    </tr>\n",
       "  </thead>\n",
       "  <tbody>\n",
       "    <tr>\n",
       "      <th>8</th>\n",
       "      <td>0F043596202561788EA13D5</td>\n",
       "      <td>1023355</td>\n",
       "      <td>2013-12-02 10:43:39.117000000</td>\n",
       "      <td>NaN</td>\n",
       "      <td>36</td>\n",
       "      <td>Current</td>\n",
       "      <td>NaN</td>\n",
       "      <td>0.07620</td>\n",
       "      <td>0.0629</td>\n",
       "      <td>0.0529</td>\n",
       "      <td>...</td>\n",
       "      <td>-16.77</td>\n",
       "      <td>0.0</td>\n",
       "      <td>0.0</td>\n",
       "      <td>0.0</td>\n",
       "      <td>0.0</td>\n",
       "      <td>1.0</td>\n",
       "      <td>0</td>\n",
       "      <td>0</td>\n",
       "      <td>0.0</td>\n",
       "      <td>1</td>\n",
       "    </tr>\n",
       "    <tr>\n",
       "      <th>9</th>\n",
       "      <td>0F043596202561788EA13D5</td>\n",
       "      <td>1023355</td>\n",
       "      <td>2013-12-02 10:43:39.117000000</td>\n",
       "      <td>NaN</td>\n",
       "      <td>36</td>\n",
       "      <td>Current</td>\n",
       "      <td>NaN</td>\n",
       "      <td>0.07620</td>\n",
       "      <td>0.0629</td>\n",
       "      <td>0.0529</td>\n",
       "      <td>...</td>\n",
       "      <td>-16.77</td>\n",
       "      <td>0.0</td>\n",
       "      <td>0.0</td>\n",
       "      <td>0.0</td>\n",
       "      <td>0.0</td>\n",
       "      <td>1.0</td>\n",
       "      <td>0</td>\n",
       "      <td>0</td>\n",
       "      <td>0.0</td>\n",
       "      <td>1</td>\n",
       "    </tr>\n",
       "    <tr>\n",
       "      <th>29</th>\n",
       "      <td>0F563597161095613517437</td>\n",
       "      <td>1051243</td>\n",
       "      <td>2013-12-17 09:18:33.220000000</td>\n",
       "      <td>NaN</td>\n",
       "      <td>36</td>\n",
       "      <td>Current</td>\n",
       "      <td>NaN</td>\n",
       "      <td>0.15223</td>\n",
       "      <td>0.1239</td>\n",
       "      <td>0.1139</td>\n",
       "      <td>...</td>\n",
       "      <td>-29.73</td>\n",
       "      <td>0.0</td>\n",
       "      <td>0.0</td>\n",
       "      <td>0.0</td>\n",
       "      <td>0.0</td>\n",
       "      <td>1.0</td>\n",
       "      <td>0</td>\n",
       "      <td>0</td>\n",
       "      <td>0.0</td>\n",
       "      <td>1</td>\n",
       "    </tr>\n",
       "    <tr>\n",
       "      <th>176</th>\n",
       "      <td>106335993636414276CB477</td>\n",
       "      <td>1119836</td>\n",
       "      <td>2014-01-08 14:27:50.320000000</td>\n",
       "      <td>NaN</td>\n",
       "      <td>36</td>\n",
       "      <td>Current</td>\n",
       "      <td>NaN</td>\n",
       "      <td>0.32446</td>\n",
       "      <td>0.2850</td>\n",
       "      <td>0.2750</td>\n",
       "      <td>...</td>\n",
       "      <td>-3.40</td>\n",
       "      <td>0.0</td>\n",
       "      <td>0.0</td>\n",
       "      <td>0.0</td>\n",
       "      <td>0.0</td>\n",
       "      <td>1.0</td>\n",
       "      <td>0</td>\n",
       "      <td>0</td>\n",
       "      <td>0.0</td>\n",
       "      <td>5</td>\n",
       "    </tr>\n",
       "    <tr>\n",
       "      <th>313</th>\n",
       "      <td>09233589620788733CFB8CE</td>\n",
       "      <td>930842</td>\n",
       "      <td>2013-09-25 08:03:11.860000000</td>\n",
       "      <td>NaN</td>\n",
       "      <td>36</td>\n",
       "      <td>Current</td>\n",
       "      <td>NaN</td>\n",
       "      <td>0.19144</td>\n",
       "      <td>0.1550</td>\n",
       "      <td>0.1450</td>\n",
       "      <td>...</td>\n",
       "      <td>-36.97</td>\n",
       "      <td>0.0</td>\n",
       "      <td>0.0</td>\n",
       "      <td>0.0</td>\n",
       "      <td>0.0</td>\n",
       "      <td>1.0</td>\n",
       "      <td>0</td>\n",
       "      <td>0</td>\n",
       "      <td>0.0</td>\n",
       "      <td>169</td>\n",
       "    </tr>\n",
       "    <tr>\n",
       "      <th>349</th>\n",
       "      <td>313635901230654318A9030</td>\n",
       "      <td>931467</td>\n",
       "      <td>2013-09-26 18:50:29.053000000</td>\n",
       "      <td>NaN</td>\n",
       "      <td>36</td>\n",
       "      <td>Current</td>\n",
       "      <td>NaN</td>\n",
       "      <td>0.17090</td>\n",
       "      <td>0.1349</td>\n",
       "      <td>0.1249</td>\n",
       "      <td>...</td>\n",
       "      <td>-15.40</td>\n",
       "      <td>0.0</td>\n",
       "      <td>0.0</td>\n",
       "      <td>0.0</td>\n",
       "      <td>0.0</td>\n",
       "      <td>1.0</td>\n",
       "      <td>0</td>\n",
       "      <td>0</td>\n",
       "      <td>0.0</td>\n",
       "      <td>1</td>\n",
       "    </tr>\n",
       "    <tr>\n",
       "      <th>442</th>\n",
       "      <td>09AD35918712001025AC1BD</td>\n",
       "      <td>969821</td>\n",
       "      <td>2013-10-24 13:21:31.607000000</td>\n",
       "      <td>NaN</td>\n",
       "      <td>36</td>\n",
       "      <td>Current</td>\n",
       "      <td>NaN</td>\n",
       "      <td>0.20524</td>\n",
       "      <td>0.1685</td>\n",
       "      <td>0.1585</td>\n",
       "      <td>...</td>\n",
       "      <td>-8.41</td>\n",
       "      <td>0.0</td>\n",
       "      <td>0.0</td>\n",
       "      <td>0.0</td>\n",
       "      <td>0.0</td>\n",
       "      <td>1.0</td>\n",
       "      <td>0</td>\n",
       "      <td>0</td>\n",
       "      <td>0.0</td>\n",
       "      <td>1</td>\n",
       "    </tr>\n",
       "    <tr>\n",
       "      <th>444</th>\n",
       "      <td>09CD3592594126374FB0A7C</td>\n",
       "      <td>986199</td>\n",
       "      <td>2013-10-18 08:28:03.610000000</td>\n",
       "      <td>NaN</td>\n",
       "      <td>36</td>\n",
       "      <td>Current</td>\n",
       "      <td>NaN</td>\n",
       "      <td>0.22773</td>\n",
       "      <td>0.1905</td>\n",
       "      <td>0.1805</td>\n",
       "      <td>...</td>\n",
       "      <td>-42.03</td>\n",
       "      <td>0.0</td>\n",
       "      <td>0.0</td>\n",
       "      <td>0.0</td>\n",
       "      <td>0.0</td>\n",
       "      <td>1.0</td>\n",
       "      <td>0</td>\n",
       "      <td>0</td>\n",
       "      <td>0.0</td>\n",
       "      <td>1</td>\n",
       "    </tr>\n",
       "    <tr>\n",
       "      <th>455</th>\n",
       "      <td>31C73597152310464749E00</td>\n",
       "      <td>1092437</td>\n",
       "      <td>2013-12-23 13:47:35.500000000</td>\n",
       "      <td>NaN</td>\n",
       "      <td>36</td>\n",
       "      <td>Current</td>\n",
       "      <td>NaN</td>\n",
       "      <td>0.17151</td>\n",
       "      <td>0.1355</td>\n",
       "      <td>0.1255</td>\n",
       "      <td>...</td>\n",
       "      <td>-6.40</td>\n",
       "      <td>0.0</td>\n",
       "      <td>0.0</td>\n",
       "      <td>0.0</td>\n",
       "      <td>0.0</td>\n",
       "      <td>1.0</td>\n",
       "      <td>0</td>\n",
       "      <td>0</td>\n",
       "      <td>0.0</td>\n",
       "      <td>1</td>\n",
       "    </tr>\n",
       "    <tr>\n",
       "      <th>461</th>\n",
       "      <td>44F2358557406858060EBDE</td>\n",
       "      <td>870200</td>\n",
       "      <td>2013-08-15 07:12:49.410000000</td>\n",
       "      <td>NaN</td>\n",
       "      <td>60</td>\n",
       "      <td>Current</td>\n",
       "      <td>NaN</td>\n",
       "      <td>0.18965</td>\n",
       "      <td>0.1660</td>\n",
       "      <td>0.1560</td>\n",
       "      <td>...</td>\n",
       "      <td>-49.69</td>\n",
       "      <td>0.0</td>\n",
       "      <td>0.0</td>\n",
       "      <td>0.0</td>\n",
       "      <td>0.0</td>\n",
       "      <td>1.0</td>\n",
       "      <td>0</td>\n",
       "      <td>0</td>\n",
       "      <td>0.0</td>\n",
       "      <td>1</td>\n",
       "    </tr>\n",
       "  </tbody>\n",
       "</table>\n",
       "<p>10 rows × 81 columns</p>\n",
       "</div>"
      ],
      "text/plain": [
       "                  ListingKey  ListingNumber            ListingCreationDate  \\\n",
       "8    0F043596202561788EA13D5        1023355  2013-12-02 10:43:39.117000000   \n",
       "9    0F043596202561788EA13D5        1023355  2013-12-02 10:43:39.117000000   \n",
       "29   0F563597161095613517437        1051243  2013-12-17 09:18:33.220000000   \n",
       "176  106335993636414276CB477        1119836  2014-01-08 14:27:50.320000000   \n",
       "313  09233589620788733CFB8CE         930842  2013-09-25 08:03:11.860000000   \n",
       "349  313635901230654318A9030         931467  2013-09-26 18:50:29.053000000   \n",
       "442  09AD35918712001025AC1BD         969821  2013-10-24 13:21:31.607000000   \n",
       "444  09CD3592594126374FB0A7C         986199  2013-10-18 08:28:03.610000000   \n",
       "455  31C73597152310464749E00        1092437  2013-12-23 13:47:35.500000000   \n",
       "461  44F2358557406858060EBDE         870200  2013-08-15 07:12:49.410000000   \n",
       "\n",
       "    CreditGrade  Term LoanStatus ClosedDate  BorrowerAPR  BorrowerRate  \\\n",
       "8           NaN    36    Current        NaN      0.07620        0.0629   \n",
       "9           NaN    36    Current        NaN      0.07620        0.0629   \n",
       "29          NaN    36    Current        NaN      0.15223        0.1239   \n",
       "176         NaN    36    Current        NaN      0.32446        0.2850   \n",
       "313         NaN    36    Current        NaN      0.19144        0.1550   \n",
       "349         NaN    36    Current        NaN      0.17090        0.1349   \n",
       "442         NaN    36    Current        NaN      0.20524        0.1685   \n",
       "444         NaN    36    Current        NaN      0.22773        0.1905   \n",
       "455         NaN    36    Current        NaN      0.17151        0.1355   \n",
       "461         NaN    60    Current        NaN      0.18965        0.1660   \n",
       "\n",
       "     LenderYield  ...  LP_ServiceFees  LP_CollectionFees  \\\n",
       "8         0.0529  ...          -16.77                0.0   \n",
       "9         0.0529  ...          -16.77                0.0   \n",
       "29        0.1139  ...          -29.73                0.0   \n",
       "176       0.2750  ...           -3.40                0.0   \n",
       "313       0.1450  ...          -36.97                0.0   \n",
       "349       0.1249  ...          -15.40                0.0   \n",
       "442       0.1585  ...           -8.41                0.0   \n",
       "444       0.1805  ...          -42.03                0.0   \n",
       "455       0.1255  ...           -6.40                0.0   \n",
       "461       0.1560  ...          -49.69                0.0   \n",
       "\n",
       "     LP_GrossPrincipalLoss  LP_NetPrincipalLoss  \\\n",
       "8                      0.0                  0.0   \n",
       "9                      0.0                  0.0   \n",
       "29                     0.0                  0.0   \n",
       "176                    0.0                  0.0   \n",
       "313                    0.0                  0.0   \n",
       "349                    0.0                  0.0   \n",
       "442                    0.0                  0.0   \n",
       "444                    0.0                  0.0   \n",
       "455                    0.0                  0.0   \n",
       "461                    0.0                  0.0   \n",
       "\n",
       "    LP_NonPrincipalRecoverypayments  PercentFunded  Recommendations  \\\n",
       "8                               0.0            1.0                0   \n",
       "9                               0.0            1.0                0   \n",
       "29                              0.0            1.0                0   \n",
       "176                             0.0            1.0                0   \n",
       "313                             0.0            1.0                0   \n",
       "349                             0.0            1.0                0   \n",
       "442                             0.0            1.0                0   \n",
       "444                             0.0            1.0                0   \n",
       "455                             0.0            1.0                0   \n",
       "461                             0.0            1.0                0   \n",
       "\n",
       "    InvestmentFromFriendsCount InvestmentFromFriendsAmount Investors  \n",
       "8                            0                         0.0         1  \n",
       "9                            0                         0.0         1  \n",
       "29                           0                         0.0         1  \n",
       "176                          0                         0.0         5  \n",
       "313                          0                         0.0       169  \n",
       "349                          0                         0.0         1  \n",
       "442                          0                         0.0         1  \n",
       "444                          0                         0.0         1  \n",
       "455                          0                         0.0         1  \n",
       "461                          0                         0.0         1  \n",
       "\n",
       "[10 rows x 81 columns]"
      ]
     },
     "metadata": {},
     "output_type": "display_data"
    }
   ],
   "source": [
    "duplicates = df[df.duplicated(subset='LoanKey', keep=False)]\n",
    "display(duplicates.head(10))"
   ]
  },
  {
   "cell_type": "code",
   "execution_count": 6,
   "id": "205a503f",
   "metadata": {},
   "outputs": [],
   "source": [
    "df.drop_duplicates(subset='LoanKey', keep='first', inplace=True) ## Dropping the duplicated records and keeping only the first record"
   ]
  },
  {
   "cell_type": "code",
   "execution_count": 7,
   "id": "86fefd20",
   "metadata": {},
   "outputs": [
    {
     "name": "stdout",
     "output_type": "stream",
     "text": [
      "0\n"
     ]
    },
    {
     "data": {
      "text/plain": [
       "(113066, 81)"
      ]
     },
     "execution_count": 7,
     "metadata": {},
     "output_type": "execute_result"
    }
   ],
   "source": [
    "print(df.duplicated(subset='LoanKey').sum()) ## Checking the drop of duplicted \n",
    "df.shape"
   ]
  },
  {
   "cell_type": "markdown",
   "id": "104b539c",
   "metadata": {},
   "source": [
    "> Let's check for the duplicated records based on the `ListingKey` based on teh documentation it has to be unique too."
   ]
  },
  {
   "cell_type": "code",
   "execution_count": 8,
   "id": "d901efbf",
   "metadata": {},
   "outputs": [
    {
     "data": {
      "text/plain": [
       "0"
      ]
     },
     "execution_count": 8,
     "metadata": {},
     "output_type": "execute_result"
    }
   ],
   "source": [
    "df.duplicated(subset='ListingKey').sum() ## checking for duliated based on the listing key "
   ]
  },
  {
   "cell_type": "markdown",
   "id": "a0a65959",
   "metadata": {
    "papermill": {
     "duration": 0.020596,
     "end_time": "2024-08-04T16:53:09.639312",
     "exception": false,
     "start_time": "2024-08-04T16:53:09.618716",
     "status": "completed"
    },
    "tags": []
   },
   "source": [
    "#### Data types Validity"
   ]
  },
  {
   "cell_type": "markdown",
   "id": "6ca24489",
   "metadata": {
    "papermill": {
     "duration": 0.020406,
     "end_time": "2024-08-04T16:53:09.679644",
     "exception": false,
     "start_time": "2024-08-04T16:53:09.659238",
     "status": "completed"
    },
    "tags": []
   },
   "source": [
    "- Assessment: Let's look at the data types of these variables and assess them using `.info`:"
   ]
  },
  {
   "cell_type": "code",
   "execution_count": 9,
   "id": "f7953930",
   "metadata": {
    "execution": {
     "iopub.execute_input": "2024-08-04T16:53:09.721710Z",
     "iopub.status.busy": "2024-08-04T16:53:09.721299Z",
     "iopub.status.idle": "2024-08-04T16:53:09.952905Z",
     "shell.execute_reply": "2024-08-04T16:53:09.951575Z"
    },
    "papermill": {
     "duration": 0.257391,
     "end_time": "2024-08-04T16:53:09.957347",
     "exception": false,
     "start_time": "2024-08-04T16:53:09.699956",
     "status": "completed"
    },
    "tags": []
   },
   "outputs": [
    {
     "name": "stdout",
     "output_type": "stream",
     "text": [
      "<class 'pandas.core.frame.DataFrame'>\n",
      "Index: 113066 entries, 0 to 113936\n",
      "Data columns (total 81 columns):\n",
      " #   Column                               Non-Null Count   Dtype  \n",
      "---  ------                               --------------   -----  \n",
      " 0   ListingKey                           113066 non-null  object \n",
      " 1   ListingNumber                        113066 non-null  int64  \n",
      " 2   ListingCreationDate                  113066 non-null  object \n",
      " 3   CreditGrade                          28953 non-null   object \n",
      " 4   Term                                 113066 non-null  int64  \n",
      " 5   LoanStatus                           113066 non-null  object \n",
      " 6   ClosedDate                           55076 non-null   object \n",
      " 7   BorrowerAPR                          113041 non-null  float64\n",
      " 8   BorrowerRate                         113066 non-null  float64\n",
      " 9   LenderYield                          113066 non-null  float64\n",
      " 10  EstimatedEffectiveYield              83982 non-null   float64\n",
      " 11  EstimatedLoss                        83982 non-null   float64\n",
      " 12  EstimatedReturn                      83982 non-null   float64\n",
      " 13  ProsperRating (numeric)              83982 non-null   float64\n",
      " 14  ProsperRating (Alpha)                83982 non-null   object \n",
      " 15  ProsperScore                         83982 non-null   float64\n",
      " 16  ListingCategory (numeric)            113066 non-null  int64  \n",
      " 17  BorrowerState                        107551 non-null  object \n",
      " 18  Occupation                           109537 non-null  object \n",
      " 19  EmploymentStatus                     110811 non-null  object \n",
      " 20  EmploymentStatusDuration             105441 non-null  float64\n",
      " 21  IsBorrowerHomeowner                  113066 non-null  bool   \n",
      " 22  CurrentlyInGroup                     113066 non-null  bool   \n",
      " 23  GroupKey                             13339 non-null   object \n",
      " 24  DateCreditPulled                     113066 non-null  object \n",
      " 25  CreditScoreRangeLower                112475 non-null  float64\n",
      " 26  CreditScoreRangeUpper                112475 non-null  float64\n",
      " 27  FirstRecordedCreditLine              112369 non-null  object \n",
      " 28  CurrentCreditLines                   105462 non-null  float64\n",
      " 29  OpenCreditLines                      105462 non-null  float64\n",
      " 30  TotalCreditLinespast7years           112369 non-null  float64\n",
      " 31  OpenRevolvingAccounts                113066 non-null  int64  \n",
      " 32  OpenRevolvingMonthlyPayment          113066 non-null  float64\n",
      " 33  InquiriesLast6Months                 112369 non-null  float64\n",
      " 34  TotalInquiries                       111907 non-null  float64\n",
      " 35  CurrentDelinquencies                 112369 non-null  float64\n",
      " 36  AmountDelinquent                     105444 non-null  float64\n",
      " 37  DelinquenciesLast7Years              112076 non-null  float64\n",
      " 38  PublicRecordsLast10Years             112369 non-null  float64\n",
      " 39  PublicRecordsLast12Months            105462 non-null  float64\n",
      " 40  RevolvingCreditBalance               105462 non-null  float64\n",
      " 41  BankcardUtilization                  105462 non-null  float64\n",
      " 42  AvailableBankcardCredit              105522 non-null  float64\n",
      " 43  TotalTrades                          105522 non-null  float64\n",
      " 44  TradesNeverDelinquent (percentage)   105522 non-null  float64\n",
      " 45  TradesOpenedLast6Months              105522 non-null  float64\n",
      " 46  DebtToIncomeRatio                    104594 non-null  float64\n",
      " 47  IncomeRange                          113066 non-null  object \n",
      " 48  IncomeVerifiable                     113066 non-null  bool   \n",
      " 49  StatedMonthlyIncome                  113066 non-null  float64\n",
      " 50  LoanKey                              113066 non-null  object \n",
      " 51  TotalProsperLoans                    21923 non-null   float64\n",
      " 52  TotalProsperPaymentsBilled           21923 non-null   float64\n",
      " 53  OnTimeProsperPayments                21923 non-null   float64\n",
      " 54  ProsperPaymentsLessThanOneMonthLate  21923 non-null   float64\n",
      " 55  ProsperPaymentsOneMonthPlusLate      21923 non-null   float64\n",
      " 56  ProsperPrincipalBorrowed             21923 non-null   float64\n",
      " 57  ProsperPrincipalOutstanding          21923 non-null   float64\n",
      " 58  ScorexChangeAtTimeOfListing          18912 non-null   float64\n",
      " 59  LoanCurrentDaysDelinquent            113066 non-null  int64  \n",
      " 60  LoanFirstDefaultedCycleNumber        16952 non-null   float64\n",
      " 61  LoanMonthsSinceOrigination           113066 non-null  int64  \n",
      " 62  LoanNumber                           113066 non-null  int64  \n",
      " 63  LoanOriginalAmount                   113066 non-null  int64  \n",
      " 64  LoanOriginationDate                  113066 non-null  object \n",
      " 65  LoanOriginationQuarter               113066 non-null  object \n",
      " 66  MemberKey                            113066 non-null  object \n",
      " 67  MonthlyLoanPayment                   113066 non-null  float64\n",
      " 68  LP_CustomerPayments                  113066 non-null  float64\n",
      " 69  LP_CustomerPrincipalPayments         113066 non-null  float64\n",
      " 70  LP_InterestandFees                   113066 non-null  float64\n",
      " 71  LP_ServiceFees                       113066 non-null  float64\n",
      " 72  LP_CollectionFees                    113066 non-null  float64\n",
      " 73  LP_GrossPrincipalLoss                113066 non-null  float64\n",
      " 74  LP_NetPrincipalLoss                  113066 non-null  float64\n",
      " 75  LP_NonPrincipalRecoverypayments      113066 non-null  float64\n",
      " 76  PercentFunded                        113066 non-null  float64\n",
      " 77  Recommendations                      113066 non-null  int64  \n",
      " 78  InvestmentFromFriendsCount           113066 non-null  int64  \n",
      " 79  InvestmentFromFriendsAmount          113066 non-null  float64\n",
      " 80  Investors                            113066 non-null  int64  \n",
      "dtypes: bool(3), float64(50), int64(11), object(17)\n",
      "memory usage: 68.5+ MB\n"
     ]
    }
   ],
   "source": [
    "df.info()"
   ]
  },
  {
   "cell_type": "markdown",
   "id": "ec7cfd9a",
   "metadata": {
    "papermill": {
     "duration": 0.019931,
     "end_time": "2024-08-04T16:53:09.998006",
     "exception": false,
     "start_time": "2024-08-04T16:53:09.978075",
     "status": "completed"
    },
    "tags": []
   },
   "source": [
    "> We have the columns of `ClosedDate`, `LoanOriginationDate`, `DateCreditPulled`, and the `ListingCreationDate` has an object type and it has to be a datetime type."
   ]
  },
  {
   "cell_type": "code",
   "execution_count": 10,
   "id": "3d76522c",
   "metadata": {
    "execution": {
     "iopub.execute_input": "2024-08-04T16:53:10.039861Z",
     "iopub.status.busy": "2024-08-04T16:53:10.039044Z",
     "iopub.status.idle": "2024-08-04T16:53:10.557667Z",
     "shell.execute_reply": "2024-08-04T16:53:10.556303Z"
    },
    "papermill": {
     "duration": 0.543647,
     "end_time": "2024-08-04T16:53:10.561770",
     "exception": false,
     "start_time": "2024-08-04T16:53:10.018123",
     "status": "completed"
    },
    "tags": []
   },
   "outputs": [
    {
     "name": "stdout",
     "output_type": "stream",
     "text": [
      "<class 'pandas.core.frame.DataFrame'>\n",
      "Index: 113066 entries, 0 to 113936\n",
      "Data columns (total 81 columns):\n",
      " #   Column                               Non-Null Count   Dtype         \n",
      "---  ------                               --------------   -----         \n",
      " 0   ListingKey                           113066 non-null  object        \n",
      " 1   ListingNumber                        113066 non-null  int64         \n",
      " 2   ListingCreationDate                  113066 non-null  datetime64[ns]\n",
      " 3   CreditGrade                          28953 non-null   object        \n",
      " 4   Term                                 113066 non-null  int64         \n",
      " 5   LoanStatus                           113066 non-null  object        \n",
      " 6   ClosedDate                           55076 non-null   datetime64[ns]\n",
      " 7   BorrowerAPR                          113041 non-null  float64       \n",
      " 8   BorrowerRate                         113066 non-null  float64       \n",
      " 9   LenderYield                          113066 non-null  float64       \n",
      " 10  EstimatedEffectiveYield              83982 non-null   float64       \n",
      " 11  EstimatedLoss                        83982 non-null   float64       \n",
      " 12  EstimatedReturn                      83982 non-null   float64       \n",
      " 13  ProsperRating (numeric)              83982 non-null   float64       \n",
      " 14  ProsperRating (Alpha)                83982 non-null   object        \n",
      " 15  ProsperScore                         83982 non-null   float64       \n",
      " 16  ListingCategory (numeric)            113066 non-null  int64         \n",
      " 17  BorrowerState                        107551 non-null  object        \n",
      " 18  Occupation                           109537 non-null  object        \n",
      " 19  EmploymentStatus                     110811 non-null  object        \n",
      " 20  EmploymentStatusDuration             105441 non-null  float64       \n",
      " 21  IsBorrowerHomeowner                  113066 non-null  bool          \n",
      " 22  CurrentlyInGroup                     113066 non-null  bool          \n",
      " 23  GroupKey                             13339 non-null   object        \n",
      " 24  DateCreditPulled                     113066 non-null  datetime64[ns]\n",
      " 25  CreditScoreRangeLower                112475 non-null  float64       \n",
      " 26  CreditScoreRangeUpper                112475 non-null  float64       \n",
      " 27  FirstRecordedCreditLine              112369 non-null  object        \n",
      " 28  CurrentCreditLines                   105462 non-null  float64       \n",
      " 29  OpenCreditLines                      105462 non-null  float64       \n",
      " 30  TotalCreditLinespast7years           112369 non-null  float64       \n",
      " 31  OpenRevolvingAccounts                113066 non-null  int64         \n",
      " 32  OpenRevolvingMonthlyPayment          113066 non-null  float64       \n",
      " 33  InquiriesLast6Months                 112369 non-null  float64       \n",
      " 34  TotalInquiries                       111907 non-null  float64       \n",
      " 35  CurrentDelinquencies                 112369 non-null  float64       \n",
      " 36  AmountDelinquent                     105444 non-null  float64       \n",
      " 37  DelinquenciesLast7Years              112076 non-null  float64       \n",
      " 38  PublicRecordsLast10Years             112369 non-null  float64       \n",
      " 39  PublicRecordsLast12Months            105462 non-null  float64       \n",
      " 40  RevolvingCreditBalance               105462 non-null  float64       \n",
      " 41  BankcardUtilization                  105462 non-null  float64       \n",
      " 42  AvailableBankcardCredit              105522 non-null  float64       \n",
      " 43  TotalTrades                          105522 non-null  float64       \n",
      " 44  TradesNeverDelinquent (percentage)   105522 non-null  float64       \n",
      " 45  TradesOpenedLast6Months              105522 non-null  float64       \n",
      " 46  DebtToIncomeRatio                    104594 non-null  float64       \n",
      " 47  IncomeRange                          113066 non-null  object        \n",
      " 48  IncomeVerifiable                     113066 non-null  bool          \n",
      " 49  StatedMonthlyIncome                  113066 non-null  float64       \n",
      " 50  LoanKey                              113066 non-null  object        \n",
      " 51  TotalProsperLoans                    21923 non-null   float64       \n",
      " 52  TotalProsperPaymentsBilled           21923 non-null   float64       \n",
      " 53  OnTimeProsperPayments                21923 non-null   float64       \n",
      " 54  ProsperPaymentsLessThanOneMonthLate  21923 non-null   float64       \n",
      " 55  ProsperPaymentsOneMonthPlusLate      21923 non-null   float64       \n",
      " 56  ProsperPrincipalBorrowed             21923 non-null   float64       \n",
      " 57  ProsperPrincipalOutstanding          21923 non-null   float64       \n",
      " 58  ScorexChangeAtTimeOfListing          18912 non-null   float64       \n",
      " 59  LoanCurrentDaysDelinquent            113066 non-null  int64         \n",
      " 60  LoanFirstDefaultedCycleNumber        16952 non-null   float64       \n",
      " 61  LoanMonthsSinceOrigination           113066 non-null  int64         \n",
      " 62  LoanNumber                           113066 non-null  int64         \n",
      " 63  LoanOriginalAmount                   113066 non-null  int64         \n",
      " 64  LoanOriginationDate                  113066 non-null  datetime64[ns]\n",
      " 65  LoanOriginationQuarter               113066 non-null  object        \n",
      " 66  MemberKey                            113066 non-null  object        \n",
      " 67  MonthlyLoanPayment                   113066 non-null  float64       \n",
      " 68  LP_CustomerPayments                  113066 non-null  float64       \n",
      " 69  LP_CustomerPrincipalPayments         113066 non-null  float64       \n",
      " 70  LP_InterestandFees                   113066 non-null  float64       \n",
      " 71  LP_ServiceFees                       113066 non-null  float64       \n",
      " 72  LP_CollectionFees                    113066 non-null  float64       \n",
      " 73  LP_GrossPrincipalLoss                113066 non-null  float64       \n",
      " 74  LP_NetPrincipalLoss                  113066 non-null  float64       \n",
      " 75  LP_NonPrincipalRecoverypayments      113066 non-null  float64       \n",
      " 76  PercentFunded                        113066 non-null  float64       \n",
      " 77  Recommendations                      113066 non-null  int64         \n",
      " 78  InvestmentFromFriendsCount           113066 non-null  int64         \n",
      " 79  InvestmentFromFriendsAmount          113066 non-null  float64       \n",
      " 80  Investors                            113066 non-null  int64         \n",
      "dtypes: bool(3), datetime64[ns](4), float64(50), int64(11), object(13)\n",
      "memory usage: 68.5+ MB\n"
     ]
    }
   ],
   "source": [
    "## listing the date columns\n",
    "date_columns = ['ClosedDate', 'LoanOriginationDate', 'DateCreditPulled', 'ListingCreationDate'] \n",
    "\n",
    "### Loopong through the list and coverting to datetime data type\n",
    "for col in date_columns:\n",
    "    df[col] = pd.to_datetime(df[col], format='mixed') ## using the format as mixed to infer the format for each element individually\n",
    "\n",
    "df.info() ### check if that is successful"
   ]
  },
  {
   "cell_type": "markdown",
   "id": "c454c5e0",
   "metadata": {
    "papermill": {
     "duration": 0.020411,
     "end_time": "2024-08-04T16:53:10.602369",
     "exception": false,
     "start_time": "2024-08-04T16:53:10.581958",
     "status": "completed"
    },
    "tags": []
   },
   "source": [
    "> Now the rest of the data types of the variables are valid."
   ]
  },
  {
   "cell_type": "markdown",
   "id": "c171d095",
   "metadata": {
    "papermill": {
     "duration": 0.020756,
     "end_time": "2024-08-04T16:53:10.643876",
     "exception": false,
     "start_time": "2024-08-04T16:53:10.623120",
     "status": "completed"
    },
    "tags": []
   },
   "source": [
    "#### Data Completness"
   ]
  },
  {
   "cell_type": "code",
   "execution_count": 11,
   "id": "44c8d57c",
   "metadata": {
    "execution": {
     "iopub.execute_input": "2024-08-04T16:53:10.686226Z",
     "iopub.status.busy": "2024-08-04T16:53:10.685800Z",
     "iopub.status.idle": "2024-08-04T16:53:10.692948Z",
     "shell.execute_reply": "2024-08-04T16:53:10.691537Z"
    },
    "papermill": {
     "duration": 0.030943,
     "end_time": "2024-08-04T16:53:10.695857",
     "exception": false,
     "start_time": "2024-08-04T16:53:10.664914",
     "status": "completed"
    },
    "tags": []
   },
   "outputs": [],
   "source": [
    "def get_percent_null(df):\n",
    "    \"\"\"\n",
    "    Args:\n",
    "        - df (pd.Dataframe)\n",
    "    Returns:\n",
    "        - The percentages of missing values\n",
    "    \"\"\"\n",
    "    null_counts = df.isnull().sum()\n",
    "    null_counts = null_counts[null_counts > 0].sort_values()\n",
    "    return (null_counts/df.shape[0])*100"
   ]
  },
  {
   "cell_type": "code",
   "execution_count": 12,
   "id": "0f893144",
   "metadata": {
    "execution": {
     "iopub.execute_input": "2024-08-04T16:53:10.738984Z",
     "iopub.status.busy": "2024-08-04T16:53:10.738612Z",
     "iopub.status.idle": "2024-08-04T16:53:10.910082Z",
     "shell.execute_reply": "2024-08-04T16:53:10.908862Z"
    },
    "papermill": {
     "duration": 0.19579,
     "end_time": "2024-08-04T16:53:10.912892",
     "exception": false,
     "start_time": "2024-08-04T16:53:10.717102",
     "status": "completed"
    },
    "tags": []
   },
   "outputs": [
    {
     "data": {
      "text/plain": [
       "BorrowerAPR                             0.022111\n",
       "CreditScoreRangeUpper                   0.522704\n",
       "CreditScoreRangeLower                   0.522704\n",
       "PublicRecordsLast10Years                0.616454\n",
       "CurrentDelinquencies                    0.616454\n",
       "InquiriesLast6Months                    0.616454\n",
       "TotalCreditLinespast7years              0.616454\n",
       "FirstRecordedCreditLine                 0.616454\n",
       "DelinquenciesLast7Years                 0.875595\n",
       "TotalInquiries                          1.025065\n",
       "EmploymentStatus                        1.994410\n",
       "Occupation                              3.121186\n",
       "BorrowerState                           4.877682\n",
       "AvailableBankcardCredit                 6.672209\n",
       "TradesOpenedLast6Months                 6.672209\n",
       "TradesNeverDelinquent (percentage)      6.672209\n",
       "TotalTrades                             6.672209\n",
       "CurrentCreditLines                      6.725276\n",
       "OpenCreditLines                         6.725276\n",
       "PublicRecordsLast12Months               6.725276\n",
       "RevolvingCreditBalance                  6.725276\n",
       "BankcardUtilization                     6.725276\n",
       "AmountDelinquent                        6.741195\n",
       "EmploymentStatusDuration                6.743849\n",
       "DebtToIncomeRatio                       7.492969\n",
       "ProsperRating (Alpha)                  25.723029\n",
       "ProsperRating (numeric)                25.723029\n",
       "ProsperScore                           25.723029\n",
       "EstimatedLoss                          25.723029\n",
       "EstimatedEffectiveYield                25.723029\n",
       "EstimatedReturn                        25.723029\n",
       "ClosedDate                             51.288628\n",
       "CreditGrade                            74.392833\n",
       "TotalProsperLoans                      80.610440\n",
       "TotalProsperPaymentsBilled             80.610440\n",
       "OnTimeProsperPayments                  80.610440\n",
       "ProsperPaymentsLessThanOneMonthLate    80.610440\n",
       "ProsperPaymentsOneMonthPlusLate        80.610440\n",
       "ProsperPrincipalBorrowed               80.610440\n",
       "ProsperPrincipalOutstanding            80.610440\n",
       "ScorexChangeAtTimeOfListing            83.273486\n",
       "LoanFirstDefaultedCycleNumber          85.006987\n",
       "GroupKey                               88.202466\n",
       "dtype: float64"
      ]
     },
     "execution_count": 12,
     "metadata": {},
     "output_type": "execute_result"
    }
   ],
   "source": [
    "get_percent_null(df) "
   ]
  },
  {
   "cell_type": "markdown",
   "id": "b7ad0ea8",
   "metadata": {
    "papermill": {
     "duration": 0.01959,
     "end_time": "2024-08-04T16:53:10.952355",
     "exception": false,
     "start_time": "2024-08-04T16:53:10.932765",
     "status": "completed"
    },
    "tags": []
   },
   "source": [
    "> There are many columns that has null values, some of which have a very high count of null values. The following columns were the highest percentage of null such as higher than 50%. These columns are droppped."
   ]
  },
  {
   "cell_type": "code",
   "execution_count": 13,
   "id": "60cefa52",
   "metadata": {
    "execution": {
     "iopub.execute_input": "2024-08-04T16:53:10.994428Z",
     "iopub.status.busy": "2024-08-04T16:53:10.993097Z",
     "iopub.status.idle": "2024-08-04T16:53:10.999856Z",
     "shell.execute_reply": "2024-08-04T16:53:10.998454Z"
    },
    "papermill": {
     "duration": 0.030752,
     "end_time": "2024-08-04T16:53:11.002697",
     "exception": false,
     "start_time": "2024-08-04T16:53:10.971945",
     "status": "completed"
    },
    "tags": []
   },
   "outputs": [],
   "source": [
    "high_missing_percent = ['CreditGrade', 'ScorexChangeAtTimeOfListing', 'LoanFirstDefaultedCycleNumber', 'ClosedDate', 'TotalProsperLoans',\n",
    " 'TotalProsperPaymentsBilled', 'OnTimeProsperPayments', 'ProsperPaymentsLessThanOneMonthLate', 'ProsperPaymentsOneMonthPlusLate', \n",
    " 'ProsperPrincipalBorrowed', 'ProsperPrincipalOutstanding'] ## list of columns with missing values higher than 50% "
   ]
  },
  {
   "cell_type": "code",
   "execution_count": 14,
   "id": "6c587769",
   "metadata": {
    "execution": {
     "iopub.execute_input": "2024-08-04T16:53:11.044670Z",
     "iopub.status.busy": "2024-08-04T16:53:11.044228Z",
     "iopub.status.idle": "2024-08-04T16:53:11.102748Z",
     "shell.execute_reply": "2024-08-04T16:53:11.101382Z"
    },
    "papermill": {
     "duration": 0.083508,
     "end_time": "2024-08-04T16:53:11.106126",
     "exception": false,
     "start_time": "2024-08-04T16:53:11.022618",
     "status": "completed"
    },
    "tags": []
   },
   "outputs": [],
   "source": [
    "df.drop(columns= high_missing_percent, inplace=True) ## Drop the list of high percentage columns"
   ]
  },
  {
   "cell_type": "code",
   "execution_count": 15,
   "id": "195decfd",
   "metadata": {
    "execution": {
     "iopub.execute_input": "2024-08-04T16:53:11.149821Z",
     "iopub.status.busy": "2024-08-04T16:53:11.149422Z",
     "iopub.status.idle": "2024-08-04T16:53:11.158224Z",
     "shell.execute_reply": "2024-08-04T16:53:11.156446Z"
    },
    "papermill": {
     "duration": 0.03458,
     "end_time": "2024-08-04T16:53:11.162039",
     "exception": false,
     "start_time": "2024-08-04T16:53:11.127459",
     "status": "completed"
    },
    "tags": []
   },
   "outputs": [
    {
     "data": {
      "text/plain": [
       "(113066, 70)"
      ]
     },
     "execution_count": 15,
     "metadata": {},
     "output_type": "execute_result"
    }
   ],
   "source": [
    "df.shape ## Check if the dropping was successful"
   ]
  },
  {
   "cell_type": "markdown",
   "id": "1850ed1f",
   "metadata": {
    "papermill": {
     "duration": 0.019669,
     "end_time": "2024-08-04T16:53:11.202440",
     "exception": false,
     "start_time": "2024-08-04T16:53:11.182771",
     "status": "completed"
    },
    "tags": []
   },
   "source": [
    "> The drop is checked now that the variables went from 81 to 70."
   ]
  },
  {
   "cell_type": "markdown",
   "id": "eb1858d2",
   "metadata": {
    "papermill": {
     "duration": 0.022342,
     "end_time": "2024-08-04T16:53:11.245366",
     "exception": false,
     "start_time": "2024-08-04T16:53:11.223024",
     "status": "completed"
    },
    "tags": []
   },
   "source": [
    "Handling the other null values by dropping NA values and rows:"
   ]
  },
  {
   "cell_type": "code",
   "execution_count": 16,
   "id": "add70f46",
   "metadata": {
    "execution": {
     "iopub.execute_input": "2024-08-04T16:53:11.287601Z",
     "iopub.status.busy": "2024-08-04T16:53:11.287105Z",
     "iopub.status.idle": "2024-08-04T16:53:11.454613Z",
     "shell.execute_reply": "2024-08-04T16:53:11.453399Z"
    },
    "papermill": {
     "duration": 0.191384,
     "end_time": "2024-08-04T16:53:11.457212",
     "exception": false,
     "start_time": "2024-08-04T16:53:11.265828",
     "status": "completed"
    },
    "tags": []
   },
   "outputs": [
    {
     "data": {
      "text/plain": [
       "BorrowerAPR                            0.022111\n",
       "CreditScoreRangeUpper                  0.522704\n",
       "CreditScoreRangeLower                  0.522704\n",
       "TotalCreditLinespast7years             0.616454\n",
       "CurrentDelinquencies                   0.616454\n",
       "FirstRecordedCreditLine                0.616454\n",
       "PublicRecordsLast10Years               0.616454\n",
       "InquiriesLast6Months                   0.616454\n",
       "DelinquenciesLast7Years                0.875595\n",
       "TotalInquiries                         1.025065\n",
       "EmploymentStatus                       1.994410\n",
       "Occupation                             3.121186\n",
       "BorrowerState                          4.877682\n",
       "AvailableBankcardCredit                6.672209\n",
       "TradesOpenedLast6Months                6.672209\n",
       "TotalTrades                            6.672209\n",
       "TradesNeverDelinquent (percentage)     6.672209\n",
       "PublicRecordsLast12Months              6.725276\n",
       "RevolvingCreditBalance                 6.725276\n",
       "BankcardUtilization                    6.725276\n",
       "CurrentCreditLines                     6.725276\n",
       "OpenCreditLines                        6.725276\n",
       "AmountDelinquent                       6.741195\n",
       "EmploymentStatusDuration               6.743849\n",
       "DebtToIncomeRatio                      7.492969\n",
       "ProsperScore                          25.723029\n",
       "ProsperRating (Alpha)                 25.723029\n",
       "ProsperRating (numeric)               25.723029\n",
       "EstimatedReturn                       25.723029\n",
       "EstimatedLoss                         25.723029\n",
       "EstimatedEffectiveYield               25.723029\n",
       "GroupKey                              88.202466\n",
       "dtype: float64"
      ]
     },
     "execution_count": 16,
     "metadata": {},
     "output_type": "execute_result"
    }
   ],
   "source": [
    "get_percent_null(df)"
   ]
  },
  {
   "cell_type": "markdown",
   "id": "f2a82a00",
   "metadata": {
    "papermill": {
     "duration": 0.019986,
     "end_time": "2024-08-04T16:53:11.498751",
     "exception": false,
     "start_time": "2024-08-04T16:53:11.478765",
     "status": "completed"
    },
    "tags": []
   },
   "source": [
    "> These columns are identifiers, mostly unique between each loan.They are irrelevant for the task and therefore they should be dropped too."
   ]
  },
  {
   "cell_type": "code",
   "execution_count": 17,
   "id": "a1a5b854",
   "metadata": {},
   "outputs": [
    {
     "data": {
      "text/plain": [
       "Index(['ListingKey', 'ListingNumber', 'ListingCreationDate', 'Term',\n",
       "       'LoanStatus', 'BorrowerAPR', 'BorrowerRate', 'LenderYield',\n",
       "       'EstimatedEffectiveYield', 'EstimatedLoss', 'EstimatedReturn',\n",
       "       'ProsperRating (numeric)', 'ProsperRating (Alpha)', 'ProsperScore',\n",
       "       'ListingCategory (numeric)', 'BorrowerState', 'Occupation',\n",
       "       'EmploymentStatus', 'EmploymentStatusDuration', 'IsBorrowerHomeowner',\n",
       "       'CurrentlyInGroup', 'GroupKey', 'DateCreditPulled',\n",
       "       'CreditScoreRangeLower', 'CreditScoreRangeUpper',\n",
       "       'FirstRecordedCreditLine', 'CurrentCreditLines', 'OpenCreditLines',\n",
       "       'TotalCreditLinespast7years', 'OpenRevolvingAccounts',\n",
       "       'OpenRevolvingMonthlyPayment', 'InquiriesLast6Months', 'TotalInquiries',\n",
       "       'CurrentDelinquencies', 'AmountDelinquent', 'DelinquenciesLast7Years',\n",
       "       'PublicRecordsLast10Years', 'PublicRecordsLast12Months',\n",
       "       'RevolvingCreditBalance', 'BankcardUtilization',\n",
       "       'AvailableBankcardCredit', 'TotalTrades',\n",
       "       'TradesNeverDelinquent (percentage)', 'TradesOpenedLast6Months',\n",
       "       'DebtToIncomeRatio', 'IncomeRange', 'IncomeVerifiable',\n",
       "       'StatedMonthlyIncome', 'LoanKey', 'LoanCurrentDaysDelinquent',\n",
       "       'LoanMonthsSinceOrigination', 'LoanNumber', 'LoanOriginalAmount',\n",
       "       'LoanOriginationDate', 'LoanOriginationQuarter', 'MemberKey',\n",
       "       'MonthlyLoanPayment', 'LP_CustomerPayments',\n",
       "       'LP_CustomerPrincipalPayments', 'LP_InterestandFees', 'LP_ServiceFees',\n",
       "       'LP_CollectionFees', 'LP_GrossPrincipalLoss', 'LP_NetPrincipalLoss',\n",
       "       'LP_NonPrincipalRecoverypayments', 'PercentFunded', 'Recommendations',\n",
       "       'InvestmentFromFriendsCount', 'InvestmentFromFriendsAmount',\n",
       "       'Investors'],\n",
       "      dtype='object')"
      ]
     },
     "execution_count": 17,
     "metadata": {},
     "output_type": "execute_result"
    }
   ],
   "source": [
    "df.columns "
   ]
  },
  {
   "cell_type": "code",
   "execution_count": 18,
   "id": "23b0f10b",
   "metadata": {},
   "outputs": [],
   "source": [
    "## List of identifiers and other irrelevant columns\n",
    "identifiers = [\"ListingKey\", \"ListingNumber\", \"GroupKey\", \"LoanKey\", \"LoanNumber\", \"MemberKey\", \"DateCreditPulled\"]\n",
    "df.drop(columns= identifiers, axis= 1, inplace= True ) ## Dropping irrelevant columns"
   ]
  },
  {
   "cell_type": "code",
   "execution_count": 19,
   "id": "22b46051",
   "metadata": {
    "execution": {
     "iopub.execute_input": "2024-08-04T16:53:11.633743Z",
     "iopub.status.busy": "2024-08-04T16:53:11.633349Z",
     "iopub.status.idle": "2024-08-04T16:53:11.640543Z",
     "shell.execute_reply": "2024-08-04T16:53:11.639174Z"
    },
    "papermill": {
     "duration": 0.031488,
     "end_time": "2024-08-04T16:53:11.643368",
     "exception": false,
     "start_time": "2024-08-04T16:53:11.611880",
     "status": "completed"
    },
    "tags": []
   },
   "outputs": [
    {
     "data": {
      "text/plain": [
       "(113066, 63)"
      ]
     },
     "execution_count": 19,
     "metadata": {},
     "output_type": "execute_result"
    }
   ],
   "source": [
    "df.shape ## "
   ]
  },
  {
   "cell_type": "markdown",
   "id": "5edc66fb",
   "metadata": {
    "papermill": {
     "duration": 0.020092,
     "end_time": "2024-08-04T16:53:11.684869",
     "exception": false,
     "start_time": "2024-08-04T16:53:11.664777",
     "status": "completed"
    },
    "tags": []
   },
   "source": [
    "> The drop is done, since the features count went down to 63."
   ]
  },
  {
   "cell_type": "code",
   "execution_count": 20,
   "id": "f7d0cec6",
   "metadata": {
    "execution": {
     "iopub.execute_input": "2024-08-04T16:53:11.727008Z",
     "iopub.status.busy": "2024-08-04T16:53:11.726587Z",
     "iopub.status.idle": "2024-08-04T16:53:11.842664Z",
     "shell.execute_reply": "2024-08-04T16:53:11.841525Z"
    },
    "papermill": {
     "duration": 0.140202,
     "end_time": "2024-08-04T16:53:11.845332",
     "exception": false,
     "start_time": "2024-08-04T16:53:11.705130",
     "status": "completed"
    },
    "tags": []
   },
   "outputs": [
    {
     "data": {
      "text/plain": [
       "BorrowerAPR                            0.022111\n",
       "CreditScoreRangeUpper                  0.522704\n",
       "CreditScoreRangeLower                  0.522704\n",
       "InquiriesLast6Months                   0.616454\n",
       "TotalCreditLinespast7years             0.616454\n",
       "FirstRecordedCreditLine                0.616454\n",
       "PublicRecordsLast10Years               0.616454\n",
       "CurrentDelinquencies                   0.616454\n",
       "DelinquenciesLast7Years                0.875595\n",
       "TotalInquiries                         1.025065\n",
       "EmploymentStatus                       1.994410\n",
       "Occupation                             3.121186\n",
       "BorrowerState                          4.877682\n",
       "AvailableBankcardCredit                6.672209\n",
       "TradesOpenedLast6Months                6.672209\n",
       "TotalTrades                            6.672209\n",
       "TradesNeverDelinquent (percentage)     6.672209\n",
       "PublicRecordsLast12Months              6.725276\n",
       "RevolvingCreditBalance                 6.725276\n",
       "BankcardUtilization                    6.725276\n",
       "OpenCreditLines                        6.725276\n",
       "CurrentCreditLines                     6.725276\n",
       "AmountDelinquent                       6.741195\n",
       "EmploymentStatusDuration               6.743849\n",
       "DebtToIncomeRatio                      7.492969\n",
       "ProsperScore                          25.723029\n",
       "ProsperRating (Alpha)                 25.723029\n",
       "ProsperRating (numeric)               25.723029\n",
       "EstimatedReturn                       25.723029\n",
       "EstimatedLoss                         25.723029\n",
       "EstimatedEffectiveYield               25.723029\n",
       "dtype: float64"
      ]
     },
     "execution_count": 20,
     "metadata": {},
     "output_type": "execute_result"
    }
   ],
   "source": [
    "get_percent_null(df)"
   ]
  },
  {
   "cell_type": "markdown",
   "id": "fec1263a",
   "metadata": {
    "papermill": {
     "duration": 0.020635,
     "end_time": "2024-08-04T16:53:11.886512",
     "exception": false,
     "start_time": "2024-08-04T16:53:11.865877",
     "status": "completed"
    },
    "tags": []
   },
   "source": [
    "> Let's handle the lower percentages by only dropping the NA values instead of the whole columns."
   ]
  },
  {
   "cell_type": "code",
   "execution_count": 21,
   "id": "9ea36c9f",
   "metadata": {
    "execution": {
     "iopub.execute_input": "2024-08-04T16:53:11.930232Z",
     "iopub.status.busy": "2024-08-04T16:53:11.929785Z",
     "iopub.status.idle": "2024-08-04T16:53:12.066763Z",
     "shell.execute_reply": "2024-08-04T16:53:12.065214Z"
    },
    "papermill": {
     "duration": 0.162418,
     "end_time": "2024-08-04T16:53:12.069676",
     "exception": false,
     "start_time": "2024-08-04T16:53:11.907258",
     "status": "completed"
    },
    "tags": []
   },
   "outputs": [],
   "source": [
    "df.dropna(inplace=True)"
   ]
  },
  {
   "cell_type": "code",
   "execution_count": 22,
   "id": "5073a796",
   "metadata": {
    "execution": {
     "iopub.execute_input": "2024-08-04T16:53:12.114641Z",
     "iopub.status.busy": "2024-08-04T16:53:12.114180Z",
     "iopub.status.idle": "2024-08-04T16:53:12.196982Z",
     "shell.execute_reply": "2024-08-04T16:53:12.195594Z"
    },
    "papermill": {
     "duration": 0.109037,
     "end_time": "2024-08-04T16:53:12.199886",
     "exception": false,
     "start_time": "2024-08-04T16:53:12.090849",
     "status": "completed"
    },
    "tags": []
   },
   "outputs": [
    {
     "data": {
      "text/plain": [
       "Series([], dtype: float64)"
      ]
     },
     "execution_count": 22,
     "metadata": {},
     "output_type": "execute_result"
    }
   ],
   "source": [
    "get_percent_null(df)"
   ]
  },
  {
   "cell_type": "markdown",
   "id": "7fbc8bec",
   "metadata": {
    "papermill": {
     "duration": 0.020219,
     "end_time": "2024-08-04T16:53:12.240630",
     "exception": false,
     "start_time": "2024-08-04T16:53:12.220411",
     "status": "completed"
    },
    "tags": []
   },
   "source": [
    "> No missing NA values left."
   ]
  },
  {
   "cell_type": "code",
   "execution_count": 23,
   "id": "10556e39",
   "metadata": {
    "execution": {
     "iopub.execute_input": "2024-08-04T16:53:12.283886Z",
     "iopub.status.busy": "2024-08-04T16:53:12.283475Z",
     "iopub.status.idle": "2024-08-04T16:53:12.290342Z",
     "shell.execute_reply": "2024-08-04T16:53:12.289270Z"
    },
    "papermill": {
     "duration": 0.031937,
     "end_time": "2024-08-04T16:53:12.292973",
     "exception": false,
     "start_time": "2024-08-04T16:53:12.261036",
     "status": "completed"
    },
    "tags": []
   },
   "outputs": [
    {
     "data": {
      "text/plain": [
       "(75486, 63)"
      ]
     },
     "execution_count": 23,
     "metadata": {},
     "output_type": "execute_result"
    }
   ],
   "source": [
    "df.shape"
   ]
  },
  {
   "cell_type": "markdown",
   "id": "189b897a",
   "metadata": {
    "papermill": {
     "duration": 0.021364,
     "end_time": "2024-08-04T16:53:12.336103",
     "exception": false,
     "start_time": "2024-08-04T16:53:12.314739",
     "status": "completed"
    },
    "tags": []
   },
   "source": [
    "> After handling missing values and dropping unneccary columns the shape of the data is 76,216 rows and 63 columns"
   ]
  },
  {
   "cell_type": "markdown",
   "id": "333b34f8",
   "metadata": {
    "papermill": {
     "duration": 0.021306,
     "end_time": "2024-08-04T16:53:12.473745",
     "exception": false,
     "start_time": "2024-08-04T16:53:12.452439",
     "status": "completed"
    },
    "tags": []
   },
   "source": [
    "### Main Features of interest\n",
    "- All the left columns are the features of intrest they will be devided based on the objective into three subsets."
   ]
  },
  {
   "cell_type": "markdown",
   "id": "ca1dda85",
   "metadata": {
    "papermill": {
     "duration": 0.020334,
     "end_time": "2024-08-04T16:53:12.514762",
     "exception": false,
     "start_time": "2024-08-04T16:53:12.494428",
     "status": "completed"
    },
    "tags": []
   },
   "source": [
    "- Objective 1: Loan Performance"
   ]
  },
  {
   "cell_type": "code",
   "execution_count": 24,
   "id": "f17f1d83",
   "metadata": {
    "execution": {
     "iopub.execute_input": "2024-08-04T16:53:12.557852Z",
     "iopub.status.busy": "2024-08-04T16:53:12.557436Z",
     "iopub.status.idle": "2024-08-04T16:53:12.567378Z",
     "shell.execute_reply": "2024-08-04T16:53:12.566267Z"
    },
    "papermill": {
     "duration": 0.034762,
     "end_time": "2024-08-04T16:53:12.570103",
     "exception": false,
     "start_time": "2024-08-04T16:53:12.535341",
     "status": "completed"
    },
    "tags": []
   },
   "outputs": [
    {
     "name": "stdout",
     "output_type": "stream",
     "text": [
      "(75486, 11)\n"
     ]
    },
    {
     "data": {
      "text/html": [
       "<div>\n",
       "<style scoped>\n",
       "    .dataframe tbody tr th:only-of-type {\n",
       "        vertical-align: middle;\n",
       "    }\n",
       "\n",
       "    .dataframe tbody tr th {\n",
       "        vertical-align: top;\n",
       "    }\n",
       "\n",
       "    .dataframe thead th {\n",
       "        text-align: right;\n",
       "    }\n",
       "</style>\n",
       "<table border=\"1\" class=\"dataframe\">\n",
       "  <thead>\n",
       "    <tr style=\"text-align: right;\">\n",
       "      <th></th>\n",
       "      <th>LoanStatus</th>\n",
       "      <th>LoanCurrentDaysDelinquent</th>\n",
       "      <th>LoanMonthsSinceOrigination</th>\n",
       "      <th>LoanOriginalAmount</th>\n",
       "      <th>BorrowerAPR</th>\n",
       "      <th>DebtToIncomeRatio</th>\n",
       "      <th>CreditScoreRangeLower</th>\n",
       "      <th>CreditScoreRangeUpper</th>\n",
       "      <th>ProsperScore</th>\n",
       "      <th>EmploymentStatus</th>\n",
       "      <th>IsBorrowerHomeowner</th>\n",
       "    </tr>\n",
       "  </thead>\n",
       "  <tbody>\n",
       "    <tr>\n",
       "      <th>1</th>\n",
       "      <td>Current</td>\n",
       "      <td>0</td>\n",
       "      <td>0</td>\n",
       "      <td>10000</td>\n",
       "      <td>0.12016</td>\n",
       "      <td>0.18</td>\n",
       "      <td>680.0</td>\n",
       "      <td>699.0</td>\n",
       "      <td>7.0</td>\n",
       "      <td>Employed</td>\n",
       "      <td>False</td>\n",
       "    </tr>\n",
       "    <tr>\n",
       "      <th>3</th>\n",
       "      <td>Current</td>\n",
       "      <td>0</td>\n",
       "      <td>16</td>\n",
       "      <td>10000</td>\n",
       "      <td>0.12528</td>\n",
       "      <td>0.15</td>\n",
       "      <td>800.0</td>\n",
       "      <td>819.0</td>\n",
       "      <td>9.0</td>\n",
       "      <td>Employed</td>\n",
       "      <td>True</td>\n",
       "    </tr>\n",
       "    <tr>\n",
       "      <th>4</th>\n",
       "      <td>Current</td>\n",
       "      <td>0</td>\n",
       "      <td>6</td>\n",
       "      <td>15000</td>\n",
       "      <td>0.24614</td>\n",
       "      <td>0.26</td>\n",
       "      <td>680.0</td>\n",
       "      <td>699.0</td>\n",
       "      <td>4.0</td>\n",
       "      <td>Employed</td>\n",
       "      <td>True</td>\n",
       "    </tr>\n",
       "    <tr>\n",
       "      <th>5</th>\n",
       "      <td>Current</td>\n",
       "      <td>0</td>\n",
       "      <td>3</td>\n",
       "      <td>15000</td>\n",
       "      <td>0.15425</td>\n",
       "      <td>0.36</td>\n",
       "      <td>740.0</td>\n",
       "      <td>759.0</td>\n",
       "      <td>10.0</td>\n",
       "      <td>Employed</td>\n",
       "      <td>True</td>\n",
       "    </tr>\n",
       "    <tr>\n",
       "      <th>6</th>\n",
       "      <td>Current</td>\n",
       "      <td>0</td>\n",
       "      <td>11</td>\n",
       "      <td>3000</td>\n",
       "      <td>0.31032</td>\n",
       "      <td>0.27</td>\n",
       "      <td>680.0</td>\n",
       "      <td>699.0</td>\n",
       "      <td>2.0</td>\n",
       "      <td>Employed</td>\n",
       "      <td>False</td>\n",
       "    </tr>\n",
       "  </tbody>\n",
       "</table>\n",
       "</div>"
      ],
      "text/plain": [
       "  LoanStatus  LoanCurrentDaysDelinquent  LoanMonthsSinceOrigination  \\\n",
       "1    Current                          0                           0   \n",
       "3    Current                          0                          16   \n",
       "4    Current                          0                           6   \n",
       "5    Current                          0                           3   \n",
       "6    Current                          0                          11   \n",
       "\n",
       "   LoanOriginalAmount  BorrowerAPR  DebtToIncomeRatio  CreditScoreRangeLower  \\\n",
       "1               10000      0.12016               0.18                  680.0   \n",
       "3               10000      0.12528               0.15                  800.0   \n",
       "4               15000      0.24614               0.26                  680.0   \n",
       "5               15000      0.15425               0.36                  740.0   \n",
       "6                3000      0.31032               0.27                  680.0   \n",
       "\n",
       "   CreditScoreRangeUpper  ProsperScore EmploymentStatus  IsBorrowerHomeowner  \n",
       "1                  699.0           7.0         Employed                False  \n",
       "3                  819.0           9.0         Employed                 True  \n",
       "4                  699.0           4.0         Employed                 True  \n",
       "5                  759.0          10.0         Employed                 True  \n",
       "6                  699.0           2.0         Employed                False  "
      ]
     },
     "execution_count": 24,
     "metadata": {},
     "output_type": "execute_result"
    }
   ],
   "source": [
    "loan_performance_columns = [ 'LoanStatus', 'LoanCurrentDaysDelinquent','LoanMonthsSinceOrigination',\n",
    "    'LoanOriginalAmount', 'BorrowerAPR', 'DebtToIncomeRatio', 'CreditScoreRangeLower','CreditScoreRangeUpper',\n",
    "    'ProsperScore', 'EmploymentStatus','IsBorrowerHomeowner']\n",
    "\n",
    "loan_performance_df = df[loan_performance_columns]\n",
    "print(loan_performance_df.shape)\n",
    "loan_performance_df.head()"
   ]
  },
  {
   "cell_type": "markdown",
   "id": "5229a873",
   "metadata": {
    "papermill": {
     "duration": 0.021025,
     "end_time": "2024-08-04T16:53:12.612903",
     "exception": false,
     "start_time": "2024-08-04T16:53:12.591878",
     "status": "completed"
    },
    "tags": []
   },
   "source": [
    "- Objective 2: Credit Score and Borrower Analysis"
   ]
  },
  {
   "cell_type": "code",
   "execution_count": 25,
   "id": "472a4370",
   "metadata": {
    "execution": {
     "iopub.execute_input": "2024-08-04T16:53:12.657102Z",
     "iopub.status.busy": "2024-08-04T16:53:12.656723Z",
     "iopub.status.idle": "2024-08-04T16:53:12.665343Z",
     "shell.execute_reply": "2024-08-04T16:53:12.664433Z"
    },
    "papermill": {
     "duration": 0.033314,
     "end_time": "2024-08-04T16:53:12.667880",
     "exception": false,
     "start_time": "2024-08-04T16:53:12.634566",
     "status": "completed"
    },
    "tags": []
   },
   "outputs": [
    {
     "name": "stdout",
     "output_type": "stream",
     "text": [
      "(75486, 10)\n"
     ]
    },
    {
     "data": {
      "text/html": [
       "<div>\n",
       "<style scoped>\n",
       "    .dataframe tbody tr th:only-of-type {\n",
       "        vertical-align: middle;\n",
       "    }\n",
       "\n",
       "    .dataframe tbody tr th {\n",
       "        vertical-align: top;\n",
       "    }\n",
       "\n",
       "    .dataframe thead th {\n",
       "        text-align: right;\n",
       "    }\n",
       "</style>\n",
       "<table border=\"1\" class=\"dataframe\">\n",
       "  <thead>\n",
       "    <tr style=\"text-align: right;\">\n",
       "      <th></th>\n",
       "      <th>CreditScoreRangeLower</th>\n",
       "      <th>CreditScoreRangeUpper</th>\n",
       "      <th>ProsperRating (numeric)</th>\n",
       "      <th>ProsperRating (Alpha)</th>\n",
       "      <th>ProsperScore</th>\n",
       "      <th>IncomeRange</th>\n",
       "      <th>EmploymentStatus</th>\n",
       "      <th>IsBorrowerHomeowner</th>\n",
       "      <th>BorrowerAPR</th>\n",
       "      <th>LoanOriginalAmount</th>\n",
       "    </tr>\n",
       "  </thead>\n",
       "  <tbody>\n",
       "    <tr>\n",
       "      <th>1</th>\n",
       "      <td>680.0</td>\n",
       "      <td>699.0</td>\n",
       "      <td>6.0</td>\n",
       "      <td>A</td>\n",
       "      <td>7.0</td>\n",
       "      <td>$50,000-74,999</td>\n",
       "      <td>Employed</td>\n",
       "      <td>False</td>\n",
       "      <td>0.12016</td>\n",
       "      <td>10000</td>\n",
       "    </tr>\n",
       "    <tr>\n",
       "      <th>3</th>\n",
       "      <td>800.0</td>\n",
       "      <td>819.0</td>\n",
       "      <td>6.0</td>\n",
       "      <td>A</td>\n",
       "      <td>9.0</td>\n",
       "      <td>$25,000-49,999</td>\n",
       "      <td>Employed</td>\n",
       "      <td>True</td>\n",
       "      <td>0.12528</td>\n",
       "      <td>10000</td>\n",
       "    </tr>\n",
       "    <tr>\n",
       "      <th>4</th>\n",
       "      <td>680.0</td>\n",
       "      <td>699.0</td>\n",
       "      <td>3.0</td>\n",
       "      <td>D</td>\n",
       "      <td>4.0</td>\n",
       "      <td>$100,000+</td>\n",
       "      <td>Employed</td>\n",
       "      <td>True</td>\n",
       "      <td>0.24614</td>\n",
       "      <td>15000</td>\n",
       "    </tr>\n",
       "    <tr>\n",
       "      <th>5</th>\n",
       "      <td>740.0</td>\n",
       "      <td>759.0</td>\n",
       "      <td>5.0</td>\n",
       "      <td>B</td>\n",
       "      <td>10.0</td>\n",
       "      <td>$100,000+</td>\n",
       "      <td>Employed</td>\n",
       "      <td>True</td>\n",
       "      <td>0.15425</td>\n",
       "      <td>15000</td>\n",
       "    </tr>\n",
       "    <tr>\n",
       "      <th>6</th>\n",
       "      <td>680.0</td>\n",
       "      <td>699.0</td>\n",
       "      <td>2.0</td>\n",
       "      <td>E</td>\n",
       "      <td>2.0</td>\n",
       "      <td>$25,000-49,999</td>\n",
       "      <td>Employed</td>\n",
       "      <td>False</td>\n",
       "      <td>0.31032</td>\n",
       "      <td>3000</td>\n",
       "    </tr>\n",
       "  </tbody>\n",
       "</table>\n",
       "</div>"
      ],
      "text/plain": [
       "   CreditScoreRangeLower  CreditScoreRangeUpper  ProsperRating (numeric)  \\\n",
       "1                  680.0                  699.0                      6.0   \n",
       "3                  800.0                  819.0                      6.0   \n",
       "4                  680.0                  699.0                      3.0   \n",
       "5                  740.0                  759.0                      5.0   \n",
       "6                  680.0                  699.0                      2.0   \n",
       "\n",
       "  ProsperRating (Alpha)  ProsperScore     IncomeRange EmploymentStatus  \\\n",
       "1                     A           7.0  $50,000-74,999         Employed   \n",
       "3                     A           9.0  $25,000-49,999         Employed   \n",
       "4                     D           4.0       $100,000+         Employed   \n",
       "5                     B          10.0       $100,000+         Employed   \n",
       "6                     E           2.0  $25,000-49,999         Employed   \n",
       "\n",
       "   IsBorrowerHomeowner  BorrowerAPR  LoanOriginalAmount  \n",
       "1                False      0.12016               10000  \n",
       "3                 True      0.12528               10000  \n",
       "4                 True      0.24614               15000  \n",
       "5                 True      0.15425               15000  \n",
       "6                False      0.31032                3000  "
      ]
     },
     "execution_count": 25,
     "metadata": {},
     "output_type": "execute_result"
    }
   ],
   "source": [
    "credit_borrower_columns = [ 'CreditScoreRangeLower', 'CreditScoreRangeUpper', 'ProsperRating (numeric)',\n",
    "    'ProsperRating (Alpha)','ProsperScore','IncomeRange','EmploymentStatus','IsBorrowerHomeowner',\n",
    "    'BorrowerAPR', 'LoanOriginalAmount']\n",
    "\n",
    "credit_borrower_df = df[credit_borrower_columns]\n",
    "print(credit_borrower_df.shape)\n",
    "credit_borrower_df.head()"
   ]
  },
  {
   "cell_type": "markdown",
   "id": "61ecbf28",
   "metadata": {
    "papermill": {
     "duration": 0.020388,
     "end_time": "2024-08-04T16:53:12.709271",
     "exception": false,
     "start_time": "2024-08-04T16:53:12.688883",
     "status": "completed"
    },
    "tags": []
   },
   "source": [
    "- Objective 3: Geographic and Demographic Analysis"
   ]
  },
  {
   "cell_type": "code",
   "execution_count": 26,
   "id": "7378c8b4",
   "metadata": {
    "execution": {
     "iopub.execute_input": "2024-08-04T16:53:12.753448Z",
     "iopub.status.busy": "2024-08-04T16:53:12.752622Z",
     "iopub.status.idle": "2024-08-04T16:53:12.763217Z",
     "shell.execute_reply": "2024-08-04T16:53:12.762189Z"
    },
    "papermill": {
     "duration": 0.03594,
     "end_time": "2024-08-04T16:53:12.765742",
     "exception": false,
     "start_time": "2024-08-04T16:53:12.729802",
     "status": "completed"
    },
    "tags": []
   },
   "outputs": [
    {
     "name": "stdout",
     "output_type": "stream",
     "text": [
      "(75486, 9)\n"
     ]
    },
    {
     "data": {
      "text/html": [
       "<div>\n",
       "<style scoped>\n",
       "    .dataframe tbody tr th:only-of-type {\n",
       "        vertical-align: middle;\n",
       "    }\n",
       "\n",
       "    .dataframe tbody tr th {\n",
       "        vertical-align: top;\n",
       "    }\n",
       "\n",
       "    .dataframe thead th {\n",
       "        text-align: right;\n",
       "    }\n",
       "</style>\n",
       "<table border=\"1\" class=\"dataframe\">\n",
       "  <thead>\n",
       "    <tr style=\"text-align: right;\">\n",
       "      <th></th>\n",
       "      <th>BorrowerState</th>\n",
       "      <th>Occupation</th>\n",
       "      <th>EmploymentStatus</th>\n",
       "      <th>IncomeRange</th>\n",
       "      <th>IsBorrowerHomeowner</th>\n",
       "      <th>LoanOriginalAmount</th>\n",
       "      <th>ProsperRating (Alpha)</th>\n",
       "      <th>CreditScoreRangeLower</th>\n",
       "      <th>CreditScoreRangeUpper</th>\n",
       "    </tr>\n",
       "  </thead>\n",
       "  <tbody>\n",
       "    <tr>\n",
       "      <th>1</th>\n",
       "      <td>CO</td>\n",
       "      <td>Professional</td>\n",
       "      <td>Employed</td>\n",
       "      <td>$50,000-74,999</td>\n",
       "      <td>False</td>\n",
       "      <td>10000</td>\n",
       "      <td>A</td>\n",
       "      <td>680.0</td>\n",
       "      <td>699.0</td>\n",
       "    </tr>\n",
       "    <tr>\n",
       "      <th>3</th>\n",
       "      <td>GA</td>\n",
       "      <td>Skilled Labor</td>\n",
       "      <td>Employed</td>\n",
       "      <td>$25,000-49,999</td>\n",
       "      <td>True</td>\n",
       "      <td>10000</td>\n",
       "      <td>A</td>\n",
       "      <td>800.0</td>\n",
       "      <td>819.0</td>\n",
       "    </tr>\n",
       "    <tr>\n",
       "      <th>4</th>\n",
       "      <td>MN</td>\n",
       "      <td>Executive</td>\n",
       "      <td>Employed</td>\n",
       "      <td>$100,000+</td>\n",
       "      <td>True</td>\n",
       "      <td>15000</td>\n",
       "      <td>D</td>\n",
       "      <td>680.0</td>\n",
       "      <td>699.0</td>\n",
       "    </tr>\n",
       "    <tr>\n",
       "      <th>5</th>\n",
       "      <td>NM</td>\n",
       "      <td>Professional</td>\n",
       "      <td>Employed</td>\n",
       "      <td>$100,000+</td>\n",
       "      <td>True</td>\n",
       "      <td>15000</td>\n",
       "      <td>B</td>\n",
       "      <td>740.0</td>\n",
       "      <td>759.0</td>\n",
       "    </tr>\n",
       "    <tr>\n",
       "      <th>6</th>\n",
       "      <td>KS</td>\n",
       "      <td>Sales - Retail</td>\n",
       "      <td>Employed</td>\n",
       "      <td>$25,000-49,999</td>\n",
       "      <td>False</td>\n",
       "      <td>3000</td>\n",
       "      <td>E</td>\n",
       "      <td>680.0</td>\n",
       "      <td>699.0</td>\n",
       "    </tr>\n",
       "  </tbody>\n",
       "</table>\n",
       "</div>"
      ],
      "text/plain": [
       "  BorrowerState      Occupation EmploymentStatus     IncomeRange  \\\n",
       "1            CO    Professional         Employed  $50,000-74,999   \n",
       "3            GA   Skilled Labor         Employed  $25,000-49,999   \n",
       "4            MN       Executive         Employed       $100,000+   \n",
       "5            NM    Professional         Employed       $100,000+   \n",
       "6            KS  Sales - Retail         Employed  $25,000-49,999   \n",
       "\n",
       "   IsBorrowerHomeowner  LoanOriginalAmount ProsperRating (Alpha)  \\\n",
       "1                False               10000                     A   \n",
       "3                 True               10000                     A   \n",
       "4                 True               15000                     D   \n",
       "5                 True               15000                     B   \n",
       "6                False                3000                     E   \n",
       "\n",
       "   CreditScoreRangeLower  CreditScoreRangeUpper  \n",
       "1                  680.0                  699.0  \n",
       "3                  800.0                  819.0  \n",
       "4                  680.0                  699.0  \n",
       "5                  740.0                  759.0  \n",
       "6                  680.0                  699.0  "
      ]
     },
     "execution_count": 26,
     "metadata": {},
     "output_type": "execute_result"
    }
   ],
   "source": [
    "geo_demo_columns = [ 'BorrowerState', 'Occupation', 'EmploymentStatus', 'IncomeRange',\n",
    "    'IsBorrowerHomeowner', 'LoanOriginalAmount', 'ProsperRating (Alpha)', 'CreditScoreRangeLower',\n",
    "    'CreditScoreRangeUpper']\n",
    "\n",
    "geo_demo_df = df[geo_demo_columns]\n",
    "print(geo_demo_df.shape)\n",
    "geo_demo_df.head()"
   ]
  },
  {
   "cell_type": "markdown",
   "id": "4b8c3aba",
   "metadata": {
    "papermill": {
     "duration": 0.020214,
     "end_time": "2024-08-04T16:53:12.890328",
     "exception": false,
     "start_time": "2024-08-04T16:53:12.870114",
     "status": "completed"
    },
    "tags": []
   },
   "source": [
    "## Univariate Exploration\n",
    "\n",
    "> In this section, we are investigating distributions of individual variables. To see unusual points or outliers, take a deeper look to clean things up and prepare yourself to look at relationships between variables. the \"Question-Visualization-Observations\" framework is used throughout the exploration, it involves asking a question from the data, creating a visualization to find answers, and then recording observations after each visualisation."
   ]
  },
  {
   "cell_type": "markdown",
   "id": "ea2a38a7",
   "metadata": {},
   "source": [
    "**1. Loan Status**"
   ]
  },
  {
   "cell_type": "markdown",
   "id": "fc64a74f",
   "metadata": {},
   "source": [
    "> For this visualization, we want to create a simplified version of this columns, since there are multiple values for the Due Past values."
   ]
  },
  {
   "cell_type": "code",
   "execution_count": 27,
   "id": "4739ec91",
   "metadata": {},
   "outputs": [
    {
     "data": {
      "text/plain": [
       "array(['Current', 'Past Due (1-15 days)', 'Defaulted', 'Completed',\n",
       "       'Chargedoff', 'Past Due (16-30 days)', 'Past Due (61-90 days)',\n",
       "       'Past Due (31-60 days)', 'Past Due (91-120 days)',\n",
       "       'FinalPaymentInProgress', 'Past Due (>120 days)'], dtype=object)"
      ]
     },
     "execution_count": 27,
     "metadata": {},
     "output_type": "execute_result"
    }
   ],
   "source": [
    "loan_performance_df['LoanStatus'].unique()"
   ]
  },
  {
   "cell_type": "code",
   "execution_count": 28,
   "id": "6bd8ffb6",
   "metadata": {},
   "outputs": [
    {
     "name": "stderr",
     "output_type": "stream",
     "text": [
      "C:\\Users\\SS\\AppData\\Local\\Temp\\ipykernel_29904\\3862042336.py:1: SettingWithCopyWarning: \n",
      "A value is trying to be set on a copy of a slice from a DataFrame.\n",
      "Try using .loc[row_indexer,col_indexer] = value instead\n",
      "\n",
      "See the caveats in the documentation: https://pandas.pydata.org/pandas-docs/stable/user_guide/indexing.html#returning-a-view-versus-a-copy\n",
      "  loan_performance_df['SimplifiedLoanStatus'] = loan_performance_df['LoanStatus'].apply(lambda x: 'Past Due' if 'Past Due' in x else x)\n"
     ]
    },
    {
     "data": {
      "text/html": [
       "<div>\n",
       "<style scoped>\n",
       "    .dataframe tbody tr th:only-of-type {\n",
       "        vertical-align: middle;\n",
       "    }\n",
       "\n",
       "    .dataframe tbody tr th {\n",
       "        vertical-align: top;\n",
       "    }\n",
       "\n",
       "    .dataframe thead th {\n",
       "        text-align: right;\n",
       "    }\n",
       "</style>\n",
       "<table border=\"1\" class=\"dataframe\">\n",
       "  <thead>\n",
       "    <tr style=\"text-align: right;\">\n",
       "      <th></th>\n",
       "      <th>LoanStatus</th>\n",
       "      <th>LoanCurrentDaysDelinquent</th>\n",
       "      <th>LoanMonthsSinceOrigination</th>\n",
       "      <th>LoanOriginalAmount</th>\n",
       "      <th>BorrowerAPR</th>\n",
       "      <th>DebtToIncomeRatio</th>\n",
       "      <th>CreditScoreRangeLower</th>\n",
       "      <th>CreditScoreRangeUpper</th>\n",
       "      <th>ProsperScore</th>\n",
       "      <th>EmploymentStatus</th>\n",
       "      <th>IsBorrowerHomeowner</th>\n",
       "      <th>SimplifiedLoanStatus</th>\n",
       "    </tr>\n",
       "  </thead>\n",
       "  <tbody>\n",
       "    <tr>\n",
       "      <th>1</th>\n",
       "      <td>Current</td>\n",
       "      <td>0</td>\n",
       "      <td>0</td>\n",
       "      <td>10000</td>\n",
       "      <td>0.12016</td>\n",
       "      <td>0.18</td>\n",
       "      <td>680.0</td>\n",
       "      <td>699.0</td>\n",
       "      <td>7.0</td>\n",
       "      <td>Employed</td>\n",
       "      <td>False</td>\n",
       "      <td>Current</td>\n",
       "    </tr>\n",
       "    <tr>\n",
       "      <th>3</th>\n",
       "      <td>Current</td>\n",
       "      <td>0</td>\n",
       "      <td>16</td>\n",
       "      <td>10000</td>\n",
       "      <td>0.12528</td>\n",
       "      <td>0.15</td>\n",
       "      <td>800.0</td>\n",
       "      <td>819.0</td>\n",
       "      <td>9.0</td>\n",
       "      <td>Employed</td>\n",
       "      <td>True</td>\n",
       "      <td>Current</td>\n",
       "    </tr>\n",
       "    <tr>\n",
       "      <th>4</th>\n",
       "      <td>Current</td>\n",
       "      <td>0</td>\n",
       "      <td>6</td>\n",
       "      <td>15000</td>\n",
       "      <td>0.24614</td>\n",
       "      <td>0.26</td>\n",
       "      <td>680.0</td>\n",
       "      <td>699.0</td>\n",
       "      <td>4.0</td>\n",
       "      <td>Employed</td>\n",
       "      <td>True</td>\n",
       "      <td>Current</td>\n",
       "    </tr>\n",
       "    <tr>\n",
       "      <th>5</th>\n",
       "      <td>Current</td>\n",
       "      <td>0</td>\n",
       "      <td>3</td>\n",
       "      <td>15000</td>\n",
       "      <td>0.15425</td>\n",
       "      <td>0.36</td>\n",
       "      <td>740.0</td>\n",
       "      <td>759.0</td>\n",
       "      <td>10.0</td>\n",
       "      <td>Employed</td>\n",
       "      <td>True</td>\n",
       "      <td>Current</td>\n",
       "    </tr>\n",
       "    <tr>\n",
       "      <th>6</th>\n",
       "      <td>Current</td>\n",
       "      <td>0</td>\n",
       "      <td>11</td>\n",
       "      <td>3000</td>\n",
       "      <td>0.31032</td>\n",
       "      <td>0.27</td>\n",
       "      <td>680.0</td>\n",
       "      <td>699.0</td>\n",
       "      <td>2.0</td>\n",
       "      <td>Employed</td>\n",
       "      <td>False</td>\n",
       "      <td>Current</td>\n",
       "    </tr>\n",
       "    <tr>\n",
       "      <th>7</th>\n",
       "      <td>Current</td>\n",
       "      <td>0</td>\n",
       "      <td>10</td>\n",
       "      <td>10000</td>\n",
       "      <td>0.23939</td>\n",
       "      <td>0.24</td>\n",
       "      <td>700.0</td>\n",
       "      <td>719.0</td>\n",
       "      <td>4.0</td>\n",
       "      <td>Employed</td>\n",
       "      <td>False</td>\n",
       "      <td>Current</td>\n",
       "    </tr>\n",
       "    <tr>\n",
       "      <th>8</th>\n",
       "      <td>Current</td>\n",
       "      <td>0</td>\n",
       "      <td>3</td>\n",
       "      <td>10000</td>\n",
       "      <td>0.07620</td>\n",
       "      <td>0.25</td>\n",
       "      <td>820.0</td>\n",
       "      <td>839.0</td>\n",
       "      <td>9.0</td>\n",
       "      <td>Employed</td>\n",
       "      <td>True</td>\n",
       "      <td>Current</td>\n",
       "    </tr>\n",
       "    <tr>\n",
       "      <th>10</th>\n",
       "      <td>Current</td>\n",
       "      <td>0</td>\n",
       "      <td>22</td>\n",
       "      <td>13500</td>\n",
       "      <td>0.27462</td>\n",
       "      <td>0.12</td>\n",
       "      <td>640.0</td>\n",
       "      <td>659.0</td>\n",
       "      <td>7.0</td>\n",
       "      <td>Employed</td>\n",
       "      <td>False</td>\n",
       "      <td>Current</td>\n",
       "    </tr>\n",
       "    <tr>\n",
       "      <th>12</th>\n",
       "      <td>Past Due (1-15 days)</td>\n",
       "      <td>3</td>\n",
       "      <td>2</td>\n",
       "      <td>4000</td>\n",
       "      <td>0.17969</td>\n",
       "      <td>0.18</td>\n",
       "      <td>680.0</td>\n",
       "      <td>699.0</td>\n",
       "      <td>4.0</td>\n",
       "      <td>Employed</td>\n",
       "      <td>False</td>\n",
       "      <td>Past Due</td>\n",
       "    </tr>\n",
       "    <tr>\n",
       "      <th>13</th>\n",
       "      <td>Current</td>\n",
       "      <td>0</td>\n",
       "      <td>8</td>\n",
       "      <td>8500</td>\n",
       "      <td>0.13138</td>\n",
       "      <td>0.09</td>\n",
       "      <td>740.0</td>\n",
       "      <td>759.0</td>\n",
       "      <td>8.0</td>\n",
       "      <td>Employed</td>\n",
       "      <td>True</td>\n",
       "      <td>Current</td>\n",
       "    </tr>\n",
       "  </tbody>\n",
       "</table>\n",
       "</div>"
      ],
      "text/plain": [
       "              LoanStatus  LoanCurrentDaysDelinquent  \\\n",
       "1                Current                          0   \n",
       "3                Current                          0   \n",
       "4                Current                          0   \n",
       "5                Current                          0   \n",
       "6                Current                          0   \n",
       "7                Current                          0   \n",
       "8                Current                          0   \n",
       "10               Current                          0   \n",
       "12  Past Due (1-15 days)                          3   \n",
       "13               Current                          0   \n",
       "\n",
       "    LoanMonthsSinceOrigination  LoanOriginalAmount  BorrowerAPR  \\\n",
       "1                            0               10000      0.12016   \n",
       "3                           16               10000      0.12528   \n",
       "4                            6               15000      0.24614   \n",
       "5                            3               15000      0.15425   \n",
       "6                           11                3000      0.31032   \n",
       "7                           10               10000      0.23939   \n",
       "8                            3               10000      0.07620   \n",
       "10                          22               13500      0.27462   \n",
       "12                           2                4000      0.17969   \n",
       "13                           8                8500      0.13138   \n",
       "\n",
       "    DebtToIncomeRatio  CreditScoreRangeLower  CreditScoreRangeUpper  \\\n",
       "1                0.18                  680.0                  699.0   \n",
       "3                0.15                  800.0                  819.0   \n",
       "4                0.26                  680.0                  699.0   \n",
       "5                0.36                  740.0                  759.0   \n",
       "6                0.27                  680.0                  699.0   \n",
       "7                0.24                  700.0                  719.0   \n",
       "8                0.25                  820.0                  839.0   \n",
       "10               0.12                  640.0                  659.0   \n",
       "12               0.18                  680.0                  699.0   \n",
       "13               0.09                  740.0                  759.0   \n",
       "\n",
       "    ProsperScore EmploymentStatus  IsBorrowerHomeowner SimplifiedLoanStatus  \n",
       "1            7.0         Employed                False              Current  \n",
       "3            9.0         Employed                 True              Current  \n",
       "4            4.0         Employed                 True              Current  \n",
       "5           10.0         Employed                 True              Current  \n",
       "6            2.0         Employed                False              Current  \n",
       "7            4.0         Employed                False              Current  \n",
       "8            9.0         Employed                 True              Current  \n",
       "10           7.0         Employed                False              Current  \n",
       "12           4.0         Employed                False             Past Due  \n",
       "13           8.0         Employed                 True              Current  "
      ]
     },
     "execution_count": 28,
     "metadata": {},
     "output_type": "execute_result"
    }
   ],
   "source": [
    "loan_performance_df['SimplifiedLoanStatus'] = loan_performance_df['LoanStatus'].apply(lambda x: 'Past Due' if 'Past Due' in x else x)\n",
    "loan_performance_df.head(10)"
   ]
  },
  {
   "cell_type": "markdown",
   "id": "c0956c36",
   "metadata": {},
   "source": [
    "**Question**: What are the distribution of the Loan Statuses?"
   ]
  },
  {
   "cell_type": "code",
   "execution_count": 33,
   "id": "082ba98f",
   "metadata": {
    "papermill": {
     "duration": 0.020316,
     "end_time": "2024-08-04T16:53:12.931907",
     "exception": false,
     "start_time": "2024-08-04T16:53:12.911591",
     "status": "completed"
    },
    "tags": []
   },
   "outputs": [
    {
     "data": {
      "image/png": "[encoded data removed]",
      "text/plain": [
       "<Figure size 1000x500 with 1 Axes>"
      ]
     },
     "metadata": {},
     "output_type": "display_data"
    }
   ],
   "source": [
    "plt.figure(figsize=(10, 5))\n",
    "sns.countplot(data = loan_performance_df, y = 'SimplifiedLoanStatus', color = 'purple')\n",
    "plt.xlabel('Statuse')\n",
    "plt.title('What are the distribution of the Loan Statuses?');"
   ]
  },
  {
   "cell_type": "markdown",
   "id": "93d05070",
   "metadata": {},
   "source": [
    "> It seems that the majority status among the loan statuses is the `current` which is 50462, While the completed are success story they are  `17675`. The chargedoff however are 4444 cases they are failed loans. While the `deafulted` are the cases in danger of `chargedoff` they reach 885. And the past due are slightly larger 1835 but still not in danger of charge off. \n",
    "\n",
    "> The chraged off and the deafulted represntts the actual risks for these loans.\n",
    "\n",
    "> Nothing unusual with this distribution."
   ]
  },
  {
   "cell_type": "markdown",
   "id": "d681889b",
   "metadata": {},
   "source": [
    "**2. The Loan Original Amount**\n",
    "\n",
    "Let's take a look into the Loan Original Amounts."
   ]
  },
  {
   "cell_type": "code",
   "execution_count": 34,
   "id": "9552dd1b",
   "metadata": {},
   "outputs": [
    {
     "data": {
      "image/png": "[encoded data removed]",
      "text/plain": [
       "<Figure size 1000x500 with 1 Axes>"
      ]
     },
     "metadata": {},
     "output_type": "display_data"
    }
   ],
   "source": [
    "plt.figure(figsize=(10, 5))\n",
    "sns.histplot(data= credit_borrower_df,  x = 'LoanOriginalAmount', bins=20, kde= True, color = 'purple')\n",
    "plt.title('What is the distribution of the Loan Original Amount?')\n",
    "plt.ylabel('Count')\n",
    "plt.xlim(1000)\n",
    "plt.xlabel('Loan Original Amount');"
   ]
  },
  {
   "cell_type": "markdown",
   "id": "46cb1c99",
   "metadata": {},
   "source": [
    "> The distribution of the Loan Original Amount is right skewed, with multiple peaks suggesting distinct borrower groups. Most loans are relatively small, but there are outliers indicating larger, less frequent loan amounts. However these are numerical outliers but valid values for a given loan amount, so doesn't need to be handled."
   ]
  },
  {
   "cell_type": "markdown",
   "id": "1fc6449f",
   "metadata": {},
   "source": [
    "**3. Borrower State**\n",
    "\n",
    "Which states are the borrowers from?"
   ]
  },
  {
   "cell_type": "code",
   "execution_count": 35,
   "id": "2e01e956",
   "metadata": {},
   "outputs": [
    {
     "data": {
      "image/png": "[encoded data removed]",
      "text/plain": [
       "<Figure size 1000x500 with 1 Axes>"
      ]
     },
     "metadata": {},
     "output_type": "display_data"
    }
   ],
   "source": [
    "plt.figure(figsize=(10, 5))\n",
    "ax = sns.barplot(geo_demo_df['BorrowerState'].value_counts(), color = 'purple')\n",
    "plt.title('Which states are the borrowers from?')\n",
    "plt.xlabel('State')\n",
    "plt.xticks(rotation = 45);"
   ]
  },
  {
   "cell_type": "markdown",
   "id": "6b00fdc9",
   "metadata": {},
   "source": [
    "> California boasts the highest number of borrowers among all US states, followed closely by Texas, New York, and Florida. On the other end of the spectrum, states like South Dakota, Alaska, Vermont, and Wyoming have significantly lower borrower counts.\n",
    "\n",
    "> California is an unpper bound outlier, however this is numerically and valid values that will not be handled."
   ]
  },
  {
   "cell_type": "markdown",
   "id": "b863114f",
   "metadata": {
    "papermill": {
     "duration": 0.020305,
     "end_time": "2024-08-04T16:53:13.014055",
     "exception": false,
     "start_time": "2024-08-04T16:53:12.993750",
     "status": "completed"
    },
    "tags": []
   },
   "source": [
    "## Bivariate Exploration\n",
    "\n",
    "> In this section, relationships between pairs of variables in the data are investigated. The variables of intreset that have been introduced in the previous sections."
   ]
  },
  {
   "cell_type": "code",
   "execution_count": 36,
   "id": "41797816",
   "metadata": {
    "papermill": {
     "duration": 0.020212,
     "end_time": "2024-08-04T16:53:13.055551",
     "exception": false,
     "start_time": "2024-08-04T16:53:13.035339",
     "status": "completed"
    },
    "tags": []
   },
   "outputs": [
    {
     "data": {
      "image/png": "[encoded data removed]",
      "text/plain": [
       "<Figure size 1000x600 with 1 Axes>"
      ]
     },
     "metadata": {},
     "output_type": "display_data"
    }
   ],
   "source": [
    "plt.figure(figsize=(10, 6))\n",
    "sns.scatterplot(data= loan_performance_df, x='LoanOriginalAmount', y='CreditScoreRangeUpper', alpha=0.3)\n",
    "plt.title('Scatter Plot of Borrower APR vs. Loan Original Amount')\n",
    "plt.xlabel('Loan Original Amount')\n",
    "plt.ylabel('Borrower APR')\n",
    "plt.show()"
   ]
  },
  {
   "cell_type": "code",
   "execution_count": 37,
   "id": "0f19e3b3",
   "metadata": {},
   "outputs": [
    {
     "data": {
      "image/png": "[encoded data removed]",
      "text/plain": [
       "<Figure size 1200x600 with 1 Axes>"
      ]
     },
     "metadata": {},
     "output_type": "display_data"
    }
   ],
   "source": [
    "plt.figure(figsize=(12, 6))\n",
    "sns.boxplot(data=loan_performance_df, x='SimplifiedLoanStatus', y='LoanOriginalAmount')\n",
    "plt.title('Box Plot of Loan Original Amount by Loan Status')\n",
    "plt.xlabel('Loan Status')\n",
    "plt.ylabel('Loan Original Amount')\n",
    "plt.xticks(rotation=45)\n",
    "plt.show()"
   ]
  },
  {
   "cell_type": "code",
   "execution_count": 40,
   "id": "d8e01b5a",
   "metadata": {},
   "outputs": [
    {
     "data": {
      "image/png": "[encoded data removed]",
      "text/plain": [
       "<Figure size 1200x600 with 1 Axes>"
      ]
     },
     "metadata": {},
     "output_type": "display_data"
    }
   ],
   "source": [
    "plt.figure(figsize=(12, 6))\n",
    "sns.boxplot(data=credit_borrower_df, x='EmploymentStatus', y='CreditScoreRangeLower')\n",
    "plt.title('Box Plot of Credit Score Range Lower by Employment Status')\n",
    "plt.xlabel('Employment Status')\n",
    "plt.ylabel('Credit Score Range Lower')\n",
    "plt.xticks(rotation=45);"
   ]
  },
  {
   "cell_type": "code",
   "execution_count": 41,
   "id": "1cd84f53",
   "metadata": {},
   "outputs": [
    {
     "name": "stderr",
     "output_type": "stream",
     "text": [
      "C:\\Users\\SS\\AppData\\Local\\Temp\\ipykernel_29904\\2319493912.py:1: SettingWithCopyWarning: \n",
      "A value is trying to be set on a copy of a slice from a DataFrame.\n",
      "Try using .loc[row_indexer,col_indexer] = value instead\n",
      "\n",
      "See the caveats in the documentation: https://pandas.pydata.org/pandas-docs/stable/user_guide/indexing.html#returning-a-view-versus-a-copy\n",
      "  geo_demo_df['SimplifiedLoanStatus'] = loan_performance_df['SimplifiedLoanStatus']\n"
     ]
    }
   ],
   "source": [
    "geo_demo_df['SimplifiedLoanStatus'] = loan_performance_df['SimplifiedLoanStatus']"
   ]
  },
  {
   "cell_type": "code",
   "execution_count": 42,
   "id": "4fb23ad7",
   "metadata": {},
   "outputs": [
    {
     "data": {
      "text/plain": [
       "Index(['BorrowerState', 'Occupation', 'EmploymentStatus', 'IncomeRange',\n",
       "       'IsBorrowerHomeowner', 'LoanOriginalAmount', 'ProsperRating (Alpha)',\n",
       "       'CreditScoreRangeLower', 'CreditScoreRangeUpper',\n",
       "       'SimplifiedLoanStatus'],\n",
       "      dtype='object')"
      ]
     },
     "execution_count": 42,
     "metadata": {},
     "output_type": "execute_result"
    }
   ],
   "source": [
    "geo_demo_df.columns"
   ]
  },
  {
   "cell_type": "code",
   "execution_count": 48,
   "id": "5fb961d3",
   "metadata": {},
   "outputs": [
    {
     "data": {
      "image/png": "[encoded data removed]",
      "text/plain": [
       "<Figure size 1400x800 with 1 Axes>"
      ]
     },
     "metadata": {},
     "output_type": "display_data"
    }
   ],
   "source": [
    "plt.figure(figsize=(14, 8))\n",
    "sns.countplot(data=geo_demo_df, x='EmploymentStatus', hue='SimplifiedLoanStatus', palette='viridis')\n",
    "plt.title('Clustered Bar Chart of Loan Status by Employment Status')\n",
    "plt.xlabel('Employment Status')\n",
    "plt.ylabel('Count')\n",
    "plt.legend(title='Is Borrower Home owner?')\n",
    "plt.xticks(rotation=45);"
   ]
  },
  {
   "cell_type": "markdown",
   "id": "14a0c2b9",
   "metadata": {
    "papermill": {
     "duration": 0.021856,
     "end_time": "2024-08-04T16:53:13.098895",
     "exception": false,
     "start_time": "2024-08-04T16:53:13.077039",
     "status": "completed"
    },
    "tags": []
   },
   "source": [
    "### Talk about some of the relationships you observed in this part of the investigation. How did the feature(s) of interest vary with other features in the dataset?\n",
    "\n",
    "> Your answer here!\n",
    "\n",
    "### Did you observe any interesting relationships between the other features (not the main feature(s) of interest)?\n",
    "\n",
    "> Your answer here!"
   ]
  },
  {
   "cell_type": "markdown",
   "id": "450d0672",
   "metadata": {
    "papermill": {
     "duration": 0.020671,
     "end_time": "2024-08-04T16:53:13.140289",
     "exception": false,
     "start_time": "2024-08-04T16:53:13.119618",
     "status": "completed"
    },
    "tags": []
   },
   "source": [
    "## Multivariate Exploration\n",
    "\n",
    "> Create plots of three or more variables to investigate your data even\n",
    "further. Make sure that your investigations are justified, and follow from\n",
    "your work in the previous sections.\n",
    "\n",
    "> **Rubric Tip**: This part (Multivariate Exploration) should include at least one Facet Plot, and one Plot Matrix or Scatterplot with multiple encodings.\n",
    "\n",
    ">**Rubric Tip**: Think carefully about how you encode variables. Choose appropriate color schemes, markers, or even how Facets are chosen. Also, do not overplot or incorrectly plot ordinal data."
   ]
  },
  {
   "cell_type": "code",
   "execution_count": null,
   "id": "5240f596",
   "metadata": {
    "papermill": {
     "duration": 0.020283,
     "end_time": "2024-08-04T16:53:13.181571",
     "exception": false,
     "start_time": "2024-08-04T16:53:13.161288",
     "status": "completed"
    },
    "tags": []
   },
   "outputs": [],
   "source": []
  },
  {
   "cell_type": "markdown",
   "id": "c7e311f4",
   "metadata": {
    "papermill": {
     "duration": 0.020207,
     "end_time": "2024-08-04T16:53:13.222261",
     "exception": false,
     "start_time": "2024-08-04T16:53:13.202054",
     "status": "completed"
    },
    "tags": []
   },
   "source": [
    "### Talk about some of the relationships you observed in this part of the investigation. Were there features that strengthened each other in terms of looking at your feature(s) of interest?\n",
    "\n",
    "> Your answer here!\n",
    "\n",
    "### Were there any interesting or surprising interactions between features?\n",
    "\n",
    "> Your answer here!"
   ]
  },
  {
   "cell_type": "markdown",
   "id": "08cb47a9",
   "metadata": {
    "papermill": {
     "duration": 0.020216,
     "end_time": "2024-08-04T16:53:13.262923",
     "exception": false,
     "start_time": "2024-08-04T16:53:13.242707",
     "status": "completed"
    },
    "tags": []
   },
   "source": [
    "## Conclusions\n",
    ">You can write a summary of the main findings and reflect on the steps taken during the data exploration.\n",
    "\n",
    "> **Rubric Tip**: Create a list of summary findings to make it easy to review."
   ]
  },
  {
   "cell_type": "markdown",
   "id": "b018655e",
   "metadata": {
    "papermill": {
     "duration": 0.020003,
     "end_time": "2024-08-04T16:53:13.303269",
     "exception": false,
     "start_time": "2024-08-04T16:53:13.283266",
     "status": "completed"
    },
    "tags": []
   },
   "source": [
    "> Remove all Tips mentioned above, before you convert this notebook to PDF/HTML.\n",
    "\n",
    "\n",
    "> At the end of your report, make sure that you export the notebook as an html file from the `File > Download as... > HTML or PDF` menu. Make sure you keep track of where the exported file goes, so you can put it in the same folder as this notebook for project submission. Also, make sure you remove all of the quote-formatted guide notes like this one before you finish your report!\n",
    "\n"
   ]
  },
  {
   "cell_type": "code",
   "execution_count": null,
   "id": "329550f8",
   "metadata": {
    "papermill": {
     "duration": 0.020133,
     "end_time": "2024-08-04T16:53:13.343928",
     "exception": false,
     "start_time": "2024-08-04T16:53:13.323795",
     "status": "completed"
    },
    "tags": []
   },
   "outputs": [],
   "source": []
  },
  {
   "cell_type": "code",
   "execution_count": null,
   "id": "39561662",
   "metadata": {
    "papermill": {
     "duration": 0.020032,
     "end_time": "2024-08-04T16:53:13.384353",
     "exception": false,
     "start_time": "2024-08-04T16:53:13.364321",
     "status": "completed"
    },
    "tags": []
   },
   "outputs": [],
   "source": []
  }
 ],
 "metadata": {
  "kaggle": {
   "accelerator": "none",
   "dataSources": [
    {
     "datasetId": 109271,
     "sourceId": 261041,
     "sourceType": "datasetVersion"
    }
   ],
   "dockerImageVersionId": 30746,
   "isGpuEnabled": false,
   "isInternetEnabled": true,
   "language": "python",
   "sourceType": "notebook"
  },
  "kernelspec": {
   "display_name": "Python 3",
   "language": "python",
   "name": "python3"
  },
  "language_info": {
   "codemirror_mode": {
    "name": "ipython",
    "version": 3
   },
   "file_extension": ".py",
   "mimetype": "text/x-python",
   "name": "python",
   "nbconvert_exporter": "python",
   "pygments_lexer": "ipython3",
   "version": "3.11.0"
  },
  "papermill": {
   "default_parameters": {},
   "duration": 14.706643,
   "end_time": "2024-08-04T16:53:14.028354",
   "environment_variables": {},
   "exception": null,
   "input_path": "__notebook__.ipynb",
   "output_path": "__notebook__.ipynb",
   "parameters": {},
   "start_time": "2024-08-04T16:52:59.321711",
   "version": "2.5.0"
  }
 },
 "nbformat": 4,
 "nbformat_minor": 5
}
